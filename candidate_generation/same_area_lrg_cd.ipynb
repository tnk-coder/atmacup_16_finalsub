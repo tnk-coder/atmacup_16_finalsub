{
 "cells": [
  {
   "cell_type": "code",
   "execution_count": 1,
   "metadata": {},
   "outputs": [],
   "source": [
    "import pandas as pd\n",
    "import numpy as np\n",
    "import matplotlib.pyplot as plt\n",
    "import seaborn as sns\n",
    "from tqdm import tqdm"
   ]
  },
  {
   "cell_type": "code",
   "execution_count": 2,
   "metadata": {},
   "outputs": [],
   "source": [
    "import sys\n",
    "sys.path.append('../')\n",
    "\n",
    "from myutils.metrics import mapk"
   ]
  },
  {
   "cell_type": "code",
   "execution_count": 3,
   "metadata": {},
   "outputs": [],
   "source": [
    "train_log_df = pd.read_csv('../datasets/atmaCup16_Dataset/train_log.csv')\n",
    "train_df = pd.read_csv('../datasets/atmaCup16_Dataset/train_label.csv')\n",
    "test_log_df = pd.read_csv('../datasets/atmaCup16_Dataset/test_log.csv')\n",
    "yado_df = pd.read_csv('../datasets/atmaCup16_Dataset/yado.csv')\n",
    "\n",
    "train_session_only_df = train_df[['session_id']]\n",
    "test_session_only_df = pd.read_csv('../datasets/atmaCup16_Dataset/test_session.csv')"
   ]
  },
  {
   "cell_type": "code",
   "execution_count": 4,
   "metadata": {},
   "outputs": [],
   "source": [
    "train_test_log_df = pd.concat([train_log_df, test_log_df], axis=0).reset_index(drop=True)"
   ]
  },
  {
   "cell_type": "code",
   "execution_count": 5,
   "metadata": {},
   "outputs": [
    {
     "data": {
      "text/plain": [
       "lrg_cd\n",
       "7763c74e2efa67a522125d9d3d7dde25    227\n",
       "c9d5e891463e5389c42d16f987ed30bd    202\n",
       "e5cfcc0a43c82072aca11628ff0add53    195\n",
       "e2034d4f2fbe0874f8ac58f6f111f182    192\n",
       "9ab5718fd88c6e5f9fec37a51827d428    179\n",
       "                                   ... \n",
       "6d99b27a34445e288d72865bb705143d      6\n",
       "d30b0e6b0acec0fe0d185ae8c0e876dd      6\n",
       "b3272116f48a31145befc8bcfd87b028      6\n",
       "0f264346fe37eb6227714aa472bd039a      5\n",
       "1fc2b77a4e271d198b1a4bfdbda85490      5\n",
       "Name: count, Length: 299, dtype: int64"
      ]
     },
     "execution_count": 5,
     "metadata": {},
     "output_type": "execute_result"
    }
   ],
   "source": [
    "yado_df['lrg_cd'].value_counts()"
   ]
  },
  {
   "cell_type": "code",
   "execution_count": 6,
   "metadata": {},
   "outputs": [
    {
     "data": {
      "text/plain": [
       "\"\\ntrain_log_session_yad_df = train_log_df.groupby('session_id')['yad_no'].apply(lambda x: x.values[-1])\\ntrain_log_session_yad_df = train_log_session_yad_df.reset_index()\\n\\nlast_item_df = pd.merge(train_df[['session_id']], train_log_session_yad_df, on='session_id', how='left')\\nlast_item_df = pd.merge(last_item_df, yado_df[['yad_no', 'lrg_cd']], on='yad_no',how='left')\\n\""
      ]
     },
     "execution_count": 6,
     "metadata": {},
     "output_type": "execute_result"
    }
   ],
   "source": [
    "\"\"\"\n",
    "train_log_session_yad_df = train_log_df.groupby('session_id')['yad_no'].apply(lambda x: x.values[-1])\n",
    "train_log_session_yad_df = train_log_session_yad_df.reset_index()\n",
    "\n",
    "last_item_df = pd.merge(train_df[['session_id']], train_log_session_yad_df, on='session_id', how='left')\n",
    "last_item_df = pd.merge(last_item_df, yado_df[['yad_no', 'lrg_cd']], on='yad_no',how='left')\n",
    "\"\"\""
   ]
  },
  {
   "cell_type": "code",
   "execution_count": 7,
   "metadata": {},
   "outputs": [],
   "source": [
    "lrg_cd_to_yad_dict = yado_df.groupby('lrg_cd')['yad_no'].apply(lambda x: x.tolist()).to_dict()"
   ]
  },
  {
   "cell_type": "code",
   "execution_count": 8,
   "metadata": {},
   "outputs": [],
   "source": [
    "from collections import defaultdict, Counter\n",
    "counter = Counter(train_test_log_df['yad_no'].values)\n",
    "\n",
    "# counterの値で、yad_noをソート\n",
    "for lrg_cd in lrg_cd_to_yad_dict.keys():\n",
    "    lrg_cd_to_yad_dict[lrg_cd] = sorted(lrg_cd_to_yad_dict[lrg_cd], key=lambda x: counter[x], reverse=True)"
   ]
  },
  {
   "cell_type": "markdown",
   "metadata": {},
   "source": [
    "## recall計算用\n",
    "\n",
    "recall: 0.9384928194861066"
   ]
  },
  {
   "cell_type": "code",
   "execution_count": 9,
   "metadata": {},
   "outputs": [],
   "source": [
    "def calc_recall(train_df, yado_df):\n",
    "    # train_df = pd.merge(train_df, yado_df[['yad_no', 'lrg_cd']], on='yad_no', how='left')\n",
    "    \n",
    "    session_df = train_log_df.groupby('session_id')['yad_no'].apply(lambda x: x.values[-1]).reset_index()\n",
    "    session_df = pd.merge(train_session_only_df, session_df, on='session_id', how='left')\n",
    "\n",
    "    session_df = pd.merge(session_df, yado_df[['yad_no', 'lrg_cd']], on='yad_no', how='left')\n",
    "\n",
    "    cnt = 0\n",
    "    for last_item, lrg_cd, true_item in zip(session_df['yad_no'].values, session_df['lrg_cd'].values, train_df['yad_no'].values):\n",
    "        if true_item in lrg_cd_to_yad_dict[lrg_cd]:\n",
    "            cnt += 1\n",
    "    print(cnt / len(train_df))\n",
    "# calc_recall(train_df, yado_df)\n",
    "\n"
   ]
  },
  {
   "cell_type": "code",
   "execution_count": 10,
   "metadata": {},
   "outputs": [],
   "source": [
    "results = []\n",
    "\n",
    "for lrg_cd in lrg_cd_to_yad_dict.keys():\n",
    "    yad_no_list = lrg_cd_to_yad_dict[lrg_cd]\n",
    "\n",
    "    # for yad_no in yad_no_list[:20]:\n",
    "    for yad_no in yad_no_list:\n",
    "        results.append([lrg_cd, yad_no, counter[yad_no]])\n",
    "\n",
    "lrg_cd_count_df = pd.DataFrame(results, columns=['lrg_cd', 'yad_no', 'count'])"
   ]
  },
  {
   "cell_type": "code",
   "execution_count": 11,
   "metadata": {},
   "outputs": [
    {
     "data": {
      "text/html": [
       "<div>\n",
       "<style scoped>\n",
       "    .dataframe tbody tr th:only-of-type {\n",
       "        vertical-align: middle;\n",
       "    }\n",
       "\n",
       "    .dataframe tbody tr th {\n",
       "        vertical-align: top;\n",
       "    }\n",
       "\n",
       "    .dataframe thead th {\n",
       "        text-align: right;\n",
       "    }\n",
       "</style>\n",
       "<table border=\"1\" class=\"dataframe\">\n",
       "  <thead>\n",
       "    <tr style=\"text-align: right;\">\n",
       "      <th></th>\n",
       "      <th>lrg_cd</th>\n",
       "      <th>yad_no</th>\n",
       "      <th>count</th>\n",
       "    </tr>\n",
       "  </thead>\n",
       "  <tbody>\n",
       "    <tr>\n",
       "      <th>0</th>\n",
       "      <td>0154defaec6c10404d20ecd556b6bd10</td>\n",
       "      <td>6605</td>\n",
       "      <td>350</td>\n",
       "    </tr>\n",
       "    <tr>\n",
       "      <th>1</th>\n",
       "      <td>0154defaec6c10404d20ecd556b6bd10</td>\n",
       "      <td>2843</td>\n",
       "      <td>338</td>\n",
       "    </tr>\n",
       "    <tr>\n",
       "      <th>2</th>\n",
       "      <td>0154defaec6c10404d20ecd556b6bd10</td>\n",
       "      <td>7215</td>\n",
       "      <td>237</td>\n",
       "    </tr>\n",
       "    <tr>\n",
       "      <th>3</th>\n",
       "      <td>0154defaec6c10404d20ecd556b6bd10</td>\n",
       "      <td>5567</td>\n",
       "      <td>178</td>\n",
       "    </tr>\n",
       "    <tr>\n",
       "      <th>4</th>\n",
       "      <td>0154defaec6c10404d20ecd556b6bd10</td>\n",
       "      <td>3485</td>\n",
       "      <td>155</td>\n",
       "    </tr>\n",
       "    <tr>\n",
       "      <th>...</th>\n",
       "      <td>...</td>\n",
       "      <td>...</td>\n",
       "      <td>...</td>\n",
       "    </tr>\n",
       "    <tr>\n",
       "      <th>13801</th>\n",
       "      <td>ff6cf77545873220271ee1894fbe85ed</td>\n",
       "      <td>10479</td>\n",
       "      <td>2</td>\n",
       "    </tr>\n",
       "    <tr>\n",
       "      <th>13802</th>\n",
       "      <td>ff6cf77545873220271ee1894fbe85ed</td>\n",
       "      <td>13759</td>\n",
       "      <td>2</td>\n",
       "    </tr>\n",
       "    <tr>\n",
       "      <th>13803</th>\n",
       "      <td>ff6cf77545873220271ee1894fbe85ed</td>\n",
       "      <td>4459</td>\n",
       "      <td>1</td>\n",
       "    </tr>\n",
       "    <tr>\n",
       "      <th>13804</th>\n",
       "      <td>ff6cf77545873220271ee1894fbe85ed</td>\n",
       "      <td>11106</td>\n",
       "      <td>1</td>\n",
       "    </tr>\n",
       "    <tr>\n",
       "      <th>13805</th>\n",
       "      <td>ff6cf77545873220271ee1894fbe85ed</td>\n",
       "      <td>10187</td>\n",
       "      <td>0</td>\n",
       "    </tr>\n",
       "  </tbody>\n",
       "</table>\n",
       "<p>13806 rows × 3 columns</p>\n",
       "</div>"
      ],
      "text/plain": [
       "                                 lrg_cd  yad_no  count\n",
       "0      0154defaec6c10404d20ecd556b6bd10    6605    350\n",
       "1      0154defaec6c10404d20ecd556b6bd10    2843    338\n",
       "2      0154defaec6c10404d20ecd556b6bd10    7215    237\n",
       "3      0154defaec6c10404d20ecd556b6bd10    5567    178\n",
       "4      0154defaec6c10404d20ecd556b6bd10    3485    155\n",
       "...                                 ...     ...    ...\n",
       "13801  ff6cf77545873220271ee1894fbe85ed   10479      2\n",
       "13802  ff6cf77545873220271ee1894fbe85ed   13759      2\n",
       "13803  ff6cf77545873220271ee1894fbe85ed    4459      1\n",
       "13804  ff6cf77545873220271ee1894fbe85ed   11106      1\n",
       "13805  ff6cf77545873220271ee1894fbe85ed   10187      0\n",
       "\n",
       "[13806 rows x 3 columns]"
      ]
     },
     "execution_count": 11,
     "metadata": {},
     "output_type": "execute_result"
    }
   ],
   "source": [
    "lrg_cd_count_df"
   ]
  },
  {
   "cell_type": "code",
   "execution_count": 12,
   "metadata": {},
   "outputs": [],
   "source": [
    "# できれば、最後以外にも、2つ前とか3つ前とかも考慮したい\n",
    "def make_candidate_same_area(target_log_df: pd.DataFrame, session_only_df: pd.DataFrame):\n",
    "\n",
    "    session_df = target_log_df.groupby('session_id')['yad_no'].apply(lambda x: x.values[-1]).reset_index()\n",
    "    session_df = pd.merge(session_only_df, session_df, on='session_id', how='left')\n",
    "\n",
    "    session_df = pd.merge(session_df, yado_df[['yad_no', 'lrg_cd']], on='yad_no', how='left')\n",
    "    \n",
    "    # del session_df['yad_no']\n",
    "    session_df.rename(columns={'yad_no': 'last_item'}, inplace=True)\n",
    "    \n",
    "    # session_df.rename(columns={'yad_no': 'prev_item'}, inplace=True)\n",
    "    session_df = pd.merge(session_df, lrg_cd_count_df, on='lrg_cd', how='left')\n",
    "    del session_df['lrg_cd']\n",
    "    \n",
    "    # last_itemは取り除く\n",
    "    session_df = session_df[session_df['yad_no'] != session_df['last_item']].reset_index(drop=True)\n",
    "    del session_df['last_item']\n",
    "\n",
    "    session_df['rank'] = session_df.groupby('session_id')['count'].rank(ascending=False, method='min')\n",
    "\n",
    "    pred_df = session_df.groupby('session_id')['yad_no'].apply(lambda x: x.tolist()).reset_index()\n",
    "    pred_df = pd.merge(session_only_df, pred_df, on='session_id', how='left')\n",
    "\n",
    "    pred_df['yad_no'] = pred_df['yad_no'].apply(lambda d: d if isinstance(d, list) else [])\n",
    "\n",
    "    return session_df, pred_df"
   ]
  },
  {
   "cell_type": "code",
   "execution_count": 13,
   "metadata": {},
   "outputs": [],
   "source": [
    "train_session_df, train_pred_df = make_candidate_same_area(train_log_df, train_session_only_df)\n",
    "test_session_df, test_pred_df = make_candidate_same_area(test_log_df, test_session_only_df)"
   ]
  },
  {
   "cell_type": "code",
   "execution_count": 14,
   "metadata": {},
   "outputs": [
    {
     "data": {
      "text/plain": [
       "0.12783748343823226"
      ]
     },
     "execution_count": 14,
     "metadata": {},
     "output_type": "execute_result"
    }
   ],
   "source": [
    "mapk(train_df['yad_no'].to_list(), train_pred_df['yad_no'].to_list(), k=10)"
   ]
  },
  {
   "cell_type": "code",
   "execution_count": 15,
   "metadata": {},
   "outputs": [],
   "source": [
    "train_session_df.to_pickle('../datasets/candidate_df/same_area_lrg_cd_train.pkl')\n",
    "test_session_df.to_pickle('../datasets/candidate_df/same_area_lrg_cd_test.pkl')\n"
   ]
  },
  {
   "cell_type": "code",
   "execution_count": 16,
   "metadata": {},
   "outputs": [
    {
     "data": {
      "text/plain": [
       "<matplotlib.legend.Legend at 0x7fcee35f9c60>"
      ]
     },
     "execution_count": 16,
     "metadata": {},
     "output_type": "execute_result"
    },
    {
     "data": {
      "image/png": "[encoded data removed]",
      "text/plain": [
       "<Figure size 640x480 with 1 Axes>"
      ]
     },
     "metadata": {},
     "output_type": "display_data"
    }
   ],
   "source": [
    "train_pred_df['pred_count'] = train_pred_df['yad_no'].apply(lambda d: len(d))\n",
    "test_pred_df['pred_count'] = test_pred_df['yad_no'].apply(lambda d: len(d))\n",
    "\n",
    "plt.hist(train_pred_df['pred_count'], label='train', alpha=0.5, density=True)\n",
    "plt.hist(test_pred_df['pred_count'], label='test', alpha=0.5, density=True)\n",
    "plt.legend()"
   ]
  },
  {
   "cell_type": "code",
   "execution_count": 17,
   "metadata": {},
   "outputs": [
    {
     "data": {
      "text/plain": [
       "count    288698.000000\n",
       "mean         96.266237\n",
       "std          58.007551\n",
       "min           4.000000\n",
       "25%          53.000000\n",
       "50%          73.000000\n",
       "75%         136.000000\n",
       "max         226.000000\n",
       "Name: pred_count, dtype: float64"
      ]
     },
     "execution_count": 17,
     "metadata": {},
     "output_type": "execute_result"
    }
   ],
   "source": [
    "train_pred_df['pred_count'].describe()"
   ]
  },
  {
   "cell_type": "code",
   "execution_count": 18,
   "metadata": {},
   "outputs": [
    {
     "data": {
      "text/plain": [
       "count    174700.000000\n",
       "mean         83.962026\n",
       "std          52.788745\n",
       "min           4.000000\n",
       "25%          43.000000\n",
       "50%          69.000000\n",
       "75%         114.000000\n",
       "max         226.000000\n",
       "Name: pred_count, dtype: float64"
      ]
     },
     "execution_count": 18,
     "metadata": {},
     "output_type": "execute_result"
    }
   ],
   "source": [
    "test_pred_df['pred_count'].describe()"
   ]
  }
 ],
 "metadata": {
  "kernelspec": {
   "display_name": "kaggle-pipeline-atmacup-16-kgwzrA72-py3.10",
   "language": "python",
   "name": "python3"
  },
  "language_info": {
   "codemirror_mode": {
    "name": "ipython",
    "version": 3
   },
   "file_extension": ".py",
   "mimetype": "text/x-python",
   "name": "python",
   "nbconvert_exporter": "python",
   "pygments_lexer": "ipython3",
   "version": "3.10.9"
  }
 },
 "nbformat": 4,
 "nbformat_minor": 2
}
