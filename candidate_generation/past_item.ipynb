{
 "cells": [
  {
   "cell_type": "code",
   "execution_count": 1,
   "metadata": {},
   "outputs": [],
   "source": [
    "import pandas as pd\n",
    "import numpy as np\n",
    "import matplotlib.pyplot as plt\n",
    "import seaborn as sns\n",
    "from tqdm import tqdm"
   ]
  },
  {
   "cell_type": "code",
   "execution_count": 2,
   "metadata": {},
   "outputs": [],
   "source": [
    "import sys\n",
    "sys.path.append('../')\n",
    "\n",
    "from myutils.metrics import mapk"
   ]
  },
  {
   "cell_type": "code",
   "execution_count": 3,
   "metadata": {},
   "outputs": [],
   "source": [
    "train_log_df = pd.read_csv('../datasets/atmaCup16_Dataset/train_log.csv')\n",
    "train_df = pd.read_csv('../datasets/atmaCup16_Dataset/train_label.csv')\n",
    "test_log_df = pd.read_csv('../datasets/atmaCup16_Dataset/test_log.csv')\n",
    "yado_df = pd.read_csv('../datasets/atmaCup16_Dataset/yado.csv')\n",
    "\n",
    "train_session_only_df = train_df[['session_id']]\n",
    "test_session_only_df = pd.read_csv('../datasets/atmaCup16_Dataset/test_session.csv')"
   ]
  },
  {
   "cell_type": "code",
   "execution_count": 4,
   "metadata": {},
   "outputs": [],
   "source": [
    "def make_candidate_past_item(target_log_df: pd.DataFrame, session_only_df: pd.DataFrame):\n",
    "    # 最後のyadは取り除いて、逆順にソート\n",
    "    session_df = target_log_df.groupby('session_id')['yad_no'].apply(lambda x: x.tolist()[::-1][1:]).reset_index()\n",
    "    session_df = pd.merge(session_only_df, session_df, on='session_id', how='left')\n",
    "\n",
    "    session_df = session_df.explode('yad_no')\n",
    "    session_df = session_df[session_df['yad_no'].notnull()].reset_index(drop=True)\n",
    "\n",
    "    session_df['index'] = session_df.index\n",
    "    session_df['rank'] = session_df.groupby('session_id')['index'].rank()\n",
    "    del session_df['index']\n",
    "\n",
    "    pred_df = session_df.groupby('session_id')['yad_no'].apply(lambda x: x.tolist()).reset_index()\n",
    "    pred_df = pd.merge(session_only_df, pred_df, on='session_id', how='left')\n",
    "\n",
    "    pred_df['yad_no'] = pred_df['yad_no'].apply(lambda d: d if isinstance(d, list) else [])\n",
    "\n",
    "    return session_df, pred_df"
   ]
  },
  {
   "cell_type": "code",
   "execution_count": 5,
   "metadata": {},
   "outputs": [],
   "source": [
    "train_session_df, train_pred_df = make_candidate_past_item(train_log_df, train_session_only_df)\n",
    "test_session_df, test_pred_df = make_candidate_past_item(test_log_df, test_session_only_df)"
   ]
  },
  {
   "cell_type": "code",
   "execution_count": 6,
   "metadata": {},
   "outputs": [
    {
     "data": {
      "text/plain": [
       "0.29772865300995033"
      ]
     },
     "execution_count": 6,
     "metadata": {},
     "output_type": "execute_result"
    }
   ],
   "source": [
    "mapk(train_df['yad_no'].to_list(), train_pred_df['yad_no'].to_list(), k=10)"
   ]
  },
  {
   "cell_type": "code",
   "execution_count": null,
   "metadata": {},
   "outputs": [],
   "source": [
    "train_session_df.to_pickle('../datasets/candidate_df/past_item_train.pkl')\n",
    "test_session_df.to_pickle('../datasets/candidate_df/past_item_test.pkl')\n"
   ]
  },
  {
   "cell_type": "code",
   "execution_count": 8,
   "metadata": {},
   "outputs": [
    {
     "data": {
      "text/plain": [
       "<matplotlib.legend.Legend at 0x7fd35cb71180>"
      ]
     },
     "execution_count": 8,
     "metadata": {},
     "output_type": "execute_result"
    },
    {
     "data": {
      "image/png": "[encoded data removed]",
      "text/plain": [
       "<Figure size 640x480 with 1 Axes>"
      ]
     },
     "metadata": {},
     "output_type": "display_data"
    }
   ],
   "source": [
    "train_pred_df['pred_count'] = train_pred_df['yad_no'].apply(lambda d: len(d))\n",
    "test_pred_df['pred_count'] = test_pred_df['yad_no'].apply(lambda d: len(d))\n",
    "\n",
    "plt.hist(train_pred_df['pred_count'], label='train', alpha=0.5, density=True)\n",
    "plt.hist(test_pred_df['pred_count'], label='test', alpha=0.5, density=True)\n",
    "plt.legend()"
   ]
  },
  {
   "cell_type": "code",
   "execution_count": 14,
   "metadata": {},
   "outputs": [
    {
     "data": {
      "text/plain": [
       "0.35785492105937694"
      ]
     },
     "execution_count": 14,
     "metadata": {},
     "output_type": "execute_result"
    }
   ],
   "source": [
    "idxs = train_pred_df['pred_count'] >= 1\n",
    "idxs.sum()/len(train_pred_df)"
   ]
  },
  {
   "cell_type": "code",
   "execution_count": 15,
   "metadata": {},
   "outputs": [
    {
     "data": {
      "text/plain": [
       "0.831981441329823"
      ]
     },
     "execution_count": 15,
     "metadata": {},
     "output_type": "execute_result"
    }
   ],
   "source": [
    "mapk(train_df[idxs]['yad_no'].to_list(), train_pred_df[idxs]['yad_no'].to_list(), k=10)"
   ]
  },
  {
   "cell_type": "code",
   "execution_count": null,
   "metadata": {},
   "outputs": [],
   "source": []
  }
 ],
 "metadata": {
  "kernelspec": {
   "display_name": "kaggle-pipeline-atmacup-16-kgwzrA72-py3.10",
   "language": "python",
   "name": "python3"
  },
  "language_info": {
   "codemirror_mode": {
    "name": "ipython",
    "version": 3
   },
   "file_extension": ".py",
   "mimetype": "text/x-python",
   "name": "python",
   "nbconvert_exporter": "python",
   "pygments_lexer": "ipython3",
   "version": "3.10.9"
  }
 },
 "nbformat": 4,
 "nbformat_minor": 2
}
