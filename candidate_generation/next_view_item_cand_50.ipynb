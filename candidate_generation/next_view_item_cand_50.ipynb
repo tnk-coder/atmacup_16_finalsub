{
 "cells": [
  {
   "cell_type": "code",
   "execution_count": 1,
   "metadata": {},
   "outputs": [],
   "source": [
    "import pandas as pd\n",
    "import numpy as np\n",
    "import matplotlib.pyplot as plt\n",
    "import seaborn as sns\n",
    "from tqdm import tqdm\n",
    "from collections import defaultdict"
   ]
  },
  {
   "cell_type": "code",
   "execution_count": 2,
   "metadata": {},
   "outputs": [],
   "source": [
    "import sys\n",
    "sys.path.append('../')\n",
    "\n",
    "from myutils.metrics import mapk"
   ]
  },
  {
   "cell_type": "code",
   "execution_count": 3,
   "metadata": {},
   "outputs": [],
   "source": [
    "train_log_df = pd.read_csv('../datasets/atmaCup16_Dataset/train_log.csv')\n",
    "train_df = pd.read_csv('../datasets/atmaCup16_Dataset/train_label.csv')\n",
    "test_log_df = pd.read_csv('../datasets/atmaCup16_Dataset/test_log.csv')\n",
    "yado_df = pd.read_csv('../datasets/atmaCup16_Dataset/yado.csv')\n",
    "\n",
    "train_session_only_df = train_df[['session_id']]\n",
    "test_session_only_df = pd.read_csv('../datasets/atmaCup16_Dataset/test_session.csv')"
   ]
  },
  {
   "cell_type": "code",
   "execution_count": 4,
   "metadata": {},
   "outputs": [],
   "source": [
    "train_test_log_df = pd.concat([train_log_df, test_log_df], axis=0).reset_index(drop=True)"
   ]
  },
  {
   "cell_type": "code",
   "execution_count": 5,
   "metadata": {},
   "outputs": [],
   "source": [
    "# train_test_session_df = train_log_df.groupby('session_id')['yad_no'].apply(lambda x: x.values).reset_index()\n",
    "train_test_session_df = train_test_log_df.groupby('session_id')['yad_no'].apply(lambda x: x.values).reset_index()"
   ]
  },
  {
   "cell_type": "code",
   "execution_count": 6,
   "metadata": {},
   "outputs": [
    {
     "name": "stderr",
     "output_type": "stream",
     "text": [
      "100%|██████████| 11906/11906 [00:00<00:00, 82300.08it/s]\n"
     ]
    }
   ],
   "source": [
    "from collections import Counter\n",
    "\n",
    "next_item_dict = defaultdict(list)\n",
    "for yads in train_test_session_df['yad_no'].values:\n",
    "    if len(yads) == 1:\n",
    "        continue\n",
    "    for i in range(len(yads)-1):\n",
    "        next_item_dict[yads[i]].append(yads[i+1])\n",
    "\n",
    "        next_item_dict[yads[i+1]].append(yads[i])\n",
    "\n",
    "results = []\n",
    "for item in tqdm(next_item_dict):\n",
    "    counter = Counter(next_item_dict[item])\n",
    "    res_list = counter.most_common(50)\n",
    "\n",
    "    for res in res_list:\n",
    "      results.append((item, res[0], res[1]))\n",
    "\n",
    "next_item_count_df = pd.DataFrame(results, columns=['prev_item', 'next_item', 'count'])\n",
    "# item_dict = next.groupby('item1')['item2'].apply(lambda x: x.tolist()).to_dict()"
   ]
  },
  {
   "cell_type": "code",
   "execution_count": 7,
   "metadata": {},
   "outputs": [
    {
     "data": {
      "text/html": [
       "<div>\n",
       "<style scoped>\n",
       "    .dataframe tbody tr th:only-of-type {\n",
       "        vertical-align: middle;\n",
       "    }\n",
       "\n",
       "    .dataframe tbody tr th {\n",
       "        vertical-align: top;\n",
       "    }\n",
       "\n",
       "    .dataframe thead th {\n",
       "        text-align: right;\n",
       "    }\n",
       "</style>\n",
       "<table border=\"1\" class=\"dataframe\">\n",
       "  <thead>\n",
       "    <tr style=\"text-align: right;\">\n",
       "      <th></th>\n",
       "      <th>prev_item</th>\n",
       "      <th>next_item</th>\n",
       "      <th>count</th>\n",
       "    </tr>\n",
       "  </thead>\n",
       "  <tbody>\n",
       "    <tr>\n",
       "      <th>0</th>\n",
       "      <td>3560</td>\n",
       "      <td>4545</td>\n",
       "      <td>11</td>\n",
       "    </tr>\n",
       "    <tr>\n",
       "      <th>1</th>\n",
       "      <td>3560</td>\n",
       "      <td>9534</td>\n",
       "      <td>10</td>\n",
       "    </tr>\n",
       "    <tr>\n",
       "      <th>2</th>\n",
       "      <td>3560</td>\n",
       "      <td>1959</td>\n",
       "      <td>4</td>\n",
       "    </tr>\n",
       "    <tr>\n",
       "      <th>3</th>\n",
       "      <td>3560</td>\n",
       "      <td>5785</td>\n",
       "      <td>4</td>\n",
       "    </tr>\n",
       "    <tr>\n",
       "      <th>4</th>\n",
       "      <td>3560</td>\n",
       "      <td>5466</td>\n",
       "      <td>3</td>\n",
       "    </tr>\n",
       "    <tr>\n",
       "      <th>...</th>\n",
       "      <td>...</td>\n",
       "      <td>...</td>\n",
       "      <td>...</td>\n",
       "    </tr>\n",
       "    <tr>\n",
       "      <th>107760</th>\n",
       "      <td>5219</td>\n",
       "      <td>9174</td>\n",
       "      <td>1</td>\n",
       "    </tr>\n",
       "    <tr>\n",
       "      <th>107761</th>\n",
       "      <td>9074</td>\n",
       "      <td>11139</td>\n",
       "      <td>1</td>\n",
       "    </tr>\n",
       "    <tr>\n",
       "      <th>107762</th>\n",
       "      <td>7640</td>\n",
       "      <td>9561</td>\n",
       "      <td>1</td>\n",
       "    </tr>\n",
       "    <tr>\n",
       "      <th>107763</th>\n",
       "      <td>2936</td>\n",
       "      <td>7619</td>\n",
       "      <td>1</td>\n",
       "    </tr>\n",
       "    <tr>\n",
       "      <th>107764</th>\n",
       "      <td>11517</td>\n",
       "      <td>7226</td>\n",
       "      <td>1</td>\n",
       "    </tr>\n",
       "  </tbody>\n",
       "</table>\n",
       "<p>107765 rows × 3 columns</p>\n",
       "</div>"
      ],
      "text/plain": [
       "        prev_item  next_item  count\n",
       "0            3560       4545     11\n",
       "1            3560       9534     10\n",
       "2            3560       1959      4\n",
       "3            3560       5785      4\n",
       "4            3560       5466      3\n",
       "...           ...        ...    ...\n",
       "107760       5219       9174      1\n",
       "107761       9074      11139      1\n",
       "107762       7640       9561      1\n",
       "107763       2936       7619      1\n",
       "107764      11517       7226      1\n",
       "\n",
       "[107765 rows x 3 columns]"
      ]
     },
     "execution_count": 7,
     "metadata": {},
     "output_type": "execute_result"
    }
   ],
   "source": [
    "next_item_count_df"
   ]
  },
  {
   "cell_type": "code",
   "execution_count": 8,
   "metadata": {},
   "outputs": [],
   "source": [
    "def make_candidate_next_item(target_log_df: pd.DataFrame, session_only_df: pd.DataFrame):\n",
    "\n",
    "    session_df = target_log_df.groupby('session_id').last().reset_index()[['session_id', 'yad_no']]\n",
    "    \n",
    "    session_df = pd.merge(session_only_df, session_df, on='session_id', how='left')\n",
    "    \n",
    "    session_df.rename(columns={'yad_no': 'prev_item'}, inplace=True)\n",
    "    session_df = pd.merge(session_df, next_item_count_df, on='prev_item', how='left')\n",
    "\n",
    "    session_df.rename(columns={'next_item': 'yad_no'}, inplace=True)\n",
    "    session_df = session_df[session_df['yad_no'].notnull()].reset_index(drop=True)\n",
    "    del session_df['prev_item']\n",
    "\n",
    "    session_df['rank'] = session_df.groupby('session_id')['count'].rank(ascending=False, method='min')\n",
    "\n",
    "    pred_df = session_df.groupby('session_id')['yad_no'].apply(lambda x: x.tolist()).reset_index()\n",
    "    pred_df = pd.merge(session_only_df, pred_df, on='session_id', how='left')\n",
    "\n",
    "    pred_df['yad_no'] = pred_df['yad_no'].apply(lambda d: d if isinstance(d, list) else [])\n",
    "\n",
    "    return session_df, pred_df"
   ]
  },
  {
   "cell_type": "code",
   "execution_count": 9,
   "metadata": {},
   "outputs": [],
   "source": [
    "train_session_df, train_pred_df = make_candidate_next_item(train_log_df, train_session_only_df)\n",
    "test_session_df, test_pred_df = make_candidate_next_item(test_log_df, test_session_only_df)"
   ]
  },
  {
   "cell_type": "code",
   "execution_count": 10,
   "metadata": {},
   "outputs": [
    {
     "data": {
      "text/html": [
       "<div>\n",
       "<style scoped>\n",
       "    .dataframe tbody tr th:only-of-type {\n",
       "        vertical-align: middle;\n",
       "    }\n",
       "\n",
       "    .dataframe tbody tr th {\n",
       "        vertical-align: top;\n",
       "    }\n",
       "\n",
       "    .dataframe thead th {\n",
       "        text-align: right;\n",
       "    }\n",
       "</style>\n",
       "<table border=\"1\" class=\"dataframe\">\n",
       "  <thead>\n",
       "    <tr style=\"text-align: right;\">\n",
       "      <th></th>\n",
       "      <th>session_id</th>\n",
       "      <th>yad_no</th>\n",
       "      <th>count</th>\n",
       "      <th>rank</th>\n",
       "    </tr>\n",
       "  </thead>\n",
       "  <tbody>\n",
       "    <tr>\n",
       "      <th>0</th>\n",
       "      <td>000007603d533d30453cc45d0f3d119f</td>\n",
       "      <td>11882.0</td>\n",
       "      <td>14.0</td>\n",
       "      <td>1.0</td>\n",
       "    </tr>\n",
       "    <tr>\n",
       "      <th>1</th>\n",
       "      <td>000007603d533d30453cc45d0f3d119f</td>\n",
       "      <td>2808.0</td>\n",
       "      <td>8.0</td>\n",
       "      <td>2.0</td>\n",
       "    </tr>\n",
       "    <tr>\n",
       "      <th>2</th>\n",
       "      <td>000007603d533d30453cc45d0f3d119f</td>\n",
       "      <td>5289.0</td>\n",
       "      <td>1.0</td>\n",
       "      <td>3.0</td>\n",
       "    </tr>\n",
       "    <tr>\n",
       "      <th>3</th>\n",
       "      <td>000007603d533d30453cc45d0f3d119f</td>\n",
       "      <td>4101.0</td>\n",
       "      <td>1.0</td>\n",
       "      <td>3.0</td>\n",
       "    </tr>\n",
       "    <tr>\n",
       "      <th>4</th>\n",
       "      <td>0000ca043ed437a1472c9d1d154eb49b</td>\n",
       "      <td>8253.0</td>\n",
       "      <td>26.0</td>\n",
       "      <td>1.0</td>\n",
       "    </tr>\n",
       "    <tr>\n",
       "      <th>...</th>\n",
       "      <td>...</td>\n",
       "      <td>...</td>\n",
       "      <td>...</td>\n",
       "      <td>...</td>\n",
       "    </tr>\n",
       "    <tr>\n",
       "      <th>5354724</th>\n",
       "      <td>fffffa7baf370083ebcdd98f26a7e31a</td>\n",
       "      <td>2981.0</td>\n",
       "      <td>1.0</td>\n",
       "      <td>14.0</td>\n",
       "    </tr>\n",
       "    <tr>\n",
       "      <th>5354725</th>\n",
       "      <td>fffffa7baf370083ebcdd98f26a7e31a</td>\n",
       "      <td>11984.0</td>\n",
       "      <td>1.0</td>\n",
       "      <td>14.0</td>\n",
       "    </tr>\n",
       "    <tr>\n",
       "      <th>5354726</th>\n",
       "      <td>fffffa7baf370083ebcdd98f26a7e31a</td>\n",
       "      <td>3848.0</td>\n",
       "      <td>1.0</td>\n",
       "      <td>14.0</td>\n",
       "    </tr>\n",
       "    <tr>\n",
       "      <th>5354727</th>\n",
       "      <td>fffffa7baf370083ebcdd98f26a7e31a</td>\n",
       "      <td>8462.0</td>\n",
       "      <td>1.0</td>\n",
       "      <td>14.0</td>\n",
       "    </tr>\n",
       "    <tr>\n",
       "      <th>5354728</th>\n",
       "      <td>fffffa7baf370083ebcdd98f26a7e31a</td>\n",
       "      <td>12707.0</td>\n",
       "      <td>1.0</td>\n",
       "      <td>14.0</td>\n",
       "    </tr>\n",
       "  </tbody>\n",
       "</table>\n",
       "<p>5354729 rows × 4 columns</p>\n",
       "</div>"
      ],
      "text/plain": [
       "                               session_id   yad_no  count  rank\n",
       "0        000007603d533d30453cc45d0f3d119f  11882.0   14.0   1.0\n",
       "1        000007603d533d30453cc45d0f3d119f   2808.0    8.0   2.0\n",
       "2        000007603d533d30453cc45d0f3d119f   5289.0    1.0   3.0\n",
       "3        000007603d533d30453cc45d0f3d119f   4101.0    1.0   3.0\n",
       "4        0000ca043ed437a1472c9d1d154eb49b   8253.0   26.0   1.0\n",
       "...                                   ...      ...    ...   ...\n",
       "5354724  fffffa7baf370083ebcdd98f26a7e31a   2981.0    1.0  14.0\n",
       "5354725  fffffa7baf370083ebcdd98f26a7e31a  11984.0    1.0  14.0\n",
       "5354726  fffffa7baf370083ebcdd98f26a7e31a   3848.0    1.0  14.0\n",
       "5354727  fffffa7baf370083ebcdd98f26a7e31a   8462.0    1.0  14.0\n",
       "5354728  fffffa7baf370083ebcdd98f26a7e31a  12707.0    1.0  14.0\n",
       "\n",
       "[5354729 rows x 4 columns]"
      ]
     },
     "execution_count": 10,
     "metadata": {},
     "output_type": "execute_result"
    }
   ],
   "source": [
    "train_session_df"
   ]
  },
  {
   "cell_type": "code",
   "execution_count": 11,
   "metadata": {},
   "outputs": [],
   "source": [
    "# pred_list = [item_dict[item] if item in item_dict else [] for item in last_item_df['yad_no'].values]"
   ]
  },
  {
   "cell_type": "code",
   "execution_count": 12,
   "metadata": {},
   "outputs": [
    {
     "data": {
      "text/plain": [
       "0.21859955100001796"
      ]
     },
     "execution_count": 12,
     "metadata": {},
     "output_type": "execute_result"
    }
   ],
   "source": [
    "mapk(train_df['yad_no'].to_list(), train_pred_df['yad_no'].to_list(), k=10)"
   ]
  },
  {
   "cell_type": "code",
   "execution_count": null,
   "metadata": {},
   "outputs": [],
   "source": [
    "import os\n",
    "os.makedirs('../datasets/candidate_df/', exist_ok=True)"
   ]
  },
  {
   "cell_type": "code",
   "execution_count": 13,
   "metadata": {},
   "outputs": [],
   "source": [
    "train_session_df.to_pickle('../datasets/candidate_df/next_view_item_cand_50_train.pkl')\n",
    "test_session_df.to_pickle('../datasets/candidate_df/next_view_item_cand_50_test.pkl')\n"
   ]
  },
  {
   "cell_type": "code",
   "execution_count": 14,
   "metadata": {},
   "outputs": [
    {
     "data": {
      "text/plain": [
       "<matplotlib.legend.Legend at 0x7f03e9b622c0>"
      ]
     },
     "execution_count": 14,
     "metadata": {},
     "output_type": "execute_result"
    },
    {
     "data": {
      "image/png": "[encoded data removed]",
      "text/plain": [
       "<Figure size 640x480 with 1 Axes>"
      ]
     },
     "metadata": {},
     "output_type": "display_data"
    }
   ],
   "source": [
    "train_pred_df['pred_count'] = train_pred_df['yad_no'].apply(lambda d: len(d))\n",
    "test_pred_df['pred_count'] = test_pred_df['yad_no'].apply(lambda d: len(d))\n",
    "\n",
    "plt.hist(train_pred_df['pred_count'], label='train', alpha=0.5, density=True)\n",
    "plt.hist(test_pred_df['pred_count'], label='test', alpha=0.5, density=True)\n",
    "plt.legend()"
   ]
  }
 ],
 "metadata": {
  "kernelspec": {
   "display_name": "kaggle-pipeline-atmacup-16-kgwzrA72-py3.10",
   "language": "python",
   "name": "python3"
  },
  "language_info": {
   "codemirror_mode": {
    "name": "ipython",
    "version": 3
   },
   "file_extension": ".py",
   "mimetype": "text/x-python",
   "name": "python",
   "nbconvert_exporter": "python",
   "pygments_lexer": "ipython3",
   "version": "3.10.9"
  }
 },
 "nbformat": 4,
 "nbformat_minor": 2
}
