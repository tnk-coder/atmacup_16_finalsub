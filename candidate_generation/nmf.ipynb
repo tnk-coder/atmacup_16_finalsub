{
 "cells": [
  {
   "cell_type": "code",
   "execution_count": 1,
   "metadata": {},
   "outputs": [],
   "source": [
    "import pandas as pd\n",
    "import numpy as np\n",
    "import matplotlib.pyplot as plt\n",
    "import seaborn as sns\n",
    "from tqdm import tqdm"
   ]
  },
  {
   "cell_type": "code",
   "execution_count": 2,
   "metadata": {},
   "outputs": [],
   "source": [
    "import sys\n",
    "sys.path.append('../')\n",
    "\n",
    "from myutils.metrics import mapk"
   ]
  },
  {
   "cell_type": "code",
   "execution_count": 3,
   "metadata": {},
   "outputs": [],
   "source": [
    "OUTPUT_NAME = 'nmf'"
   ]
  },
  {
   "cell_type": "code",
   "execution_count": 4,
   "metadata": {},
   "outputs": [],
   "source": [
    "train_log_df = pd.read_csv('../datasets/atmaCup16_Dataset/train_log.csv')\n",
    "train_df = pd.read_csv('../datasets/atmaCup16_Dataset/train_label.csv')\n",
    "test_log_df = pd.read_csv('../datasets/atmaCup16_Dataset/test_log.csv')\n",
    "yado_df = pd.read_csv('../datasets/atmaCup16_Dataset/yado.csv')\n",
    "\n",
    "train_session_only_df = train_df[['session_id']]\n",
    "test_session_only_df = pd.read_csv('../datasets/atmaCup16_Dataset/test_session.csv')\n",
    "\n",
    "train_test_log_df = pd.concat([train_log_df, test_log_df], axis=0).reset_index(drop=True)"
   ]
  },
  {
   "cell_type": "code",
   "execution_count": 5,
   "metadata": {},
   "outputs": [],
   "source": [
    "sentence_list = train_test_log_df.groupby('session_id')['yad_no'].apply(list).tolist()"
   ]
  },
  {
   "cell_type": "code",
   "execution_count": 6,
   "metadata": {},
   "outputs": [],
   "source": [
    "edges = set()\n",
    "for items in sentence_list:\n",
    "    if len(items) == 1:\n",
    "        continue\n",
    "    for i in range(len(items)-1):\n",
    "        edges.add((items[i]-1, items[i+1]-1))\n",
    "        edges.add((items[i+1]-1, items[i]-1))\n",
    "edges = list(edges)"
   ]
  },
  {
   "cell_type": "code",
   "execution_count": 7,
   "metadata": {},
   "outputs": [],
   "source": [
    "sparse_data = np.ones(len(edges))"
   ]
  },
  {
   "cell_type": "code",
   "execution_count": 8,
   "metadata": {},
   "outputs": [],
   "source": [
    "import scipy\n",
    "n = len(yado_df)\n",
    "\n",
    "sparse_row = [edge[0] for edge in edges]\n",
    "sparse_col = [edge[1] for edge in edges]\n",
    "csr_matrix = scipy.sparse.csr_matrix((sparse_data, (sparse_row, sparse_col)), shape=(n, n))"
   ]
  },
  {
   "cell_type": "markdown",
   "metadata": {},
   "source": [
    "## NMF"
   ]
  },
  {
   "cell_type": "code",
   "execution_count": 9,
   "metadata": {},
   "outputs": [
    {
     "name": "stdout",
     "output_type": "stream",
     "text": [
      "CPU times: user 3min 3s, sys: 2min 30s, total: 5min 34s\n",
      "Wall time: 2min 5s\n"
     ]
    }
   ],
   "source": [
    "%%time\n",
    "\n",
    "from sklearn.decomposition import NMF\n",
    "\n",
    "dimensions = 256\n",
    "\n",
    "nmf = NMF(n_components=dimensions, random_state=42, max_iter=1000)\n",
    "U = nmf.fit_transform(csr_matrix)\n",
    "V = nmf.components_"
   ]
  },
  {
   "cell_type": "code",
   "execution_count": 10,
   "metadata": {},
   "outputs": [
    {
     "data": {
      "text/plain": [
       "((13806, 256), (256, 13806))"
      ]
     },
     "execution_count": 10,
     "metadata": {},
     "output_type": "execute_result"
    }
   ],
   "source": [
    "U.shape, V.shape"
   ]
  },
  {
   "cell_type": "code",
   "execution_count": 11,
   "metadata": {},
   "outputs": [],
   "source": [
    "item_vecs = U"
   ]
  },
  {
   "cell_type": "code",
   "execution_count": 12,
   "metadata": {},
   "outputs": [],
   "source": [
    "# item_ids = train_test_log_df['yad_no'].unique().tolist()\n",
    "item_ids = yado_df['yad_no'].to_list()\n",
    "item_factors = {item: item_vecs[item-1, :] for item in item_ids}\n",
    "item_factors_df = pd.DataFrame(item_factors).T.reset_index().rename(columns={\"index\": \"yad_no\"})\n",
    "\n",
    "item_cols = [f\"item_factor_{i}\" for i in range(dimensions)]\n",
    "item_factors_df.columns = [\"yad_no\"] + item_cols"
   ]
  },
  {
   "cell_type": "code",
   "execution_count": 13,
   "metadata": {},
   "outputs": [],
   "source": [
    "user_item_list_dict = {session_id: yad_nos.tolist() for session_id, yad_nos in train_test_log_df.groupby('session_id')['yad_no']}\n",
    "user_factors = {user_id: np.mean([item_factors[item_id] for item_id in user_item_list], axis=0) for user_id, user_item_list in user_item_list_dict.items()}\n",
    "user_factors_df = pd.DataFrame(user_factors).T.reset_index().rename(columns={\"index\": \"session_id\"})\n",
    "user_cols = [f\"user_factor_{i}\" for i in range(dimensions)]\n",
    "user_factors_df.columns = [\"session_id\"] + user_cols\n",
    "\n",
    "user_factors_last_item = {user_id: item_factors[user_item_list[-1]] for user_id, user_item_list in user_item_list_dict.items()}\n",
    "user_factors_last_item_df = pd.DataFrame(user_factors_last_item).T.reset_index().rename(columns={\"index\": \"session_id\"})\n",
    "user_cols = [f\"user_factor_{i}\" for i in range(dimensions)]\n",
    "user_factors_last_item_df.columns = [\"session_id\"] + user_cols"
   ]
  },
  {
   "cell_type": "code",
   "execution_count": 14,
   "metadata": {},
   "outputs": [],
   "source": [
    "def cos_sim(v1, v2):\n",
    "    return np.dot(v1, v2) / (np.linalg.norm(v1) * np.linalg.norm(v2))"
   ]
  },
  {
   "cell_type": "code",
   "execution_count": 15,
   "metadata": {},
   "outputs": [],
   "source": [
    "from sklearn.neighbors import NearestNeighbors\n",
    "\n",
    "\n",
    "user_vecs = user_factors_df[[f'user_factor_{i}' for i in range(dimensions)]].values\n",
    "# user_vecs = user_factors_last_item_df[[f'user_factor_{i}' for i in range(dimensions)]].values\n",
    "item_vecs = item_factors_df[[f'item_factor_{i}' for i in range(dimensions)]].values\n",
    "\n",
    "nn = NearestNeighbors(n_neighbors=20, metric='cosine')\n",
    "nn.fit(item_vecs)\n",
    "dists, indices = nn.kneighbors(user_vecs)"
   ]
  },
  {
   "cell_type": "code",
   "execution_count": 16,
   "metadata": {},
   "outputs": [],
   "source": [
    "user_last_item_dict = {user_id: user_item_list[-1] for user_id, user_item_list in user_item_list_dict.items()}"
   ]
  },
  {
   "cell_type": "code",
   "execution_count": 17,
   "metadata": {},
   "outputs": [],
   "source": [
    "results = []\n",
    "\n",
    "for i, user_id in enumerate(user_item_list_dict.keys()):\n",
    "    for j in range(20):\n",
    "        yad_no = indices[i][j]+1\n",
    "        if user_last_item_dict[user_id] == yad_no:\n",
    "            continue\n",
    "\n",
    "        results.append([user_id, yad_no, 1 - dists[i][j]])\n",
    "word2vec_sim_df = pd.DataFrame(results, columns=['session_id', 'yad_no', 'word2vec_sim'])"
   ]
  },
  {
   "cell_type": "code",
   "execution_count": 18,
   "metadata": {},
   "outputs": [
    {
     "data": {
      "text/html": [
       "<div>\n",
       "<style scoped>\n",
       "    .dataframe tbody tr th:only-of-type {\n",
       "        vertical-align: middle;\n",
       "    }\n",
       "\n",
       "    .dataframe tbody tr th {\n",
       "        vertical-align: top;\n",
       "    }\n",
       "\n",
       "    .dataframe thead th {\n",
       "        text-align: right;\n",
       "    }\n",
       "</style>\n",
       "<table border=\"1\" class=\"dataframe\">\n",
       "  <thead>\n",
       "    <tr style=\"text-align: right;\">\n",
       "      <th></th>\n",
       "      <th>session_id</th>\n",
       "      <th>yad_no</th>\n",
       "      <th>word2vec_sim</th>\n",
       "    </tr>\n",
       "  </thead>\n",
       "  <tbody>\n",
       "    <tr>\n",
       "      <th>0</th>\n",
       "      <td>000007603d533d30453cc45d0f3d119f</td>\n",
       "      <td>8927</td>\n",
       "      <td>0.999902</td>\n",
       "    </tr>\n",
       "    <tr>\n",
       "      <th>1</th>\n",
       "      <td>000007603d533d30453cc45d0f3d119f</td>\n",
       "      <td>13544</td>\n",
       "      <td>0.999647</td>\n",
       "    </tr>\n",
       "    <tr>\n",
       "      <th>2</th>\n",
       "      <td>000007603d533d30453cc45d0f3d119f</td>\n",
       "      <td>10740</td>\n",
       "      <td>0.999647</td>\n",
       "    </tr>\n",
       "    <tr>\n",
       "      <th>3</th>\n",
       "      <td>000007603d533d30453cc45d0f3d119f</td>\n",
       "      <td>5821</td>\n",
       "      <td>0.999647</td>\n",
       "    </tr>\n",
       "    <tr>\n",
       "      <th>4</th>\n",
       "      <td>000007603d533d30453cc45d0f3d119f</td>\n",
       "      <td>13697</td>\n",
       "      <td>0.999647</td>\n",
       "    </tr>\n",
       "    <tr>\n",
       "      <th>...</th>\n",
       "      <td>...</td>\n",
       "      <td>...</td>\n",
       "      <td>...</td>\n",
       "    </tr>\n",
       "    <tr>\n",
       "      <th>8850452</th>\n",
       "      <td>fffffa7baf370083ebcdd98f26a7e31a</td>\n",
       "      <td>8609</td>\n",
       "      <td>0.992726</td>\n",
       "    </tr>\n",
       "    <tr>\n",
       "      <th>8850453</th>\n",
       "      <td>fffffa7baf370083ebcdd98f26a7e31a</td>\n",
       "      <td>8462</td>\n",
       "      <td>0.992726</td>\n",
       "    </tr>\n",
       "    <tr>\n",
       "      <th>8850454</th>\n",
       "      <td>fffffa7baf370083ebcdd98f26a7e31a</td>\n",
       "      <td>6247</td>\n",
       "      <td>0.992726</td>\n",
       "    </tr>\n",
       "    <tr>\n",
       "      <th>8850455</th>\n",
       "      <td>fffffa7baf370083ebcdd98f26a7e31a</td>\n",
       "      <td>6524</td>\n",
       "      <td>0.992116</td>\n",
       "    </tr>\n",
       "    <tr>\n",
       "      <th>8850456</th>\n",
       "      <td>fffffa7baf370083ebcdd98f26a7e31a</td>\n",
       "      <td>11273</td>\n",
       "      <td>0.988287</td>\n",
       "    </tr>\n",
       "  </tbody>\n",
       "</table>\n",
       "<p>8850457 rows × 3 columns</p>\n",
       "</div>"
      ],
      "text/plain": [
       "                               session_id  yad_no  word2vec_sim\n",
       "0        000007603d533d30453cc45d0f3d119f    8927      0.999902\n",
       "1        000007603d533d30453cc45d0f3d119f   13544      0.999647\n",
       "2        000007603d533d30453cc45d0f3d119f   10740      0.999647\n",
       "3        000007603d533d30453cc45d0f3d119f    5821      0.999647\n",
       "4        000007603d533d30453cc45d0f3d119f   13697      0.999647\n",
       "...                                   ...     ...           ...\n",
       "8850452  fffffa7baf370083ebcdd98f26a7e31a    8609      0.992726\n",
       "8850453  fffffa7baf370083ebcdd98f26a7e31a    8462      0.992726\n",
       "8850454  fffffa7baf370083ebcdd98f26a7e31a    6247      0.992726\n",
       "8850455  fffffa7baf370083ebcdd98f26a7e31a    6524      0.992116\n",
       "8850456  fffffa7baf370083ebcdd98f26a7e31a   11273      0.988287\n",
       "\n",
       "[8850457 rows x 3 columns]"
      ]
     },
     "execution_count": 18,
     "metadata": {},
     "output_type": "execute_result"
    }
   ],
   "source": [
    "word2vec_sim_df"
   ]
  },
  {
   "cell_type": "code",
   "execution_count": 19,
   "metadata": {},
   "outputs": [],
   "source": [
    "def make_candidate_word2vec(session_only_df: pd.DataFrame, word2vec_sim_df: pd.DataFrame):\n",
    "    session_df = session_only_df.merge(word2vec_sim_df, on=['session_id'], how='left')\n",
    "\n",
    "    session_df = session_df[session_df['yad_no'].notnull()].reset_index(drop=True)\n",
    "    session_df['yad_no'] = session_df['yad_no'].astype(int)\n",
    "\n",
    "    session_df['rank'] = session_df.groupby('session_id')['word2vec_sim'].rank(ascending=False, method='min')\n",
    "\n",
    "    pred_df = session_df.groupby('session_id')['yad_no'].apply(lambda x: x.tolist()).reset_index()\n",
    "    pred_df = pd.merge(session_only_df, pred_df, on='session_id', how='left')\n",
    "\n",
    "    pred_df['yad_no'] = pred_df['yad_no'].apply(lambda d: d if isinstance(d, list) else [])\n",
    "\n",
    "    return session_df, pred_df"
   ]
  },
  {
   "cell_type": "code",
   "execution_count": 20,
   "metadata": {},
   "outputs": [],
   "source": [
    "train_session_df, train_pred_df = make_candidate_word2vec(train_session_only_df, word2vec_sim_df)\n",
    "test_session_df, test_pred_df = make_candidate_word2vec(test_session_only_df, word2vec_sim_df)"
   ]
  },
  {
   "cell_type": "code",
   "execution_count": 21,
   "metadata": {},
   "outputs": [
    {
     "data": {
      "text/html": [
       "<div>\n",
       "<style scoped>\n",
       "    .dataframe tbody tr th:only-of-type {\n",
       "        vertical-align: middle;\n",
       "    }\n",
       "\n",
       "    .dataframe tbody tr th {\n",
       "        vertical-align: top;\n",
       "    }\n",
       "\n",
       "    .dataframe thead th {\n",
       "        text-align: right;\n",
       "    }\n",
       "</style>\n",
       "<table border=\"1\" class=\"dataframe\">\n",
       "  <thead>\n",
       "    <tr style=\"text-align: right;\">\n",
       "      <th></th>\n",
       "      <th>session_id</th>\n",
       "      <th>yad_no</th>\n",
       "      <th>word2vec_sim</th>\n",
       "      <th>rank</th>\n",
       "    </tr>\n",
       "  </thead>\n",
       "  <tbody>\n",
       "    <tr>\n",
       "      <th>0</th>\n",
       "      <td>000007603d533d30453cc45d0f3d119f</td>\n",
       "      <td>8927</td>\n",
       "      <td>0.999902</td>\n",
       "      <td>1.0</td>\n",
       "    </tr>\n",
       "    <tr>\n",
       "      <th>1</th>\n",
       "      <td>000007603d533d30453cc45d0f3d119f</td>\n",
       "      <td>13544</td>\n",
       "      <td>0.999647</td>\n",
       "      <td>2.0</td>\n",
       "    </tr>\n",
       "    <tr>\n",
       "      <th>2</th>\n",
       "      <td>000007603d533d30453cc45d0f3d119f</td>\n",
       "      <td>10740</td>\n",
       "      <td>0.999647</td>\n",
       "      <td>2.0</td>\n",
       "    </tr>\n",
       "    <tr>\n",
       "      <th>3</th>\n",
       "      <td>000007603d533d30453cc45d0f3d119f</td>\n",
       "      <td>5821</td>\n",
       "      <td>0.999647</td>\n",
       "      <td>2.0</td>\n",
       "    </tr>\n",
       "    <tr>\n",
       "      <th>4</th>\n",
       "      <td>000007603d533d30453cc45d0f3d119f</td>\n",
       "      <td>13697</td>\n",
       "      <td>0.999647</td>\n",
       "      <td>2.0</td>\n",
       "    </tr>\n",
       "    <tr>\n",
       "      <th>...</th>\n",
       "      <td>...</td>\n",
       "      <td>...</td>\n",
       "      <td>...</td>\n",
       "      <td>...</td>\n",
       "    </tr>\n",
       "    <tr>\n",
       "      <th>5513709</th>\n",
       "      <td>fffffa7baf370083ebcdd98f26a7e31a</td>\n",
       "      <td>8609</td>\n",
       "      <td>0.992726</td>\n",
       "      <td>14.0</td>\n",
       "    </tr>\n",
       "    <tr>\n",
       "      <th>5513710</th>\n",
       "      <td>fffffa7baf370083ebcdd98f26a7e31a</td>\n",
       "      <td>8462</td>\n",
       "      <td>0.992726</td>\n",
       "      <td>14.0</td>\n",
       "    </tr>\n",
       "    <tr>\n",
       "      <th>5513711</th>\n",
       "      <td>fffffa7baf370083ebcdd98f26a7e31a</td>\n",
       "      <td>6247</td>\n",
       "      <td>0.992726</td>\n",
       "      <td>17.0</td>\n",
       "    </tr>\n",
       "    <tr>\n",
       "      <th>5513712</th>\n",
       "      <td>fffffa7baf370083ebcdd98f26a7e31a</td>\n",
       "      <td>6524</td>\n",
       "      <td>0.992116</td>\n",
       "      <td>18.0</td>\n",
       "    </tr>\n",
       "    <tr>\n",
       "      <th>5513713</th>\n",
       "      <td>fffffa7baf370083ebcdd98f26a7e31a</td>\n",
       "      <td>11273</td>\n",
       "      <td>0.988287</td>\n",
       "      <td>19.0</td>\n",
       "    </tr>\n",
       "  </tbody>\n",
       "</table>\n",
       "<p>5513714 rows × 4 columns</p>\n",
       "</div>"
      ],
      "text/plain": [
       "                               session_id  yad_no  word2vec_sim  rank\n",
       "0        000007603d533d30453cc45d0f3d119f    8927      0.999902   1.0\n",
       "1        000007603d533d30453cc45d0f3d119f   13544      0.999647   2.0\n",
       "2        000007603d533d30453cc45d0f3d119f   10740      0.999647   2.0\n",
       "3        000007603d533d30453cc45d0f3d119f    5821      0.999647   2.0\n",
       "4        000007603d533d30453cc45d0f3d119f   13697      0.999647   2.0\n",
       "...                                   ...     ...           ...   ...\n",
       "5513709  fffffa7baf370083ebcdd98f26a7e31a    8609      0.992726  14.0\n",
       "5513710  fffffa7baf370083ebcdd98f26a7e31a    8462      0.992726  14.0\n",
       "5513711  fffffa7baf370083ebcdd98f26a7e31a    6247      0.992726  17.0\n",
       "5513712  fffffa7baf370083ebcdd98f26a7e31a    6524      0.992116  18.0\n",
       "5513713  fffffa7baf370083ebcdd98f26a7e31a   11273      0.988287  19.0\n",
       "\n",
       "[5513714 rows x 4 columns]"
      ]
     },
     "execution_count": 21,
     "metadata": {},
     "output_type": "execute_result"
    }
   ],
   "source": [
    "train_session_df"
   ]
  },
  {
   "cell_type": "markdown",
   "metadata": {},
   "source": [
    "## cv"
   ]
  },
  {
   "cell_type": "code",
   "execution_count": 22,
   "metadata": {},
   "outputs": [
    {
     "data": {
      "text/plain": [
       "0.15092698065216062"
      ]
     },
     "execution_count": 22,
     "metadata": {},
     "output_type": "execute_result"
    }
   ],
   "source": [
    "mapk(train_df['yad_no'].to_list(), train_pred_df['yad_no'].to_list(), k=10)"
   ]
  },
  {
   "cell_type": "code",
   "execution_count": 23,
   "metadata": {},
   "outputs": [],
   "source": [
    "train_session_df.to_pickle(f'../datasets/candidate_df/{OUTPUT_NAME}_train.pkl')\n",
    "test_session_df.to_pickle(f'../datasets/candidate_df/{OUTPUT_NAME}_test.pkl')"
   ]
  },
  {
   "cell_type": "code",
   "execution_count": 24,
   "metadata": {},
   "outputs": [],
   "source": [
    "import os\n",
    "os.makedirs(f'../datasets/{OUTPUT_NAME}_pkl', exist_ok=True)\n",
    "\n",
    "user_factors_df.to_pickle(f'../datasets/{OUTPUT_NAME}_pkl/{OUTPUT_NAME}_user_factors_df.pkl')\n",
    "user_factors_last_item_df.to_pickle(f'../datasets/{OUTPUT_NAME}_pkl/{OUTPUT_NAME}_user_factors_last_item_df.pkl')\n",
    "item_factors_df.to_pickle(f'../datasets/{OUTPUT_NAME}_pkl/{OUTPUT_NAME}_item_factors_df.pkl')"
   ]
  },
  {
   "cell_type": "code",
   "execution_count": null,
   "metadata": {},
   "outputs": [],
   "source": []
  }
 ],
 "metadata": {
  "kernelspec": {
   "display_name": "kaggle-pipeline-atmacup-16-kgwzrA72-py3.10",
   "language": "python",
   "name": "python3"
  },
  "language_info": {
   "codemirror_mode": {
    "name": "ipython",
    "version": 3
   },
   "file_extension": ".py",
   "mimetype": "text/x-python",
   "name": "python",
   "nbconvert_exporter": "python",
   "pygments_lexer": "ipython3",
   "version": "3.10.9"
  }
 },
 "nbformat": 4,
 "nbformat_minor": 2
}
