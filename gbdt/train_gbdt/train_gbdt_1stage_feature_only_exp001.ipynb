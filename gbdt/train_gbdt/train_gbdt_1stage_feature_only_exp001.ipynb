{
 "cells": [
  {
   "cell_type": "code",
   "execution_count": 1,
   "metadata": {},
   "outputs": [
    {
     "name": "stderr",
     "output_type": "stream",
     "text": [
      "/home/ryosuke/.cache/pypoetry/virtualenvs/kaggle-pipeline-atmacup-16-kgwzrA72-py3.10/lib/python3.10/site-packages/tqdm/auto.py:21: TqdmWarning: IProgress not found. Please update jupyter and ipywidgets. See https://ipywidgets.readthedocs.io/en/stable/user_install.html\n",
      "  from .autonotebook import tqdm as notebook_tqdm\n"
     ]
    }
   ],
   "source": [
    "\n",
    "from sklearn.metrics import roc_auc_score, accuracy_score, f1_score, log_loss, matthews_corrcoef, precision_recall_curve, auc\n",
    "import pickle\n",
    "import warnings\n",
    "import sys\n",
    "import pandas as pd\n",
    "import os\n",
    "import gc\n",
    "import sys\n",
    "import time\n",
    "import numpy as np\n",
    "import pandas as pd\n",
    "import matplotlib.pyplot as plt\n",
    "from tqdm.auto import tqdm\n",
    "import datetime\n",
    "from collections import defaultdict, Counter\n",
    "\n",
    "import sys\n",
    "sys.path.append('../../')\n",
    "\n",
    "# utils\n",
    "from common_utils.logger import init_logger\n",
    "from common_utils.settings import cfg_init\n",
    "from common_utils.kf import get_fold\n",
    "# from common_utils.gbdt.model_gbdt import LightGBM, CatBoost\n",
    "from common_utils.gbdt.model_gbdt import LightGBM\n",
    "from common_utils.feature_engineering.base import run_block, NumericBlock, LabelEncodingBlock, CountEncodingBlock, AggBlock, TargetEncodingBlock\n",
    "from common_utils.feature_engineering.text import TextLenBlock, TfidfSVDBlock"
   ]
  },
  {
   "cell_type": "code",
   "execution_count": 2,
   "metadata": {},
   "outputs": [],
   "source": [
    "from myutils.metrics import mapk"
   ]
  },
  {
   "cell_type": "code",
   "execution_count": 3,
   "metadata": {},
   "outputs": [],
   "source": [
    "from common_utils.metrics import calc_auc_score"
   ]
  },
  {
   "cell_type": "markdown",
   "metadata": {},
   "source": []
  },
  {
   "cell_type": "code",
   "execution_count": 4,
   "metadata": {},
   "outputs": [
    {
     "name": "stdout",
     "output_type": "stream",
     "text": [
      "running kernel\n",
      "set dataset path\n"
     ]
    }
   ],
   "source": [
    "class CFG:\n",
    "    # ============== comp exp name =============\n",
    "    comp_name = 'atmacup_16'\n",
    "\n",
    "    comp_dir_path = '../../'\n",
    "    comp_folder_name = 'atmaCup16_Dataset'  # compのデータセットのフォルダ名\n",
    "    comp_dataset_path = f'{comp_dir_path}datasets/{comp_folder_name}/'\n",
    "\n",
    "    try:\n",
    "        exp_name = os.path.basename(__file__).split('.')[0]\n",
    "    except Exception:\n",
    "        print('running kernel')\n",
    "        exp_name = None\n",
    "    \n",
    "    exp_name = 'train_gbdt_1stage_feature_only_exp001' # notebook\n",
    "\n",
    "    # ============== model =============\n",
    "    model_name = 'catboost_gkf'\n",
    "\n",
    "    # ============== features =============\n",
    "    catboost_cat_cols = []\n",
    "    catboost_text_cols = []\n",
    "\n",
    "    # ============== pred target =============\n",
    "    target_col = 'target'\n",
    "    target_size = 1\n",
    "    num_class = 5 # multiclassの場合\n",
    "\n",
    "    # ============== fold =============\n",
    "    n_fold = 5\n",
    "    skf_col = 'session_id'\n",
    "    group_col = 'session_id'\n",
    "    fold_type = 'gkf'\n",
    "\n",
    "    objective_cv = 'binary'  # collateとかの型を決める用\n",
    "    metric_direction = 'maximize'  # gbdtだと使わない\n",
    "    metrics = 'calc_auc_score'\n",
    "\n",
    "    # ============== wandb =============\n",
    "    wandb_note = f'starter'\n",
    "\n",
    "    # ============== ほぼ固定 =============\n",
    "    seed = 42\n",
    "\n",
    "    # ============== set dataset path =============\n",
    "    if exp_name is not None:\n",
    "        print('set dataset path')\n",
    "\n",
    "        outputs_path = comp_dir_path +  \\\n",
    "            f'outputs/{comp_name}/{exp_name}/'\n",
    "\n",
    "        submission_dir = outputs_path + 'submissions/'\n",
    "        submission_path = submission_dir + f'submission_{exp_name}.csv'\n",
    "\n",
    "        model_dir = outputs_path + \\\n",
    "            f'{comp_name}-models/'\n",
    "\n",
    "        figures_dir = outputs_path + 'figures/'\n",
    "\n",
    "        log_dir = outputs_path + 'logs/'\n",
    "        log_path = log_dir + f'{exp_name}.txt'"
   ]
  },
  {
   "cell_type": "markdown",
   "metadata": {},
   "source": [
    "## todo \n",
    "\n",
    "last_itemと同じ候補は取り除く"
   ]
  },
  {
   "cell_type": "code",
   "execution_count": 5,
   "metadata": {},
   "outputs": [
    {
     "name": "stderr",
     "output_type": "stream",
     "text": [
      "\n",
      "\n",
      "-------- exp_info -----------------\n",
      "2023年12月16日 14:49:12\n"
     ]
    }
   ],
   "source": [
    "warnings.filterwarnings('ignore')\n",
    "\n",
    "cfg_init(CFG)\n",
    "\n",
    "Logger = init_logger(log_file=CFG.log_path)\n",
    "\n",
    "Logger.info('\\n\\n-------- exp_info -----------------')\n",
    "Logger.info(datetime.datetime.now().strftime('%Y年%m月%d日 %H:%M:%S'))"
   ]
  },
  {
   "cell_type": "code",
   "execution_count": 6,
   "metadata": {},
   "outputs": [],
   "source": [
    "import lightgbm as lgb\n",
    "from catboost import Pool, CatBoostClassifier, CatBoostRegressor\n",
    "import catboost\n",
    "import pandas as pd\n",
    "import matplotlib.pyplot as plt\n",
    "import pickle\n",
    "\n",
    "class CatBoost:\n",
    "\n",
    "    def __init__(self, lgb_params, mode, save_dir=None, imp_dir=None, categorical_feature=None, text_features=None,\n",
    "                 model_name='catboost') -> None:\n",
    "        self.mode = mode\n",
    "        self.save_dir = save_dir\n",
    "        self.imp_dir = imp_dir\n",
    "        self.lgb_params = lgb_params\n",
    "        self.categorical_feature = categorical_feature\n",
    "        self.text_features = text_features\n",
    "\n",
    "        # saveの切り替え用\n",
    "        self.model_name = model_name\n",
    "\n",
    "    def fit(self, x_train, y_train, train_group, val_group, **fit_params) -> None:\n",
    "\n",
    "        print('categorical feature')\n",
    "        print(self.categorical_feature)\n",
    "\n",
    "        print('text feature')\n",
    "        print(self.text_features)\n",
    "\n",
    "        X_val, y_val = fit_params['eval_set'][0]\n",
    "        del fit_params['eval_set']\n",
    "\n",
    "        train_pool = Pool(x_train, y_train, text_features=self.text_features,\n",
    "                          cat_features=self.categorical_feature,\n",
    "                          group_id=train_group)\n",
    "        val_pool = Pool(X_val, y_val, text_features=self.text_features,\n",
    "                        cat_features=self.categorical_feature,\n",
    "                        group_id=val_group)\n",
    "\n",
    "        \"\"\"\n",
    "        if self.mode == 'regression':\n",
    "            self.model = CatBoostRegressor(**self.lgb_params)\n",
    "        else:\n",
    "            self.model = CatBoostClassifier(**self.lgb_params)\n",
    "        \"\"\"\n",
    "        self.model = catboost.CatBoost(self.lgb_params)        \n",
    "\n",
    "        self.model.fit(train_pool,\n",
    "                       eval_set=val_pool,\n",
    "                       **fit_params\n",
    "                       )\n",
    "        self.gain_importances = pd.DataFrame({'Feature': self.model.feature_names_,\n",
    "                                              'Importance': self.model.get_feature_importance(train_pool)})\n",
    "\n",
    "\n",
    "    def plot_importance(self, fold):\n",
    "        \"\"\"\n",
    "        gain_importances = pd.DataFrame({'Feature': self.model.feature_names_,\n",
    "                                         'Importance': self.model.feature_importances_})\n",
    "        \"\"\"\n",
    "        # rerankerだとNoneになる\n",
    "        # print(self.model.feature_importances_)\n",
    "        gain_importances = self.gain_importances\n",
    "\n",
    "        gain_importances.to_csv(\n",
    "            f'{self.imp_dir}catboost_imp_fold_{fold}_{self.model_name}.csv', index=False)\n",
    "\n",
    "        gain_importances = gain_importances.nlargest(\n",
    "            50, 'Importance', keep='first').sort_values(by='Importance', ascending=True)\n",
    "        gain_importances[['Importance', 'Feature']].plot(\n",
    "            kind='barh', x='Feature', color='blue', figsize=(12, 8), fontsize=9)\n",
    "\n",
    "        # plt.ylabel('Feature', fontsize=12)\n",
    "        plt.title(f'gain importance fold {fold}')\n",
    "        plt.savefig(\n",
    "            f'{self.imp_dir}gain_importance_fold{fold}_{self.model_name}.png', bbox_inches='tight')\n",
    "\n",
    "    def plot_importance_all(self, n_fold=5):\n",
    "        dfs = [pd.read_csv(\n",
    "            f'{self.imp_dir}catboost_imp_fold_{fold}_{self.model_name}.csv') for fold in range(n_fold)]\n",
    "        imp_df = pd.concat(dfs).reset_index(drop=True)\n",
    "        imp_df = imp_df.groupby(['Feature'])['Importance'].mean().reset_index()\n",
    "\n",
    "        gain_importances = imp_df.nlargest(\n",
    "            50, 'Importance', keep='first').sort_values(by='Importance', ascending=True)\n",
    "        gain_importances[['Importance', 'Feature']].plot(\n",
    "            kind='barh', x='Feature', color='blue', figsize=(12, 8), fontsize=9)\n",
    "        plt.title('gain importance all')\n",
    "        plt.savefig(\n",
    "            f'{self.imp_dir}gain_importance_all_{self.model_name}.png', bbox_inches='tight')\n",
    "\n",
    "        return imp_df\n",
    "    \n",
    "    def save(self, fold):\n",
    "        save_to = f'{self.save_dir}catboost_fold_{fold}_{self.model_name}.pkl'\n",
    "        pickle.dump(self.model, open(save_to, 'wb'))\n",
    "    \n",
    "    def load(self, fold):\n",
    "        load_from = f'{self.save_dir}catboost_fold_{fold}_{self.model_name}.pkl'\n",
    "        self.model = pickle.load(open(load_from, 'rb'))\n",
    "        \n",
    "    def predict(self, x):\n",
    "        return self.model.predict(x)\n",
    "\n",
    "    def predict_proba(self, x):\n",
    "        return self.model.predict_proba(x)\n",
    "        # return self.model.predict(x, prediction_type='Probability')[:, 1]\n"
   ]
  },
  {
   "cell_type": "code",
   "execution_count": 7,
   "metadata": {},
   "outputs": [],
   "source": [
    "def get_model(model_name):\n",
    "    if 'lgb' in model_name:\n",
    "        \"\"\"\n",
    "        適宜追加: \n",
    "        'metric': 'rmse',\n",
    "        \"\"\"\n",
    "        \"\"\"\n",
    "        lgb_params = {'objective': CFG.objective_cv, 'boosting_type': 'gbdt', 'verbose': -1,\n",
    "                    'n_jobs': 8, 'seed': CFG.seed, 'learning_rate': 0.1,\n",
    "                    # 'num_class': CFG.num_class, # multiclassなら必要\n",
    "                    'metric': 'auc',\n",
    "                    'num_leaves': 64,\n",
    "                    'max_depth': 5,\n",
    "                    'bagging_seed': CFG.seed,\n",
    "                    'feature_fraction_seed': CFG.seed,\n",
    "                    'drop_seed': CFG.seed,\n",
    "                    }\n",
    "        \"\"\"\n",
    "\n",
    "        lgb_params = {'objective': 'lambdarank', 'boosting_type': 'gbdt', 'verbose': -1,\n",
    "                    'n_jobs': 8, 'seed': CFG.seed, 'learning_rate': 0.1,\n",
    "                    # 'num_class': CFG.num_class, # multiclassなら必要\n",
    "                    # 'metric': 'map',\n",
    "                    'num_leaves': 64,\n",
    "                    'max_depth': 5,\n",
    "                    'bagging_seed': CFG.seed,\n",
    "                    'feature_fraction_seed': CFG.seed,\n",
    "                    'drop_seed': CFG.seed,\n",
    "                    # \"eval_at\": 10,\n",
    "                    }\n",
    "        \n",
    "        \"\"\"\n",
    "        lgb_params = {'objective': 'xendcg', 'boosting_type': 'gbdt', 'verbose': -1,\n",
    "                    'n_jobs': 8, 'seed': CFG.seed, \n",
    "                    'learning_rate': 0.1,\n",
    "                    # 'num_leaves': 255,\n",
    "                    # 'min_data_in_leaf': 100,\n",
    "                    'bagging_seed': CFG.seed,\n",
    "                    'feature_fraction_seed': CFG.seed,\n",
    "                    'drop_seed': CFG.seed,\n",
    "                    # \"eval_at\": 10,\n",
    "                    }\n",
    "        \"\"\"\n",
    "        model = LightGBM(lgb_params=lgb_params,\n",
    "                        imp_dir=CFG.figures_dir, save_dir=CFG.model_dir,\n",
    "                        model_name=model_name)\n",
    "    elif 'catboost' in model_name:\n",
    "        \"\"\"\n",
    "        追加予定: \n",
    "        'loss_function': 'RMSE', 'task_type': 'GPU',\n",
    "        \"\"\"\n",
    "        lgb_params = {\n",
    "                    # 'random_seed': CFG.seed, \n",
    "                    'iterations': 10000,\n",
    "                    'loss_function': 'YetiRank',\n",
    "                    # 'loss_function': 'PairLogitPairwise',\n",
    "                    'task_type': 'GPU',\n",
    "                    'learning_rate': 0.1, # YetiRank gpuのときは設定しない\n",
    "                    \"random_state\": 42,\n",
    "                    }\n",
    "        if lgb_params['loss_function'] == 'PairLogitPairwise':\n",
    "            lgb_params['learning_rate'] = 0.1\n",
    "            lgb_params['iterations'] = 100000\n",
    "\n",
    "        model = CatBoost(lgb_params=lgb_params,\n",
    "                         mode = CFG.objective_cv,\n",
    "                         imp_dir=CFG.figures_dir, save_dir=CFG.model_dir,\n",
    "                         model_name=model_name,\n",
    "                         categorical_feature=CFG.catboost_cat_cols,\n",
    "                         text_features=CFG.catboost_text_cols)       \n",
    "\n",
    "\n",
    "    return model"
   ]
  },
  {
   "cell_type": "code",
   "execution_count": 8,
   "metadata": {},
   "outputs": [],
   "source": [
    "def get_fit_params(model_name):\n",
    "    if 'lgb' in model_name:\n",
    "        params = {\n",
    "            'num_boost_round': 100000\n",
    "        }\n",
    "        # 'stopping_rounds': 50, # 'early_stopping_rounds': 50,\n",
    "        #         'verbose_eval': 50\n",
    "    elif 'catboost' in model_name:\n",
    "        params = {\n",
    "            'early_stopping_rounds': 50,\n",
    "            'verbose': 50,\n",
    "            'use_best_model': True\n",
    "        }\n",
    "        \n",
    "    return params"
   ]
  },
  {
   "cell_type": "code",
   "execution_count": 9,
   "metadata": {},
   "outputs": [],
   "source": [
    "def get_result(result_df):\n",
    "\n",
    "    pred_cols = [f'pred_{i}' for i in range(CFG.target_size)]\n",
    "\n",
    "    preds = result_df[pred_cols].values\n",
    "    labels = result_df[CFG.target_col].values\n",
    "\n",
    "    eval_func = eval(CFG.metrics)\n",
    "    best_score = eval_func(labels, preds)\n",
    "\n",
    "    Logger.info(f'best_score: {best_score:<.4f}')\n",
    "    return best_score\n"
   ]
  },
  {
   "cell_type": "code",
   "execution_count": 10,
   "metadata": {},
   "outputs": [],
   "source": [
    "train_log_df = pd.read_csv(CFG.comp_dataset_path + 'train_log.csv')\n",
    "train_label_df = pd.read_csv(CFG.comp_dataset_path + 'train_label.csv')\n",
    "test_log_df = pd.read_csv(CFG.comp_dataset_path + 'test_log.csv')\n",
    "yado_df = pd.read_csv(CFG.comp_dataset_path + 'yado.csv')\n",
    "\n",
    "train_session_only_df = train_label_df[['session_id']]\n",
    "test_session_only_df = pd.read_csv(CFG.comp_dataset_path + 'test_session.csv')\n",
    "\n",
    "train_test_log_df = pd.concat([train_log_df, test_log_df], axis=0).reset_index(drop=True)"
   ]
  },
  {
   "cell_type": "code",
   "execution_count": 11,
   "metadata": {},
   "outputs": [],
   "source": [
    "# candidate_names = ['past_item', 'next_view_item', 'same_area_sml_cd']\n",
    "candidate_names = ['past_item', 'next_view_item_cand_50', 'same_area_lrg_cd']\n"
   ]
  },
  {
   "cell_type": "code",
   "execution_count": 12,
   "metadata": {},
   "outputs": [],
   "source": [
    "def make_train_test_df(mode: str) -> pd.DataFrame:\n",
    "    output_df = pd.DataFrame()\n",
    "    candidate_rank_cols = []\n",
    "\n",
    "    for candidate_name in candidate_names:\n",
    "        session_df = pd.read_pickle(f'../../datasets/candidate_df/{candidate_name}_{mode}.pkl')\n",
    "        # print(session_df['yad_no'].isnull().sum())\n",
    "        session_df['yad_no'] = session_df['yad_no'].astype(int)\n",
    "\n",
    "        if candidate_name == 'past_item':\n",
    "            session_df.rename(columns={'rank': f'rank_{candidate_name}'}, inplace=True)\n",
    "            candidate_rank_cols.append(f'rank_{candidate_name}')\n",
    "        else:\n",
    "            del session_df['rank'], session_df['count']\n",
    "        \n",
    "        session_df['candidate_name'] = candidate_name\n",
    "        output_df = pd.concat([output_df, session_df], axis=0)\n",
    "    \n",
    "    output_df = output_df.reset_index(drop=True)\n",
    "\n",
    "    output_df = output_df.drop_duplicates(['session_id', 'yad_no']).reset_index(drop=True)\n",
    "\n",
    "    return output_df, candidate_rank_cols"
   ]
  },
  {
   "cell_type": "code",
   "execution_count": 13,
   "metadata": {},
   "outputs": [],
   "source": [
    "train_df, candidate_rank_cols = make_train_test_df('train')\n",
    "test_df, _ = make_train_test_df('test')"
   ]
  },
  {
   "cell_type": "code",
   "execution_count": 14,
   "metadata": {},
   "outputs": [
    {
     "data": {
      "text/html": [
       "<div>\n",
       "<style scoped>\n",
       "    .dataframe tbody tr th:only-of-type {\n",
       "        vertical-align: middle;\n",
       "    }\n",
       "\n",
       "    .dataframe tbody tr th {\n",
       "        vertical-align: top;\n",
       "    }\n",
       "\n",
       "    .dataframe thead th {\n",
       "        text-align: right;\n",
       "    }\n",
       "</style>\n",
       "<table border=\"1\" class=\"dataframe\">\n",
       "  <thead>\n",
       "    <tr style=\"text-align: right;\">\n",
       "      <th></th>\n",
       "      <th>session_id</th>\n",
       "      <th>yad_no</th>\n",
       "      <th>rank_past_item</th>\n",
       "      <th>candidate_name</th>\n",
       "    </tr>\n",
       "  </thead>\n",
       "  <tbody>\n",
       "    <tr>\n",
       "      <th>0</th>\n",
       "      <td>000104bdffaaad1a1e0a9ebacf585f33</td>\n",
       "      <td>96</td>\n",
       "      <td>1.0</td>\n",
       "      <td>past_item</td>\n",
       "    </tr>\n",
       "    <tr>\n",
       "      <th>1</th>\n",
       "      <td>00026fd325b5d65d18e6de78ea2a3751</td>\n",
       "      <td>756</td>\n",
       "      <td>1.0</td>\n",
       "      <td>past_item</td>\n",
       "    </tr>\n",
       "    <tr>\n",
       "      <th>2</th>\n",
       "      <td>0003439cbd15fa2463d0e97d56dadf8e</td>\n",
       "      <td>143</td>\n",
       "      <td>1.0</td>\n",
       "      <td>past_item</td>\n",
       "    </tr>\n",
       "    <tr>\n",
       "      <th>3</th>\n",
       "      <td>0003948318658b2072bc29e99415743e</td>\n",
       "      <td>569</td>\n",
       "      <td>1.0</td>\n",
       "      <td>past_item</td>\n",
       "    </tr>\n",
       "    <tr>\n",
       "      <th>4</th>\n",
       "      <td>00044db9da5da40b1e0056ba487cdc28</td>\n",
       "      <td>1383</td>\n",
       "      <td>1.0</td>\n",
       "      <td>past_item</td>\n",
       "    </tr>\n",
       "    <tr>\n",
       "      <th>...</th>\n",
       "      <td>...</td>\n",
       "      <td>...</td>\n",
       "      <td>...</td>\n",
       "      <td>...</td>\n",
       "    </tr>\n",
       "    <tr>\n",
       "      <th>28156714</th>\n",
       "      <td>fffffa7baf370083ebcdd98f26a7e31a</td>\n",
       "      <td>1028</td>\n",
       "      <td>NaN</td>\n",
       "      <td>same_area_lrg_cd</td>\n",
       "    </tr>\n",
       "    <tr>\n",
       "      <th>28156715</th>\n",
       "      <td>fffffa7baf370083ebcdd98f26a7e31a</td>\n",
       "      <td>1750</td>\n",
       "      <td>NaN</td>\n",
       "      <td>same_area_lrg_cd</td>\n",
       "    </tr>\n",
       "    <tr>\n",
       "      <th>28156716</th>\n",
       "      <td>fffffa7baf370083ebcdd98f26a7e31a</td>\n",
       "      <td>6247</td>\n",
       "      <td>NaN</td>\n",
       "      <td>same_area_lrg_cd</td>\n",
       "    </tr>\n",
       "    <tr>\n",
       "      <th>28156717</th>\n",
       "      <td>fffffa7baf370083ebcdd98f26a7e31a</td>\n",
       "      <td>5941</td>\n",
       "      <td>NaN</td>\n",
       "      <td>same_area_lrg_cd</td>\n",
       "    </tr>\n",
       "    <tr>\n",
       "      <th>28156718</th>\n",
       "      <td>fffffa7baf370083ebcdd98f26a7e31a</td>\n",
       "      <td>12198</td>\n",
       "      <td>NaN</td>\n",
       "      <td>same_area_lrg_cd</td>\n",
       "    </tr>\n",
       "  </tbody>\n",
       "</table>\n",
       "<p>28156719 rows × 4 columns</p>\n",
       "</div>"
      ],
      "text/plain": [
       "                                session_id  yad_no  rank_past_item  \\\n",
       "0         000104bdffaaad1a1e0a9ebacf585f33      96             1.0   \n",
       "1         00026fd325b5d65d18e6de78ea2a3751     756             1.0   \n",
       "2         0003439cbd15fa2463d0e97d56dadf8e     143             1.0   \n",
       "3         0003948318658b2072bc29e99415743e     569             1.0   \n",
       "4         00044db9da5da40b1e0056ba487cdc28    1383             1.0   \n",
       "...                                    ...     ...             ...   \n",
       "28156714  fffffa7baf370083ebcdd98f26a7e31a    1028             NaN   \n",
       "28156715  fffffa7baf370083ebcdd98f26a7e31a    1750             NaN   \n",
       "28156716  fffffa7baf370083ebcdd98f26a7e31a    6247             NaN   \n",
       "28156717  fffffa7baf370083ebcdd98f26a7e31a    5941             NaN   \n",
       "28156718  fffffa7baf370083ebcdd98f26a7e31a   12198             NaN   \n",
       "\n",
       "            candidate_name  \n",
       "0                past_item  \n",
       "1                past_item  \n",
       "2                past_item  \n",
       "3                past_item  \n",
       "4                past_item  \n",
       "...                    ...  \n",
       "28156714  same_area_lrg_cd  \n",
       "28156715  same_area_lrg_cd  \n",
       "28156716  same_area_lrg_cd  \n",
       "28156717  same_area_lrg_cd  \n",
       "28156718  same_area_lrg_cd  \n",
       "\n",
       "[28156719 rows x 4 columns]"
      ]
     },
     "execution_count": 14,
     "metadata": {},
     "output_type": "execute_result"
    }
   ],
   "source": [
    "train_df"
   ]
  },
  {
   "cell_type": "code",
   "execution_count": 15,
   "metadata": {},
   "outputs": [],
   "source": [
    "session_to_true_yad = dict(zip(train_label_df['session_id'], train_label_df['yad_no']))"
   ]
  },
  {
   "cell_type": "code",
   "execution_count": 16,
   "metadata": {},
   "outputs": [
    {
     "name": "stdout",
     "output_type": "stream",
     "text": [
      "0.9618528704736438\n",
      "0.9618528704736438\n"
     ]
    }
   ],
   "source": [
    "def calc_recall():\n",
    "    # key: session_id, value: yad_no train_dfをgroup化してから辞書に\n",
    "    session_to_yad_dict = train_df.groupby('session_id')['yad_no'].apply(list).to_dict()\n",
    "\n",
    "    cnt = 0\n",
    "    total_cnt = 0\n",
    "    # for session_id, grp_df in train_df.groupby('session_id'):\n",
    "    for session_id, yads in session_to_yad_dict.items():\n",
    "        # yads = set(grp_df['yad_no'].unique())\n",
    "        yads = set(yads)\n",
    "        true_yad = session_to_true_yad[session_id]\n",
    "\n",
    "        if true_yad in yads:\n",
    "            cnt += 1\n",
    "        \n",
    "        total_cnt += 1\n",
    "    \n",
    "    print(cnt / total_cnt)\n",
    "    print(cnt / len(train_label_df))\n",
    "calc_recall()"
   ]
  },
  {
   "cell_type": "code",
   "execution_count": 17,
   "metadata": {},
   "outputs": [
    {
     "data": {
      "text/html": [
       "<div>\n",
       "<style scoped>\n",
       "    .dataframe tbody tr th:only-of-type {\n",
       "        vertical-align: middle;\n",
       "    }\n",
       "\n",
       "    .dataframe tbody tr th {\n",
       "        vertical-align: top;\n",
       "    }\n",
       "\n",
       "    .dataframe thead th {\n",
       "        text-align: right;\n",
       "    }\n",
       "</style>\n",
       "<table border=\"1\" class=\"dataframe\">\n",
       "  <thead>\n",
       "    <tr style=\"text-align: right;\">\n",
       "      <th></th>\n",
       "      <th>session_id</th>\n",
       "      <th>yad_no</th>\n",
       "      <th>rank_past_item</th>\n",
       "      <th>candidate_name</th>\n",
       "    </tr>\n",
       "  </thead>\n",
       "  <tbody>\n",
       "    <tr>\n",
       "      <th>0</th>\n",
       "      <td>000104bdffaaad1a1e0a9ebacf585f33</td>\n",
       "      <td>96</td>\n",
       "      <td>1.0</td>\n",
       "      <td>past_item</td>\n",
       "    </tr>\n",
       "    <tr>\n",
       "      <th>1</th>\n",
       "      <td>00026fd325b5d65d18e6de78ea2a3751</td>\n",
       "      <td>756</td>\n",
       "      <td>1.0</td>\n",
       "      <td>past_item</td>\n",
       "    </tr>\n",
       "    <tr>\n",
       "      <th>2</th>\n",
       "      <td>0003439cbd15fa2463d0e97d56dadf8e</td>\n",
       "      <td>143</td>\n",
       "      <td>1.0</td>\n",
       "      <td>past_item</td>\n",
       "    </tr>\n",
       "    <tr>\n",
       "      <th>3</th>\n",
       "      <td>0003948318658b2072bc29e99415743e</td>\n",
       "      <td>569</td>\n",
       "      <td>1.0</td>\n",
       "      <td>past_item</td>\n",
       "    </tr>\n",
       "    <tr>\n",
       "      <th>4</th>\n",
       "      <td>00044db9da5da40b1e0056ba487cdc28</td>\n",
       "      <td>1383</td>\n",
       "      <td>1.0</td>\n",
       "      <td>past_item</td>\n",
       "    </tr>\n",
       "    <tr>\n",
       "      <th>...</th>\n",
       "      <td>...</td>\n",
       "      <td>...</td>\n",
       "      <td>...</td>\n",
       "      <td>...</td>\n",
       "    </tr>\n",
       "    <tr>\n",
       "      <th>28156714</th>\n",
       "      <td>fffffa7baf370083ebcdd98f26a7e31a</td>\n",
       "      <td>1028</td>\n",
       "      <td>NaN</td>\n",
       "      <td>same_area_lrg_cd</td>\n",
       "    </tr>\n",
       "    <tr>\n",
       "      <th>28156715</th>\n",
       "      <td>fffffa7baf370083ebcdd98f26a7e31a</td>\n",
       "      <td>1750</td>\n",
       "      <td>NaN</td>\n",
       "      <td>same_area_lrg_cd</td>\n",
       "    </tr>\n",
       "    <tr>\n",
       "      <th>28156716</th>\n",
       "      <td>fffffa7baf370083ebcdd98f26a7e31a</td>\n",
       "      <td>6247</td>\n",
       "      <td>NaN</td>\n",
       "      <td>same_area_lrg_cd</td>\n",
       "    </tr>\n",
       "    <tr>\n",
       "      <th>28156717</th>\n",
       "      <td>fffffa7baf370083ebcdd98f26a7e31a</td>\n",
       "      <td>5941</td>\n",
       "      <td>NaN</td>\n",
       "      <td>same_area_lrg_cd</td>\n",
       "    </tr>\n",
       "    <tr>\n",
       "      <th>28156718</th>\n",
       "      <td>fffffa7baf370083ebcdd98f26a7e31a</td>\n",
       "      <td>12198</td>\n",
       "      <td>NaN</td>\n",
       "      <td>same_area_lrg_cd</td>\n",
       "    </tr>\n",
       "  </tbody>\n",
       "</table>\n",
       "<p>28156719 rows × 4 columns</p>\n",
       "</div>"
      ],
      "text/plain": [
       "                                session_id  yad_no  rank_past_item  \\\n",
       "0         000104bdffaaad1a1e0a9ebacf585f33      96             1.0   \n",
       "1         00026fd325b5d65d18e6de78ea2a3751     756             1.0   \n",
       "2         0003439cbd15fa2463d0e97d56dadf8e     143             1.0   \n",
       "3         0003948318658b2072bc29e99415743e     569             1.0   \n",
       "4         00044db9da5da40b1e0056ba487cdc28    1383             1.0   \n",
       "...                                    ...     ...             ...   \n",
       "28156714  fffffa7baf370083ebcdd98f26a7e31a    1028             NaN   \n",
       "28156715  fffffa7baf370083ebcdd98f26a7e31a    1750             NaN   \n",
       "28156716  fffffa7baf370083ebcdd98f26a7e31a    6247             NaN   \n",
       "28156717  fffffa7baf370083ebcdd98f26a7e31a    5941             NaN   \n",
       "28156718  fffffa7baf370083ebcdd98f26a7e31a   12198             NaN   \n",
       "\n",
       "            candidate_name  \n",
       "0                past_item  \n",
       "1                past_item  \n",
       "2                past_item  \n",
       "3                past_item  \n",
       "4                past_item  \n",
       "...                    ...  \n",
       "28156714  same_area_lrg_cd  \n",
       "28156715  same_area_lrg_cd  \n",
       "28156716  same_area_lrg_cd  \n",
       "28156717  same_area_lrg_cd  \n",
       "28156718  same_area_lrg_cd  \n",
       "\n",
       "[28156719 rows x 4 columns]"
      ]
     },
     "metadata": {},
     "output_type": "display_data"
    }
   ],
   "source": [
    "display(train_df)"
   ]
  },
  {
   "cell_type": "code",
   "execution_count": 18,
   "metadata": {},
   "outputs": [],
   "source": [
    "train_df = pd.merge(train_df, train_label_df.rename(columns={'yad_no': 'true_yad_no'}), on='session_id', how='left')"
   ]
  },
  {
   "cell_type": "code",
   "execution_count": 19,
   "metadata": {},
   "outputs": [],
   "source": [
    "train_df['target'] = (train_df['yad_no'] == train_df['true_yad_no']).astype(int)"
   ]
  },
  {
   "cell_type": "code",
   "execution_count": 20,
   "metadata": {},
   "outputs": [
    {
     "data": {
      "text/plain": [
       "target\n",
       "0    27879034\n",
       "1      277685\n",
       "Name: count, dtype: int64"
      ]
     },
     "execution_count": 20,
     "metadata": {},
     "output_type": "execute_result"
    }
   ],
   "source": [
    "train_df['target'].value_counts()"
   ]
  },
  {
   "cell_type": "code",
   "execution_count": 21,
   "metadata": {},
   "outputs": [
    {
     "data": {
      "text/html": [
       "<div>\n",
       "<style scoped>\n",
       "    .dataframe tbody tr th:only-of-type {\n",
       "        vertical-align: middle;\n",
       "    }\n",
       "\n",
       "    .dataframe tbody tr th {\n",
       "        vertical-align: top;\n",
       "    }\n",
       "\n",
       "    .dataframe thead th {\n",
       "        text-align: right;\n",
       "    }\n",
       "</style>\n",
       "<table border=\"1\" class=\"dataframe\">\n",
       "  <thead>\n",
       "    <tr style=\"text-align: right;\">\n",
       "      <th></th>\n",
       "      <th>session_id</th>\n",
       "      <th>yad_no</th>\n",
       "      <th>rank_past_item</th>\n",
       "      <th>candidate_name</th>\n",
       "    </tr>\n",
       "  </thead>\n",
       "  <tbody>\n",
       "    <tr>\n",
       "      <th>0</th>\n",
       "      <td>00001149e9c73985425197104712478c</td>\n",
       "      <td>3560</td>\n",
       "      <td>1.0</td>\n",
       "      <td>past_item</td>\n",
       "    </tr>\n",
       "    <tr>\n",
       "      <th>1</th>\n",
       "      <td>0000f17ae2628237d78d3a38b009d3be</td>\n",
       "      <td>757</td>\n",
       "      <td>1.0</td>\n",
       "      <td>past_item</td>\n",
       "    </tr>\n",
       "    <tr>\n",
       "      <th>2</th>\n",
       "      <td>000174a6f7a569b84c5575760d2e9664</td>\n",
       "      <td>12341</td>\n",
       "      <td>1.0</td>\n",
       "      <td>past_item</td>\n",
       "    </tr>\n",
       "    <tr>\n",
       "      <th>3</th>\n",
       "      <td>000174a6f7a569b84c5575760d2e9664</td>\n",
       "      <td>13610</td>\n",
       "      <td>2.0</td>\n",
       "      <td>past_item</td>\n",
       "    </tr>\n",
       "    <tr>\n",
       "      <th>4</th>\n",
       "      <td>0002f6aa27bcf984eeb3cf07297a96a9</td>\n",
       "      <td>10904</td>\n",
       "      <td>1.0</td>\n",
       "      <td>past_item</td>\n",
       "    </tr>\n",
       "    <tr>\n",
       "      <th>...</th>\n",
       "      <td>...</td>\n",
       "      <td>...</td>\n",
       "      <td>...</td>\n",
       "      <td>...</td>\n",
       "    </tr>\n",
       "    <tr>\n",
       "      <th>14899009</th>\n",
       "      <td>ffffe984aafd6127ce8e43e3ca40c79d</td>\n",
       "      <td>5817</td>\n",
       "      <td>NaN</td>\n",
       "      <td>same_area_lrg_cd</td>\n",
       "    </tr>\n",
       "    <tr>\n",
       "      <th>14899010</th>\n",
       "      <td>ffffe984aafd6127ce8e43e3ca40c79d</td>\n",
       "      <td>8088</td>\n",
       "      <td>NaN</td>\n",
       "      <td>same_area_lrg_cd</td>\n",
       "    </tr>\n",
       "    <tr>\n",
       "      <th>14899011</th>\n",
       "      <td>ffffe984aafd6127ce8e43e3ca40c79d</td>\n",
       "      <td>10638</td>\n",
       "      <td>NaN</td>\n",
       "      <td>same_area_lrg_cd</td>\n",
       "    </tr>\n",
       "    <tr>\n",
       "      <th>14899012</th>\n",
       "      <td>ffffe984aafd6127ce8e43e3ca40c79d</td>\n",
       "      <td>2320</td>\n",
       "      <td>NaN</td>\n",
       "      <td>same_area_lrg_cd</td>\n",
       "    </tr>\n",
       "    <tr>\n",
       "      <th>14899013</th>\n",
       "      <td>ffffe984aafd6127ce8e43e3ca40c79d</td>\n",
       "      <td>10129</td>\n",
       "      <td>NaN</td>\n",
       "      <td>same_area_lrg_cd</td>\n",
       "    </tr>\n",
       "  </tbody>\n",
       "</table>\n",
       "<p>14899014 rows × 4 columns</p>\n",
       "</div>"
      ],
      "text/plain": [
       "                                session_id  yad_no  rank_past_item  \\\n",
       "0         00001149e9c73985425197104712478c    3560             1.0   \n",
       "1         0000f17ae2628237d78d3a38b009d3be     757             1.0   \n",
       "2         000174a6f7a569b84c5575760d2e9664   12341             1.0   \n",
       "3         000174a6f7a569b84c5575760d2e9664   13610             2.0   \n",
       "4         0002f6aa27bcf984eeb3cf07297a96a9   10904             1.0   \n",
       "...                                    ...     ...             ...   \n",
       "14899009  ffffe984aafd6127ce8e43e3ca40c79d    5817             NaN   \n",
       "14899010  ffffe984aafd6127ce8e43e3ca40c79d    8088             NaN   \n",
       "14899011  ffffe984aafd6127ce8e43e3ca40c79d   10638             NaN   \n",
       "14899012  ffffe984aafd6127ce8e43e3ca40c79d    2320             NaN   \n",
       "14899013  ffffe984aafd6127ce8e43e3ca40c79d   10129             NaN   \n",
       "\n",
       "            candidate_name  \n",
       "0                past_item  \n",
       "1                past_item  \n",
       "2                past_item  \n",
       "3                past_item  \n",
       "4                past_item  \n",
       "...                    ...  \n",
       "14899009  same_area_lrg_cd  \n",
       "14899010  same_area_lrg_cd  \n",
       "14899011  same_area_lrg_cd  \n",
       "14899012  same_area_lrg_cd  \n",
       "14899013  same_area_lrg_cd  \n",
       "\n",
       "[14899014 rows x 4 columns]"
      ]
     },
     "metadata": {},
     "output_type": "display_data"
    }
   ],
   "source": [
    "display(test_df)"
   ]
  },
  {
   "cell_type": "markdown",
   "metadata": {},
   "source": [
    "## Reranker用にsort"
   ]
  },
  {
   "cell_type": "code",
   "execution_count": 22,
   "metadata": {},
   "outputs": [],
   "source": [
    "candidate_name_to_num = dict([(name, i) for i, name in enumerate(train_df['candidate_name'].unique())])\n",
    "train_df['candidate_name_num'] = train_df['candidate_name'].map(candidate_name_to_num)\n",
    "test_df['candidate_name_num'] = test_df['candidate_name'].map(candidate_name_to_num)\n",
    "\n",
    "\"\"\"\n",
    "リクルート11th\n",
    "LightGBMのxendgcやlambdarankでは正例のみや負例のみのuserは学習に無意味なのと、メトリックの計算がおかしくなるので省く\n",
    "\"\"\"\n",
    "train_df['all_zero_flag'] = train_df.groupby('session_id')[CFG.target_col].transform('max')\n",
    "\n",
    "train_df = train_df.sort_values(['session_id', 'candidate_name_num']).reset_index(drop=True)\n",
    "test_df = test_df.sort_values(['session_id', 'candidate_name_num']).reset_index(drop=True)"
   ]
  },
  {
   "cell_type": "code",
   "execution_count": 23,
   "metadata": {},
   "outputs": [
    {
     "data": {
      "text/html": [
       "<div>\n",
       "<style scoped>\n",
       "    .dataframe tbody tr th:only-of-type {\n",
       "        vertical-align: middle;\n",
       "    }\n",
       "\n",
       "    .dataframe tbody tr th {\n",
       "        vertical-align: top;\n",
       "    }\n",
       "\n",
       "    .dataframe thead th {\n",
       "        text-align: right;\n",
       "    }\n",
       "</style>\n",
       "<table border=\"1\" class=\"dataframe\">\n",
       "  <thead>\n",
       "    <tr style=\"text-align: right;\">\n",
       "      <th></th>\n",
       "      <th>session_id</th>\n",
       "      <th>yad_no</th>\n",
       "      <th>rank_past_item</th>\n",
       "      <th>candidate_name</th>\n",
       "      <th>true_yad_no</th>\n",
       "      <th>target</th>\n",
       "      <th>candidate_name_num</th>\n",
       "      <th>all_zero_flag</th>\n",
       "    </tr>\n",
       "  </thead>\n",
       "  <tbody>\n",
       "    <tr>\n",
       "      <th>0</th>\n",
       "      <td>000007603d533d30453cc45d0f3d119f</td>\n",
       "      <td>11882</td>\n",
       "      <td>NaN</td>\n",
       "      <td>next_view_item_cand_50</td>\n",
       "      <td>4101</td>\n",
       "      <td>0</td>\n",
       "      <td>1</td>\n",
       "      <td>1</td>\n",
       "    </tr>\n",
       "    <tr>\n",
       "      <th>1</th>\n",
       "      <td>000007603d533d30453cc45d0f3d119f</td>\n",
       "      <td>2808</td>\n",
       "      <td>NaN</td>\n",
       "      <td>next_view_item_cand_50</td>\n",
       "      <td>4101</td>\n",
       "      <td>0</td>\n",
       "      <td>1</td>\n",
       "      <td>1</td>\n",
       "    </tr>\n",
       "    <tr>\n",
       "      <th>2</th>\n",
       "      <td>000007603d533d30453cc45d0f3d119f</td>\n",
       "      <td>5289</td>\n",
       "      <td>NaN</td>\n",
       "      <td>next_view_item_cand_50</td>\n",
       "      <td>4101</td>\n",
       "      <td>0</td>\n",
       "      <td>1</td>\n",
       "      <td>1</td>\n",
       "    </tr>\n",
       "    <tr>\n",
       "      <th>3</th>\n",
       "      <td>000007603d533d30453cc45d0f3d119f</td>\n",
       "      <td>4101</td>\n",
       "      <td>NaN</td>\n",
       "      <td>next_view_item_cand_50</td>\n",
       "      <td>4101</td>\n",
       "      <td>1</td>\n",
       "      <td>1</td>\n",
       "      <td>1</td>\n",
       "    </tr>\n",
       "    <tr>\n",
       "      <th>4</th>\n",
       "      <td>000007603d533d30453cc45d0f3d119f</td>\n",
       "      <td>11101</td>\n",
       "      <td>NaN</td>\n",
       "      <td>same_area_lrg_cd</td>\n",
       "      <td>4101</td>\n",
       "      <td>0</td>\n",
       "      <td>2</td>\n",
       "      <td>1</td>\n",
       "    </tr>\n",
       "    <tr>\n",
       "      <th>...</th>\n",
       "      <td>...</td>\n",
       "      <td>...</td>\n",
       "      <td>...</td>\n",
       "      <td>...</td>\n",
       "      <td>...</td>\n",
       "      <td>...</td>\n",
       "      <td>...</td>\n",
       "      <td>...</td>\n",
       "    </tr>\n",
       "    <tr>\n",
       "      <th>28156714</th>\n",
       "      <td>fffffa7baf370083ebcdd98f26a7e31a</td>\n",
       "      <td>1028</td>\n",
       "      <td>NaN</td>\n",
       "      <td>same_area_lrg_cd</td>\n",
       "      <td>2439</td>\n",
       "      <td>0</td>\n",
       "      <td>2</td>\n",
       "      <td>1</td>\n",
       "    </tr>\n",
       "    <tr>\n",
       "      <th>28156715</th>\n",
       "      <td>fffffa7baf370083ebcdd98f26a7e31a</td>\n",
       "      <td>1750</td>\n",
       "      <td>NaN</td>\n",
       "      <td>same_area_lrg_cd</td>\n",
       "      <td>2439</td>\n",
       "      <td>0</td>\n",
       "      <td>2</td>\n",
       "      <td>1</td>\n",
       "    </tr>\n",
       "    <tr>\n",
       "      <th>28156716</th>\n",
       "      <td>fffffa7baf370083ebcdd98f26a7e31a</td>\n",
       "      <td>6247</td>\n",
       "      <td>NaN</td>\n",
       "      <td>same_area_lrg_cd</td>\n",
       "      <td>2439</td>\n",
       "      <td>0</td>\n",
       "      <td>2</td>\n",
       "      <td>1</td>\n",
       "    </tr>\n",
       "    <tr>\n",
       "      <th>28156717</th>\n",
       "      <td>fffffa7baf370083ebcdd98f26a7e31a</td>\n",
       "      <td>5941</td>\n",
       "      <td>NaN</td>\n",
       "      <td>same_area_lrg_cd</td>\n",
       "      <td>2439</td>\n",
       "      <td>0</td>\n",
       "      <td>2</td>\n",
       "      <td>1</td>\n",
       "    </tr>\n",
       "    <tr>\n",
       "      <th>28156718</th>\n",
       "      <td>fffffa7baf370083ebcdd98f26a7e31a</td>\n",
       "      <td>12198</td>\n",
       "      <td>NaN</td>\n",
       "      <td>same_area_lrg_cd</td>\n",
       "      <td>2439</td>\n",
       "      <td>0</td>\n",
       "      <td>2</td>\n",
       "      <td>1</td>\n",
       "    </tr>\n",
       "  </tbody>\n",
       "</table>\n",
       "<p>28156719 rows × 8 columns</p>\n",
       "</div>"
      ],
      "text/plain": [
       "                                session_id  yad_no  rank_past_item  \\\n",
       "0         000007603d533d30453cc45d0f3d119f   11882             NaN   \n",
       "1         000007603d533d30453cc45d0f3d119f    2808             NaN   \n",
       "2         000007603d533d30453cc45d0f3d119f    5289             NaN   \n",
       "3         000007603d533d30453cc45d0f3d119f    4101             NaN   \n",
       "4         000007603d533d30453cc45d0f3d119f   11101             NaN   \n",
       "...                                    ...     ...             ...   \n",
       "28156714  fffffa7baf370083ebcdd98f26a7e31a    1028             NaN   \n",
       "28156715  fffffa7baf370083ebcdd98f26a7e31a    1750             NaN   \n",
       "28156716  fffffa7baf370083ebcdd98f26a7e31a    6247             NaN   \n",
       "28156717  fffffa7baf370083ebcdd98f26a7e31a    5941             NaN   \n",
       "28156718  fffffa7baf370083ebcdd98f26a7e31a   12198             NaN   \n",
       "\n",
       "                  candidate_name  true_yad_no  target  candidate_name_num  \\\n",
       "0         next_view_item_cand_50         4101       0                   1   \n",
       "1         next_view_item_cand_50         4101       0                   1   \n",
       "2         next_view_item_cand_50         4101       0                   1   \n",
       "3         next_view_item_cand_50         4101       1                   1   \n",
       "4               same_area_lrg_cd         4101       0                   2   \n",
       "...                          ...          ...     ...                 ...   \n",
       "28156714        same_area_lrg_cd         2439       0                   2   \n",
       "28156715        same_area_lrg_cd         2439       0                   2   \n",
       "28156716        same_area_lrg_cd         2439       0                   2   \n",
       "28156717        same_area_lrg_cd         2439       0                   2   \n",
       "28156718        same_area_lrg_cd         2439       0                   2   \n",
       "\n",
       "          all_zero_flag  \n",
       "0                     1  \n",
       "1                     1  \n",
       "2                     1  \n",
       "3                     1  \n",
       "4                     1  \n",
       "...                 ...  \n",
       "28156714              1  \n",
       "28156715              1  \n",
       "28156716              1  \n",
       "28156717              1  \n",
       "28156718              1  \n",
       "\n",
       "[28156719 rows x 8 columns]"
      ]
     },
     "execution_count": 23,
     "metadata": {},
     "output_type": "execute_result"
    }
   ],
   "source": [
    "train_df"
   ]
  },
  {
   "cell_type": "code",
   "execution_count": 24,
   "metadata": {},
   "outputs": [],
   "source": [
    "def add_last_item(target_df: pd.DataFrame, target_log_df: pd.DataFrame) -> pd.DataFrame:\n",
    "    \n",
    "    # last_item_df = target_log_df.groupby('session_id')['yad_no'].apply(lambda x: x.values[-1]).reset_index()\n",
    "    last_item_df = target_log_df.groupby('session_id').last().reset_index()[['session_id', 'yad_no']]\n",
    "\n",
    "    last_item_df.rename(columns={'yad_no': 'last_item'}, inplace=True)\n",
    "\n",
    "    target_df = pd.merge(target_df, last_item_df, on='session_id', how='left')\n",
    "    return target_df\n"
   ]
  },
  {
   "cell_type": "code",
   "execution_count": 25,
   "metadata": {},
   "outputs": [],
   "source": [
    "train_df = add_last_item(train_df, train_log_df)\n",
    "test_df = add_last_item(test_df, test_log_df)"
   ]
  },
  {
   "cell_type": "markdown",
   "metadata": {},
   "source": [
    "## last_itemと同じものは取り除く"
   ]
  },
  {
   "cell_type": "code",
   "execution_count": 26,
   "metadata": {},
   "outputs": [],
   "source": [
    "train_df = train_df[train_df['yad_no'] != train_df['last_item']].reset_index(drop=True)\n",
    "test_df = test_df[test_df['yad_no'] != test_df['last_item']].reset_index(drop=True)"
   ]
  },
  {
   "cell_type": "markdown",
   "metadata": {},
   "source": [
    "## fold"
   ]
  },
  {
   "cell_type": "code",
   "execution_count": 27,
   "metadata": {},
   "outputs": [
    {
     "name": "stdout",
     "output_type": "stream",
     "text": [
      "fold\n",
      "0    5628337\n",
      "1    5628333\n",
      "2    5628333\n",
      "3    5628336\n",
      "4    5628336\n",
      "dtype: int64\n"
     ]
    }
   ],
   "source": [
    "train_df = get_fold(train_df, CFG)"
   ]
  },
  {
   "cell_type": "markdown",
   "metadata": {},
   "source": [
    "## yado  \n",
    "\n",
    "同じエリアかどうか  \n",
    "エリアごとの集約特徴量  \n",
    "最後のitemと同じ地域か\n",
    "\n"
   ]
  },
  {
   "cell_type": "code",
   "execution_count": 28,
   "metadata": {},
   "outputs": [],
   "source": [
    "def add_yado_cols(train_df, test_df, yado_df):\n",
    "\n",
    "    # yad_cols = ['yad_type','total_room_cnt','wireless_lan_flg','onsen_flg','kd_stn_5min','kd_bch_5min','kd_slp_5min','kd_conv_walk_5min']\n",
    "    # 1stageはyad_colsを減らす\n",
    "    yad_cols = ['total_room_cnt']\n",
    "    area_cols = ['sml_cd', 'lrg_cd']\n",
    "\n",
    "    train_df = pd.merge(train_df, yado_df[['yad_no'] + yad_cols + area_cols], on='yad_no', how='left')\n",
    "    test_df = pd.merge(test_df, yado_df[['yad_no'] + yad_cols + area_cols], on='yad_no', how='left')\n",
    "\n",
    "    yado_last_item_df = yado_df.copy()\n",
    "    yado_last_item_df.rename(columns={'yad_no': 'last_item'}, inplace=True)\n",
    "    yad_last_cols = [col + '_last_item' for col in yad_cols]\n",
    "    rename_dict = dict(zip(yad_cols, yad_last_cols))\n",
    "    yado_last_item_df.rename(columns=rename_dict, inplace=True)\n",
    "\n",
    "    train_df = pd.merge(train_df, yado_last_item_df[['last_item'] + yad_last_cols], on='last_item', how='left')\n",
    "    test_df = pd.merge(test_df, yado_last_item_df[['last_item'] + yad_last_cols], on='last_item', how='left')\n",
    "\n",
    "    # 1stageは使わない\n",
    "    \"\"\"\n",
    "    for area_col in area_cols:\n",
    "        grp_df = yado_df.groupby(area_col)[['total_room_cnt']].agg(['mean', 'max', 'min', 'std', 'median'])\n",
    "        grp_df.columns = ['_'.join(c) + f'@{area_col}' for c in grp_df.columns]\n",
    "\n",
    "        train_df = pd.merge(train_df, grp_df, on=area_col, how='left')\n",
    "        test_df = pd.merge(test_df, grp_df, on=area_col, how='left')\n",
    "        \n",
    "        print(grp_df.columns)\n",
    "        yad_cols += grp_df.columns.tolist()\n",
    "    \"\"\"\n",
    "    \n",
    "    # last_itemをkeyにして、yad_noのarea_colをmerge\n",
    "    rename_cols = dict([(col, f'{col}_last_item') for col in area_cols])\n",
    "    rename_cols['yad_no'] = 'last_item'\n",
    "\n",
    "    train_df = pd.merge(train_df, yado_df[['yad_no'] + area_cols].rename(columns=rename_cols), on='last_item', how='left')\n",
    "    test_df = pd.merge(test_df, yado_df[['yad_no'] + area_cols].rename(columns=rename_cols), on='last_item', how='left')\n",
    "\n",
    "    for col in area_cols:\n",
    "        train_df[f'last_item_is_same_{col}'] = (train_df[col] == train_df[f'{col}_last_item']).astype(int)\n",
    "        test_df[f'last_item_is_same_{col}'] = (test_df[col] == test_df[f'{col}_last_item']).astype(int)\n",
    "\n",
    "        yad_cols += [f'last_item_is_same_{col}']\n",
    "\n",
    "    for col in area_cols:\n",
    "        print(train_df[f'last_item_is_same_{col}'].value_counts())\n",
    "        print(test_df[f'last_item_is_same_{col}'].value_counts())\n",
    "\n",
    "    return train_df, test_df, yad_cols, yad_last_cols"
   ]
  },
  {
   "cell_type": "code",
   "execution_count": 29,
   "metadata": {},
   "outputs": [
    {
     "name": "stdout",
     "output_type": "stream",
     "text": [
      "last_item_is_same_sml_cd\n",
      "1    17001963\n",
      "0    11139712\n",
      "Name: count, dtype: int64\n",
      "last_item_is_same_sml_cd\n",
      "1    9101542\n",
      "0    5788659\n",
      "Name: count, dtype: int64\n",
      "last_item_is_same_lrg_cd\n",
      "1    27791870\n",
      "0      349805\n",
      "Name: count, dtype: int64\n",
      "last_item_is_same_lrg_cd\n",
      "1    14668166\n",
      "0      222035\n",
      "Name: count, dtype: int64\n"
     ]
    }
   ],
   "source": [
    "train_df, test_df, yad_cols, yad_last_cols = add_yado_cols(train_df, test_df, yado_df)"
   ]
  },
  {
   "cell_type": "markdown",
   "metadata": {},
   "source": [
    "## last itemとの類似度"
   ]
  },
  {
   "cell_type": "code",
   "execution_count": 30,
   "metadata": {},
   "outputs": [],
   "source": [
    "from scipy.stats import rankdata"
   ]
  },
  {
   "cell_type": "code",
   "execution_count": 31,
   "metadata": {},
   "outputs": [],
   "source": [
    "def plot_feature_distribution(train_df, cols):\n",
    "    for col in cols:\n",
    "        plt.hist(train_df[train_df[CFG.target_col]==1][col], alpha=0.5, label='1', density=True)\n",
    "        plt.hist(train_df[train_df[CFG.target_col]==0][col], alpha=0.5, label='0', density=True)\n",
    "        plt.title(col)\n",
    "        plt.legend()\n",
    "        plt.show()\n"
   ]
  },
  {
   "cell_type": "markdown",
   "metadata": {},
   "source": [
    "## jaccard係数"
   ]
  },
  {
   "cell_type": "code",
   "execution_count": 32,
   "metadata": {},
   "outputs": [],
   "source": [
    "def add_last_item_set_similarity(train_df: pd.DataFrame, test_df: pd.DataFrame, train_test_log_df: pd.DataFrame):\n",
    "    train_test_session_df = train_test_log_df.groupby('session_id')['yad_no'].apply(lambda x: x.values).reset_index()\n",
    "\n",
    "    yad_to_sets_dict = dict([(i, set()) for i in range(1, yado_df['yad_no'].max()+1)])\n",
    "\n",
    "    for yads in train_test_session_df['yad_no'].values:\n",
    "        if len(yads) == 1:\n",
    "            continue\n",
    "        for i in range(len(yads)-1):\n",
    "            yad_to_sets_dict[yads[i]].add(yads[i+1])\n",
    "            yad_to_sets_dict[yads[i+1]].add(yads[i])\n",
    "\n",
    "    output_cols = ['jaccard_last_item', 'dice_last_item']\n",
    "    for target_df in [train_df, test_df]:\n",
    "        results = []\n",
    "        for last_yad, yad in tqdm(target_df[['last_item', 'yad_no']].values):\n",
    "            s1_len = len(yad_to_sets_dict[last_yad])\n",
    "            s2_len = len(yad_to_sets_dict[yad])\n",
    "\n",
    "            intersection_set = yad_to_sets_dict[last_yad] & yad_to_sets_dict[yad]\n",
    "            union_set = yad_to_sets_dict[last_yad] | yad_to_sets_dict[yad]\n",
    "\n",
    "            intersection_len = len(intersection_set)\n",
    "            union_len = len(union_set)\n",
    "\n",
    "            jaccard = intersection_len / union_len if union_len != 0 else 0\n",
    "            dice = 2 * intersection_len / (s1_len + s2_len) if (s1_len + s2_len) != 0 else 0\n",
    "\n",
    "            results.append([jaccard, dice])\n",
    "        \n",
    "        target_df[output_cols] = results\n",
    "    \n",
    "    plot_feature_distribution(train_df, output_cols)\n",
    "\n",
    "    return train_df, test_df, output_cols"
   ]
  },
  {
   "cell_type": "code",
   "execution_count": 33,
   "metadata": {},
   "outputs": [],
   "source": [
    "# train_df, test_df, last_item_set_similarity_cols = add_last_item_set_similarity(train_df, test_df, train_test_log_df)"
   ]
  },
  {
   "cell_type": "markdown",
   "metadata": {},
   "source": [
    "## coo_marrix"
   ]
  },
  {
   "cell_type": "code",
   "execution_count": 34,
   "metadata": {},
   "outputs": [],
   "source": [
    "def counter_init():\n",
    "    return dict([(i, defaultdict(int)) for i in range(1, yado_df['yad_no'].max()+1)])\n",
    "\n",
    "def counter_to_rank(target_counter):\n",
    "    counter_rank = counter_init()\n",
    "    for yad, counter in tqdm(target_counter.items()):\n",
    "        keys = list(counter.keys())\n",
    "        counts = list(counter.values())\n",
    "\n",
    "        if len(counts) == 0:\n",
    "            continue\n",
    "\n",
    "        ranks = rankdata([-c for c in counts], method='min')\n",
    "\n",
    "        for key, rank in zip(keys, ranks):\n",
    "            counter_rank[yad][key] = rank\n",
    "\n",
    "    return counter_rank\n",
    "\n",
    "def add_last_item_coo_count(train_df: pd.DataFrame, test_df: pd.DataFrame, train_test_log_df: pd.DataFrame):\n",
    "\n",
    "    train_test_session_df = train_test_log_df.groupby('session_id')['yad_no'].apply(lambda x: x.values).reset_index()\n",
    "\n",
    "    counter1 = counter_init()\n",
    "    counter2 = counter_init()\n",
    "    counter3 = counter_init()\n",
    "    counter4 = counter_init()\n",
    "\n",
    "    for yads in train_test_session_df['yad_no'].values:\n",
    "        if len(yads) == 1:\n",
    "            continue\n",
    "        for i in range(len(yads)-1):\n",
    "            counter1[yads[i]][yads[i+1]] += 1\n",
    "            counter1[yads[i+1]][yads[i]] += 1\n",
    "\n",
    "            counter2[yads[i]][yads[i+1]] += 1\n",
    "\n",
    "        for i in range(len(yads)-1):\n",
    "            for j in range(i+1, len(yads)):\n",
    "                counter3[yads[i]][yads[j]] += 1\n",
    "                counter3[yads[j]][yads[i]] += 1\n",
    "\n",
    "                counter4[yads[i]][yads[j]] += 1\n",
    "    \n",
    "    # count1を、countではなくrankにする\n",
    "    counter1_rank = counter_to_rank(counter1)\n",
    "    counter2_rank = counter_to_rank(counter2)\n",
    "    counter3_rank = counter_to_rank(counter3)\n",
    "    counter4_rank = counter_to_rank(counter4)\n",
    "\n",
    "    output_cols = ['last_item_coo_count_1', 'last_item_coo_count_2', 'last_item_coo_count_3', 'last_item_coo_count_4',\n",
    "                   'last_item_coo_count_1_rank', 'last_item_coo_count_2_rank', 'last_item_coo_count_3_rank', 'last_item_coo_count_4_rank']\n",
    "\n",
    "    results = []\n",
    "    for last_yad, yad in train_df[['last_item', 'yad_no']].values:\n",
    "        results.append([counter1[last_yad][yad], counter2[last_yad][yad], counter3[last_yad][yad], counter4[last_yad][yad],\n",
    "                        counter1_rank[last_yad][yad], counter2_rank[last_yad][yad], counter3_rank[last_yad][yad], counter4_rank[last_yad][yad]])\n",
    "    train_df[output_cols] = results\n",
    "\n",
    "    results = []\n",
    "    for last_yad, yad in test_df[['last_item', 'yad_no']].values:\n",
    "        results.append([counter1[last_yad][yad], counter2[last_yad][yad], counter3[last_yad][yad], counter4[last_yad][yad],\n",
    "                        counter1_rank[last_yad][yad], counter2_rank[last_yad][yad], counter3_rank[last_yad][yad], counter4_rank[last_yad][yad]])\n",
    "    test_df[output_cols] = results\n",
    "\n",
    "    rank_cols = [col for col in output_cols if 'rank' in col]\n",
    "    for col in rank_cols:\n",
    "        train_df.loc[train_df[col] == 0, col] = 999999\n",
    "        test_df.loc[test_df[col] == 0, col] = 999999\n",
    "\n",
    "    return train_df, test_df, output_cols"
   ]
  },
  {
   "cell_type": "code",
   "execution_count": 35,
   "metadata": {},
   "outputs": [
    {
     "name": "stderr",
     "output_type": "stream",
     "text": [
      "100%|██████████| 13806/13806 [00:00<00:00, 25224.97it/s]\n",
      "100%|██████████| 13806/13806 [00:00<00:00, 28533.93it/s]\n",
      "100%|██████████| 13806/13806 [00:00<00:00, 25765.59it/s]\n",
      "100%|██████████| 13806/13806 [00:00<00:00, 29496.05it/s]\n"
     ]
    }
   ],
   "source": [
    "train_df, test_df, last_item_coo_count_cols = add_last_item_coo_count(train_df, test_df, train_test_log_df)"
   ]
  },
  {
   "cell_type": "code",
   "execution_count": 36,
   "metadata": {},
   "outputs": [
    {
     "name": "stdout",
     "output_type": "stream",
     "text": [
      "last_item_coo_count_1\n",
      "22626364\n",
      "last_item_coo_count_2\n",
      "23663029\n",
      "last_item_coo_count_3\n",
      "22625569\n",
      "last_item_coo_count_4\n",
      "23661383\n",
      "last_item_coo_count_1_rank\n",
      "0\n",
      "last_item_coo_count_2_rank\n",
      "0\n",
      "last_item_coo_count_3_rank\n",
      "0\n",
      "last_item_coo_count_4_rank\n",
      "0\n"
     ]
    }
   ],
   "source": [
    "for col in last_item_coo_count_cols:\n",
    "    print(col)\n",
    "    print((train_df[col]==0).sum())"
   ]
  },
  {
   "cell_type": "markdown",
   "metadata": {},
   "source": [
    "## all_itemでcoo"
   ]
  },
  {
   "cell_type": "code",
   "execution_count": 37,
   "metadata": {},
   "outputs": [],
   "source": [
    "def add_all_item_coo_count(train_df: pd.DataFrame, test_df: pd.DataFrame, train_test_log_df: pd.DataFrame):\n",
    "\n",
    "    train_test_session_df = train_test_log_df.groupby('session_id')['yad_no'].apply(lambda x: x.values).reset_index()\n",
    "\n",
    "    counter1 = counter_init()\n",
    "    counter2 = counter_init()\n",
    "    counter3 = counter_init()\n",
    "    counter4 = counter_init()\n",
    "\n",
    "    for yads in train_test_session_df['yad_no'].values:\n",
    "        if len(yads) == 1:\n",
    "            continue\n",
    "        for i in range(len(yads)-1):\n",
    "            counter1[yads[i]][yads[i+1]] += 1\n",
    "            counter1[yads[i+1]][yads[i]] += 1\n",
    "\n",
    "            counter2[yads[i]][yads[i+1]] += 1\n",
    "\n",
    "        for i in range(len(yads)-1):\n",
    "            for j in range(i+1, len(yads)):\n",
    "                counter3[yads[i]][yads[j]] += 1\n",
    "                counter3[yads[j]][yads[i]] += 1\n",
    "\n",
    "                counter4[yads[i]][yads[j]] += 1\n",
    "    \n",
    "    # count1を、countではなくrankにする\n",
    "    counter1_rank = counter_to_rank(counter1)\n",
    "    counter2_rank = counter_to_rank(counter2)\n",
    "    counter3_rank = counter_to_rank(counter3)\n",
    "    counter4_rank = counter_to_rank(counter4)\n",
    "\n",
    "    output_cols = []\n",
    "\n",
    "    for c in ['count', 'rank']:\n",
    "        for agg_col in ['max', 'mean', 'min']:\n",
    "            for i in range(1, 5):\n",
    "                output_cols.append(f'all_item_coo_{c}_{i}_{agg_col}')\n",
    "        \n",
    "    session_to_yads = dict(zip(train_test_session_df['session_id'], train_test_session_df['yad_no']))\n",
    "\n",
    "    for target_df in [train_df, test_df]:\n",
    "        results = []\n",
    "        for session_id, yad in tqdm(target_df[['session_id', 'yad_no']].values):\n",
    "            session_yads = session_to_yads[session_id]\n",
    "            counts = []\n",
    "            ranks = []\n",
    "            for session_yad in session_yads:\n",
    "                counts.append([counter1[session_yad][yad], counter2[session_yad][yad], counter3[session_yad][yad], counter4[session_yad][yad]])\n",
    "                ranks.append([counter1_rank[session_yad][yad], counter2_rank[session_yad][yad], counter3_rank[session_yad][yad], counter4_rank[session_yad][yad]])\n",
    "\n",
    "            counts = np.array(counts)\n",
    "            ranks = np.array(ranks)\n",
    "\n",
    "            # countの平均\n",
    "            count_max = counts.max(axis=0)\n",
    "            count_mean = counts.mean(axis=0)\n",
    "            count_min = counts.min(axis=0)\n",
    "\n",
    "            # rankの平均\n",
    "            rank_max = ranks.max(axis=0)\n",
    "            rank_mean = ranks.mean(axis=0)\n",
    "            rank_min = ranks.min(axis=0)\n",
    "\n",
    "            results.append(np.concatenate([count_max, count_mean, count_min, rank_max, rank_mean, rank_min]))\n",
    "\n",
    "        target_df[output_cols] = results\n",
    "        \n",
    "    for col in output_cols:\n",
    "        plt.hist(train_df[(train_df[CFG.target_col]==1) & (train_df[col] != 999999)][col], alpha=0.5, label='1', density=True)\n",
    "        plt.hist(train_df[(train_df[CFG.target_col]==0) & (train_df[col] != 999999)][col], alpha=0.5, label='0', density=True)\n",
    "        plt.title(col)\n",
    "        plt.legend()\n",
    "        plt.show()\n",
    "\n",
    "\n",
    "    return train_df, test_df, output_cols"
   ]
  },
  {
   "cell_type": "code",
   "execution_count": 38,
   "metadata": {},
   "outputs": [],
   "source": [
    "# train_df, test_df, all_item_coo_count_cols = add_all_item_coo_count(train_df, test_df, train_test_log_df)"
   ]
  },
  {
   "cell_type": "markdown",
   "metadata": {},
   "source": [
    "## グラフ特徴量"
   ]
  },
  {
   "cell_type": "code",
   "execution_count": 39,
   "metadata": {},
   "outputs": [],
   "source": [
    "import networkx as nx\n"
   ]
  },
  {
   "cell_type": "code",
   "execution_count": 40,
   "metadata": {},
   "outputs": [],
   "source": [
    "def add_graph_feature(target_df, degrees, clusterings, G):\n",
    "    results = []\n",
    "    for item1, item2 in tqdm(target_df[['last_item', 'yad_no']].values):\n",
    "        degree1 = degrees[item1]\n",
    "        degree2 = degrees[item2]\n",
    "        degree_diff = degree1 - degree2\n",
    "\n",
    "        clustering1 = clusterings[item1]\n",
    "        clustering2 = clusterings[item2]\n",
    "        clustering_diff = clustering1 - clustering2\n",
    "\n",
    "        is_connected = nx.has_path(G, item1, item2)\n",
    "        if is_connected:\n",
    "            path_length = nx.shortest_path_length(G, item1, item2)\n",
    "        else:\n",
    "            path_length = -1\n",
    "\n",
    "        results.append([degree1, degree2, degree_diff, clustering1, clustering2, clustering_diff, path_length])\n",
    "    \n",
    "    output_cols = ['last_item_degree', 'yad_no_degree', 'degree_diff', 'last_item_clustering', 'yad_no_clustering', 'clustering_diff', 'path_length']\n",
    "    target_df[output_cols] = results\n",
    "\n",
    "    return target_df, output_cols\n",
    "\n",
    "def add_graph_feature_train_test(train_df, test_df, train_test_log_df, yado_df):\n",
    "    G = nx.Graph()\n",
    "\n",
    "    G.add_nodes_from(yado_df['yad_no'].tolist())\n",
    "\n",
    "    sentence_list = train_test_log_df.groupby('session_id')['yad_no'].apply(list).tolist()\n",
    "\n",
    "    edges = set()\n",
    "    for items in sentence_list:\n",
    "        if len(items) == 1:\n",
    "            continue\n",
    "        for i in range(len(items)-1):\n",
    "            edges.add((items[i], items[i+1]))\n",
    "    edges = list(edges)\n",
    "    G.add_edges_from(edges)\n",
    "\n",
    "    degrees = G.degree()\n",
    "    clusterings = nx.clustering(G)\n",
    "\n",
    "    train_df, graph_feature_cols = add_graph_feature(train_df, degrees, clusterings, G)\n",
    "    test_df, _ = add_graph_feature(test_df, degrees, clusterings, G)\n",
    "\n",
    "    plot_feature_distribution(train_df, graph_feature_cols)\n",
    "\n",
    "    return train_df, test_df, graph_feature_cols\n"
   ]
  },
  {
   "cell_type": "code",
   "execution_count": 41,
   "metadata": {},
   "outputs": [
    {
     "name": "stderr",
     "output_type": "stream",
     "text": [
      "  1%|          | 257555/28141675 [00:05<09:45, 47614.03it/s]"
     ]
    },
    {
     "name": "stderr",
     "output_type": "stream",
     "text": [
      "100%|██████████| 28141675/28141675 [10:19<00:00, 45445.20it/s]\n",
      "100%|██████████| 14890201/14890201 [05:24<00:00, 45888.46it/s]\n"
     ]
    },
    {
     "data": {
      "image/png": "[encoded data removed]",
      "text/plain": [
       "<Figure size 640x480 with 1 Axes>"
      ]
     },
     "metadata": {},
     "output_type": "display_data"
    },
    {
     "data": {
      "image/png": "[encoded data removed]",
      "text/plain": [
       "<Figure size 640x480 with 1 Axes>"
      ]
     },
     "metadata": {},
     "output_type": "display_data"
    },
    {
     "data": {
      "image/png": "[encoded data removed]",
      "text/plain": [
       "<Figure size 640x480 with 1 Axes>"
      ]
     },
     "metadata": {},
     "output_type": "display_data"
    },
    {
     "data": {
      "image/png": "[encoded data removed]",
      "text/plain": [
       "<Figure size 640x480 with 1 Axes>"
      ]
     },
     "metadata": {},
     "output_type": "display_data"
    },
    {
     "data": {
      "image/png": "[encoded data removed]",
      "text/plain": [
       "<Figure size 640x480 with 1 Axes>"
      ]
     },
     "metadata": {},
     "output_type": "display_data"
    },
    {
     "data": {
      "image/png": "[encoded data removed]",
      "text/plain": [
       "<Figure size 640x480 with 1 Axes>"
      ]
     },
     "metadata": {},
     "output_type": "display_data"
    },
    {
     "data": {
      "image/png": "[encoded data removed]",
      "text/plain": [
       "<Figure size 640x480 with 1 Axes>"
      ]
     },
     "metadata": {},
     "output_type": "display_data"
    }
   ],
   "source": [
    "train_df, test_df, graph_feature_cols = add_graph_feature_train_test(train_df, test_df, train_test_log_df, yado_df)"
   ]
  },
  {
   "cell_type": "code",
   "execution_count": 42,
   "metadata": {},
   "outputs": [],
   "source": [
    "\"\"\"\n",
    "https://github.com/unonao/atmacup-15/blob/master/features/create.py\n",
    "\"\"\"\n",
    "def add_igraph_feature(g):\n",
    "    pageranks = g.pagerank()\n",
    "    print(\"PageRank:\", len(pageranks))\n",
    "    betweenness = g.betweenness()\n",
    "    print(\"betweenness:\", len(betweenness))\n",
    "    eigenvector_centrality = g.eigenvector_centrality()\n",
    "    print(\"eigenvector_centrality:\", len(eigenvector_centrality))\n",
    "    hub_score = g.hub_score()\n",
    "    print(\"hub_score:\", len(hub_score))\n",
    "    authority_score = g.authority_score()\n",
    "    print(\"authority_score:\", len(authority_score))\n",
    "    constraint = g.constraint()\n",
    "    print(\"constraint:\", len(constraint))\n",
    "    # degree = g.degree()\n",
    "    # print(\"degree:\", len(degree))\n",
    "    coreness = g.coreness()\n",
    "    print(\"coreness:\", len(coreness))\n",
    "    eccentricity = g.eccentricity()\n",
    "    print(\"eccentricity:\", len(eccentricity))\n",
    "    harmonic_centrality = g.harmonic_centrality()\n",
    "    print(\"harmonic_centrality:\", len(harmonic_centrality))\n",
    "\n",
    "    node_df = pd.DataFrame(\n",
    "        {\n",
    "            \"pageranks\": pageranks,\n",
    "            \"betweenness\": betweenness,\n",
    "            \"eigenvector_centrality\": eigenvector_centrality,\n",
    "            \"hub_score\": hub_score,\n",
    "            \"authority_score\": authority_score,\n",
    "            \"constraint\": constraint,\n",
    "            \"coreness\": coreness,\n",
    "            \"eccentricity\": eccentricity,\n",
    "            \"harmonic_centrality\": harmonic_centrality,\n",
    "        }\n",
    "    )\n",
    "\n",
    "    return node_df"
   ]
  },
  {
   "cell_type": "code",
   "execution_count": 43,
   "metadata": {},
   "outputs": [
    {
     "data": {
      "text/plain": [
       "\"\\nimport igraph as ig\\n\\nG = ig.Graph(directed=False)\\nG.add_vertices(len(yado_df))\\n\\nedges = [(e1-1, e2-1) for e1, e2 in edges]\\nG.add_edges(edges)\\n\\nnode_df = add_igraph_feature(G)\\n\\nigraph_feature_cols = node_df.columns.tolist() \\n\\nnode_df['yad_no'] = node_df.index + 1\\n\\ntrain_df = pd.merge(train_df, node_df, on='yad_no', how='left')\\ntest_df = pd.merge(test_df, node_df, on='yad_no', how='left')\\n\\nnode_df.rename(columns={'yad_no': 'last_item'}, inplace=True)\\nrename_dict = dict([(col, f'{col}_last_item') for col in igraph_feature_cols])\\nnode_df.rename(columns=rename_dict, inplace=True)\\n\\ntrain_df = pd.merge(train_df, node_df, on='last_item', how='left')\\ntest_df = pd.merge(test_df, node_df, on='last_item', how='left')\\n\\nigraph_feature_cols += [f'{col}_last_item' for col in igraph_feature_cols]\\n\""
      ]
     },
     "execution_count": 43,
     "metadata": {},
     "output_type": "execute_result"
    }
   ],
   "source": [
    "\"\"\"\n",
    "import igraph as ig\n",
    "\n",
    "G = ig.Graph(directed=False)\n",
    "G.add_vertices(len(yado_df))\n",
    "\n",
    "edges = [(e1-1, e2-1) for e1, e2 in edges]\n",
    "G.add_edges(edges)\n",
    "\n",
    "node_df = add_igraph_feature(G)\n",
    "\n",
    "igraph_feature_cols = node_df.columns.tolist() \n",
    "\n",
    "node_df['yad_no'] = node_df.index + 1\n",
    "\n",
    "train_df = pd.merge(train_df, node_df, on='yad_no', how='left')\n",
    "test_df = pd.merge(test_df, node_df, on='yad_no', how='left')\n",
    "\n",
    "node_df.rename(columns={'yad_no': 'last_item'}, inplace=True)\n",
    "rename_dict = dict([(col, f'{col}_last_item') for col in igraph_feature_cols])\n",
    "node_df.rename(columns=rename_dict, inplace=True)\n",
    "\n",
    "train_df = pd.merge(train_df, node_df, on='last_item', how='left')\n",
    "test_df = pd.merge(test_df, node_df, on='last_item', how='left')\n",
    "\n",
    "igraph_feature_cols += [f'{col}_last_item' for col in igraph_feature_cols]\n",
    "\"\"\""
   ]
  },
  {
   "cell_type": "code",
   "execution_count": 44,
   "metadata": {},
   "outputs": [
    {
     "data": {
      "text/plain": [
       "\"\\nfor col in igraph_feature_cols:\\n    plt.hist(train_df[train_df[CFG.target_col]==1][col], alpha=0.5, label='1', density=True, bins=100)\\n    plt.hist(train_df[train_df[CFG.target_col]==0][col], alpha=0.5, label='0', density=True, bins=100)\\n    plt.title(col)\\n    plt.legend()\\n    plt.show()\\n\""
      ]
     },
     "execution_count": 44,
     "metadata": {},
     "output_type": "execute_result"
    }
   ],
   "source": [
    "\"\"\"\n",
    "for col in igraph_feature_cols:\n",
    "    plt.hist(train_df[train_df[CFG.target_col]==1][col], alpha=0.5, label='1', density=True, bins=100)\n",
    "    plt.hist(train_df[train_df[CFG.target_col]==0][col], alpha=0.5, label='0', density=True, bins=100)\n",
    "    plt.title(col)\n",
    "    plt.legend()\n",
    "    plt.show()\n",
    "\"\"\""
   ]
  },
  {
   "cell_type": "markdown",
   "metadata": {},
   "source": [
    "## embeddingとの類似度"
   ]
  },
  {
   "cell_type": "code",
   "execution_count": 45,
   "metadata": {},
   "outputs": [],
   "source": [
    "from myutils.numba_func import calc_cos_sim_numba\n",
    "def calc_cos_sim(v1, v2):\n",
    "    return np.dot(v1, v2) / (np.linalg.norm(v1) * np.linalg.norm(v2))"
   ]
  },
  {
   "cell_type": "code",
   "execution_count": 46,
   "metadata": {},
   "outputs": [],
   "source": [
    "def add_embedding_sim(train_df, test_df, user_path, item_path, embd_name, dimensions):\n",
    "    output_col = f'cos_sim_{embd_name}'\n",
    "\n",
    "    user_factors_df = pd.read_pickle(user_path)\n",
    "    item_factors_df = pd.read_pickle(item_path)\n",
    "\n",
    "    user_factor_cols = [f'user_factor_{i}' for i in range(dimensions)]\n",
    "    item_factor_cols = [f'item_factor_{i}' for i in range(dimensions)]\n",
    "\n",
    "    session2user_factor = dict(zip(user_factors_df['session_id'], user_factors_df[user_factor_cols].values))\n",
    "    item2item_factor = dict(zip(item_factors_df['yad_no'], item_factors_df[item_factor_cols].values))\n",
    "\n",
    "\n",
    "    results = []\n",
    "    for session_id, yad_no in train_df[['session_id', 'yad_no']].values:\n",
    "        user_factor = session2user_factor[session_id]\n",
    "        item_factor = item2item_factor[yad_no]\n",
    "\n",
    "        cos_sim = calc_cos_sim_numba(user_factor, item_factor)\n",
    "\n",
    "        results.append(cos_sim)\n",
    "    train_df[output_col] = results\n",
    "\n",
    "    results = []\n",
    "    for session_id, yad_no in test_df[['session_id', 'yad_no']].values:\n",
    "        user_factor = session2user_factor[session_id]\n",
    "        item_factor = item2item_factor[yad_no]\n",
    "\n",
    "        cos_sim = calc_cos_sim_numba(user_factor, item_factor)\n",
    "\n",
    "        results.append(cos_sim)\n",
    "    test_df[output_col] = results\n",
    "\n",
    "    # test_df[output_col] = [calc_cos_sim_numba(session2user_factor[session_id], item2item_factor[yad_no]) for session_id, yad_no in tqdm(test_df[['session_id', 'yad_no']].values)]\n",
    "\n",
    "    \"\"\"\n",
    "    calc_list = [[session2user_factor[session_id], item2item_factor[yad_no]] for session_id, yad_no in tqdm(test_df[['session_id', 'yad_no']].values)]\n",
    "    test_df[output_col] = calc_cos_sim_multiprocess(calc_list)\n",
    "    \"\"\"\n",
    "    plt.hist(train_df[train_df[CFG.target_col]==1][output_col], alpha=0.5, label='1', density=True, bins=100)\n",
    "    plt.hist(train_df[train_df[CFG.target_col]==0][output_col], alpha=0.5, label='0', density=True, bins=100)\n",
    "    plt.title(output_col)\n",
    "    plt.legend()\n",
    "    plt.show()\n",
    "\n",
    "    return train_df, test_df, output_col\n",
    "    "
   ]
  },
  {
   "cell_type": "code",
   "execution_count": 47,
   "metadata": {},
   "outputs": [],
   "source": [
    "embedding_cols = []"
   ]
  },
  {
   "cell_type": "code",
   "execution_count": 48,
   "metadata": {},
   "outputs": [
    {
     "data": {
      "text/plain": [
       "\"\\nfor category in ['exterior', 'facility', 'food', 'others', 'room']:\\n    train_df, test_df, output_col = add_embedding_sim(train_df, test_df, f'../../datasets/image_embedding_pkl/image_embedding_{category}_user_factors_df.pkl', f'../../datasets/image_embedding_pkl/image_embedding_{category}_item_factors_df.pkl', f'image_embedding_{category}_all_item', 512)\\n    embedding_cols.append(output_col)\\n\""
      ]
     },
     "execution_count": 48,
     "metadata": {},
     "output_type": "execute_result"
    }
   ],
   "source": [
    "\"\"\"\n",
    "for category in ['exterior', 'facility', 'food', 'others', 'room']:\n",
    "    train_df, test_df, output_col = add_embedding_sim(train_df, test_df, f'../../datasets/image_embedding_pkl/image_embedding_{category}_user_factors_df.pkl', f'../../datasets/image_embedding_pkl/image_embedding_{category}_item_factors_df.pkl', f'image_embedding_{category}_all_item', 512)\n",
    "    embedding_cols.append(output_col)\n",
    "\"\"\""
   ]
  },
  {
   "cell_type": "code",
   "execution_count": 49,
   "metadata": {},
   "outputs": [
    {
     "data": {
      "text/plain": [
       "\"\\nfor category in ['exterior', 'facility', 'food', 'others', 'room']:\\n    train_df, test_df, output_col = add_embedding_sim(train_df, test_df, f'../../datasets/image_embedding_pkl/image_embedding_{category}_user_factors_last_item_df.pkl', f'../../datasets/image_embedding_pkl/image_embedding_{category}_item_factors_df.pkl', f'image_embedding_{category}_last_item', 512)\\n    embedding_cols.append(output_col)\\n\""
      ]
     },
     "execution_count": 49,
     "metadata": {},
     "output_type": "execute_result"
    }
   ],
   "source": [
    "\"\"\"\n",
    "for category in ['exterior', 'facility', 'food', 'others', 'room']:\n",
    "    train_df, test_df, output_col = add_embedding_sim(train_df, test_df, f'../../datasets/image_embedding_pkl/image_embedding_{category}_user_factors_last_item_df.pkl', f'../../datasets/image_embedding_pkl/image_embedding_{category}_item_factors_df.pkl', f'image_embedding_{category}_last_item', 512)\n",
    "    embedding_cols.append(output_col)\n",
    "\"\"\""
   ]
  },
  {
   "cell_type": "code",
   "execution_count": 50,
   "metadata": {},
   "outputs": [
    {
     "data": {
      "text/plain": [
       "\"\\n%%time\\nvector_name = 'bpr'\\n\\nuser_suffix = ''\\nsession_user_name = 'all'\\ndimensions = 64\\ntrain_df, test_df, output_col = add_embedding_sim(train_df, test_df, f'../../datasets/{vector_name}_pkl/{vector_name}_user_factors_{user_suffix}df.pkl', f'../../datasets/{vector_name}_pkl/{vector_name}_item_factors_df.pkl', f'{vector_name}_{session_user_name}_item', dimensions)\\nembedding_cols.append(output_col)\\n\\n\\nuser_suffix = 'last_item_'\\nsession_user_name = 'last'\\ndimensions = 64\\ntrain_df, test_df, output_col = add_embedding_sim(train_df, test_df, f'../../datasets/{vector_name}_pkl/{vector_name}_user_factors_{user_suffix}df.pkl', f'../../datasets/{vector_name}_pkl/{vector_name}_item_factors_df.pkl', f'{vector_name}_{session_user_name}_item', dimensions)\\nembedding_cols.append(output_col)\\n\""
      ]
     },
     "execution_count": 50,
     "metadata": {},
     "output_type": "execute_result"
    }
   ],
   "source": [
    "\"\"\"\n",
    "%%time\n",
    "vector_name = 'bpr'\n",
    "\n",
    "user_suffix = ''\n",
    "session_user_name = 'all'\n",
    "dimensions = 64\n",
    "train_df, test_df, output_col = add_embedding_sim(train_df, test_df, f'../../datasets/{vector_name}_pkl/{vector_name}_user_factors_{user_suffix}df.pkl', f'../../datasets/{vector_name}_pkl/{vector_name}_item_factors_df.pkl', f'{vector_name}_{session_user_name}_item', dimensions)\n",
    "embedding_cols.append(output_col)\n",
    "\n",
    "\n",
    "user_suffix = 'last_item_'\n",
    "session_user_name = 'last'\n",
    "dimensions = 64\n",
    "train_df, test_df, output_col = add_embedding_sim(train_df, test_df, f'../../datasets/{vector_name}_pkl/{vector_name}_user_factors_{user_suffix}df.pkl', f'../../datasets/{vector_name}_pkl/{vector_name}_item_factors_df.pkl', f'{vector_name}_{session_user_name}_item', dimensions)\n",
    "embedding_cols.append(output_col)\n",
    "\"\"\""
   ]
  },
  {
   "cell_type": "code",
   "execution_count": 51,
   "metadata": {},
   "outputs": [
    {
     "data": {
      "text/plain": [
       "\"\\n%%time\\nvector_name = 'lmf'\\n\\nuser_suffix = ''\\nsession_user_name = 'all'\\ndimensions = 64\\ntrain_df, test_df, output_col = add_embedding_sim(train_df, test_df, f'../../datasets/{vector_name}_pkl/{vector_name}_user_factors_{user_suffix}df.pkl', f'../../datasets/{vector_name}_pkl/{vector_name}_item_factors_df.pkl', f'{vector_name}_{session_user_name}_item', dimensions)\\nembedding_cols.append(output_col)\\n\\n\\nuser_suffix = 'last_item_'\\nsession_user_name = 'last'\\ndimensions = 64\\ntrain_df, test_df, output_col = add_embedding_sim(train_df, test_df, f'../../datasets/{vector_name}_pkl/{vector_name}_user_factors_{user_suffix}df.pkl', f'../../datasets/{vector_name}_pkl/{vector_name}_item_factors_df.pkl', f'{vector_name}_{session_user_name}_item', dimensions)\\nembedding_cols.append(output_col)\\n\""
      ]
     },
     "execution_count": 51,
     "metadata": {},
     "output_type": "execute_result"
    }
   ],
   "source": [
    "\"\"\"\n",
    "%%time\n",
    "vector_name = 'lmf'\n",
    "\n",
    "user_suffix = ''\n",
    "session_user_name = 'all'\n",
    "dimensions = 64\n",
    "train_df, test_df, output_col = add_embedding_sim(train_df, test_df, f'../../datasets/{vector_name}_pkl/{vector_name}_user_factors_{user_suffix}df.pkl', f'../../datasets/{vector_name}_pkl/{vector_name}_item_factors_df.pkl', f'{vector_name}_{session_user_name}_item', dimensions)\n",
    "embedding_cols.append(output_col)\n",
    "\n",
    "\n",
    "user_suffix = 'last_item_'\n",
    "session_user_name = 'last'\n",
    "dimensions = 64\n",
    "train_df, test_df, output_col = add_embedding_sim(train_df, test_df, f'../../datasets/{vector_name}_pkl/{vector_name}_user_factors_{user_suffix}df.pkl', f'../../datasets/{vector_name}_pkl/{vector_name}_item_factors_df.pkl', f'{vector_name}_{session_user_name}_item', dimensions)\n",
    "embedding_cols.append(output_col)\n",
    "\"\"\""
   ]
  },
  {
   "cell_type": "code",
   "execution_count": 52,
   "metadata": {},
   "outputs": [
    {
     "data": {
      "text/plain": [
       "\"\\n%%time\\nvector_name = 'nmf'\\n\\nuser_suffix = ''\\nsession_user_name = 'all'\\ntrain_df, test_df, output_col = add_embedding_sim(train_df, test_df, f'../../datasets/{vector_name}_pkl/{vector_name}_user_factors_{user_suffix}df.pkl', f'../../datasets/{vector_name}_pkl/{vector_name}_item_factors_df.pkl', f'{vector_name}_{session_user_name}_item', 256)\\nembedding_cols.append(output_col)\\n\\n\\nuser_suffix = 'last_item_'\\nsession_user_name = 'last'\\ntrain_df, test_df, output_col = add_embedding_sim(train_df, test_df, f'../../datasets/{vector_name}_pkl/{vector_name}_user_factors_{user_suffix}df.pkl', f'../../datasets/{vector_name}_pkl/{vector_name}_item_factors_df.pkl', f'{vector_name}_{session_user_name}_item', 256)\\nembedding_cols.append(output_col)\\n\""
      ]
     },
     "execution_count": 52,
     "metadata": {},
     "output_type": "execute_result"
    }
   ],
   "source": [
    "\"\"\"\n",
    "%%time\n",
    "vector_name = 'nmf'\n",
    "\n",
    "user_suffix = ''\n",
    "session_user_name = 'all'\n",
    "train_df, test_df, output_col = add_embedding_sim(train_df, test_df, f'../../datasets/{vector_name}_pkl/{vector_name}_user_factors_{user_suffix}df.pkl', f'../../datasets/{vector_name}_pkl/{vector_name}_item_factors_df.pkl', f'{vector_name}_{session_user_name}_item', 256)\n",
    "embedding_cols.append(output_col)\n",
    "\n",
    "\n",
    "user_suffix = 'last_item_'\n",
    "session_user_name = 'last'\n",
    "train_df, test_df, output_col = add_embedding_sim(train_df, test_df, f'../../datasets/{vector_name}_pkl/{vector_name}_user_factors_{user_suffix}df.pkl', f'../../datasets/{vector_name}_pkl/{vector_name}_item_factors_df.pkl', f'{vector_name}_{session_user_name}_item', 256)\n",
    "embedding_cols.append(output_col)\n",
    "\"\"\""
   ]
  },
  {
   "cell_type": "code",
   "execution_count": 53,
   "metadata": {},
   "outputs": [
    {
     "data": {
      "image/png": "[encoded data removed]",
      "text/plain": [
       "<Figure size 640x480 with 1 Axes>"
      ]
     },
     "metadata": {},
     "output_type": "display_data"
    },
    {
     "name": "stdout",
     "output_type": "stream",
     "text": [
      "CPU times: user 2min 24s, sys: 2.64 s, total: 2min 26s\n",
      "Wall time: 2min 26s\n"
     ]
    }
   ],
   "source": [
    "%%time\n",
    "train_df, test_df, output_col = add_embedding_sim(train_df, test_df, '../../datasets/node2vec_pkl/node2vec_user_factors_df.pkl', '../../datasets/node2vec_pkl/node2vec_item_factors_df.pkl', 'node2vec_all_item', 256)\n",
    "embedding_cols.append(output_col)"
   ]
  },
  {
   "cell_type": "code",
   "execution_count": 54,
   "metadata": {},
   "outputs": [
    {
     "data": {
      "image/png": "[encoded data removed]",
      "text/plain": [
       "<Figure size 640x480 with 1 Axes>"
      ]
     },
     "metadata": {},
     "output_type": "display_data"
    },
    {
     "name": "stdout",
     "output_type": "stream",
     "text": [
      "CPU times: user 2min 24s, sys: 2.67 s, total: 2min 26s\n",
      "Wall time: 2min 26s\n"
     ]
    }
   ],
   "source": [
    "%%time\n",
    "train_df, test_df, output_col = add_embedding_sim(train_df, test_df, '../../datasets/node2vec_pkl/node2vec_user_factors_last_item_df.pkl', '../../datasets/node2vec_pkl/node2vec_item_factors_df.pkl', 'node2vec_last_item', 256)\n",
    "embedding_cols.append(output_col)"
   ]
  },
  {
   "cell_type": "code",
   "execution_count": 55,
   "metadata": {},
   "outputs": [
    {
     "data": {
      "image/png": "[encoded data removed]",
      "text/plain": [
       "<Figure size 640x480 with 1 Axes>"
      ]
     },
     "metadata": {},
     "output_type": "display_data"
    },
    {
     "name": "stdout",
     "output_type": "stream",
     "text": [
      "CPU times: user 5min 58s, sys: 4.39 s, total: 6min 2s\n",
      "Wall time: 6min 2s\n"
     ]
    }
   ],
   "source": [
    "%%time\n",
    "train_df, test_df, output_col = add_embedding_sim(train_df, test_df, '../../datasets/prone_pkl/prone_user_factors_df.pkl', '../../datasets/prone_pkl/prone_item_factors_df.pkl', 'prone_all_item', 1024)\n",
    "embedding_cols.append(output_col)"
   ]
  },
  {
   "cell_type": "code",
   "execution_count": 56,
   "metadata": {},
   "outputs": [
    {
     "data": {
      "image/png": "[encoded data removed]",
      "text/plain": [
       "<Figure size 640x480 with 1 Axes>"
      ]
     },
     "metadata": {},
     "output_type": "display_data"
    },
    {
     "name": "stdout",
     "output_type": "stream",
     "text": [
      "CPU times: user 5min 59s, sys: 4.87 s, total: 6min 3s\n",
      "Wall time: 6min 4s\n"
     ]
    }
   ],
   "source": [
    "%%time\n",
    "train_df, test_df, output_col = add_embedding_sim(train_df, test_df, '../../datasets/prone_pkl/prone_user_factors_last_item_df.pkl', '../../datasets/prone_pkl/prone_item_factors_df.pkl', 'prone_last_item', 1024)\n",
    "embedding_cols.append(output_col)"
   ]
  },
  {
   "cell_type": "code",
   "execution_count": 57,
   "metadata": {},
   "outputs": [],
   "source": [
    "# train_df, test_df, output_col = add_embedding_sim(train_df, test_df, '../../datasets/word2vec_nn_pkl/word2vec_nn_user_factors_last_item_df.pkl', '../../datasets/word2vec_nn_pkl/word2vec_nn_item_factors_df.pkl', 'word2vec_nn_last_item', 256)\n",
    "# embedding_cols.append(output_col)"
   ]
  },
  {
   "cell_type": "code",
   "execution_count": 58,
   "metadata": {},
   "outputs": [],
   "source": [
    "# train_df, test_df, output_col = add_embedding_sim(train_df, test_df, '../../datasets/word2vec_nn_pkl/word2vec_nn_user_factors_df.pkl', '../../datasets/word2vec_nn_pkl/word2vec_nn_item_factors_df.pkl', 'word2vec_nn_all_item', 256)\n",
    "# embedding_cols.append(output_col)"
   ]
  },
  {
   "cell_type": "markdown",
   "metadata": {},
   "source": [
    "## user feature"
   ]
  },
  {
   "cell_type": "code",
   "execution_count": null,
   "metadata": {},
   "outputs": [],
   "source": []
  },
  {
   "cell_type": "code",
   "execution_count": 59,
   "metadata": {},
   "outputs": [],
   "source": [
    "def add_user_cols(train_df, test_df, train_test_log_df):\n",
    "    user_cols = ['session_item_count', 'session_item_nunique']\n",
    "\n",
    "    session_item_count_df = train_test_log_df.groupby('session_id').size().reset_index()\n",
    "    session_item_count_df.rename(columns={0: 'session_item_count'}, inplace=True)\n",
    "    train_df = pd.merge(train_df, session_item_count_df, on='session_id', how='left')\n",
    "    test_df = pd.merge(test_df, session_item_count_df, on='session_id', how='left')\n",
    "\n",
    "    session_item_nunique_df = train_test_log_df.groupby('session_id')['yad_no'].nunique().reset_index()\n",
    "    session_item_nunique_df.rename(columns={'yad_no': 'session_item_nunique'}, inplace=True)\n",
    "                                  \n",
    "    train_df = pd.merge(train_df, session_item_nunique_df, on='session_id', how='left')\n",
    "    test_df = pd.merge(test_df, session_item_nunique_df, on='session_id', how='left')\n",
    "\n",
    "    return train_df, test_df, user_cols"
   ]
  },
  {
   "cell_type": "code",
   "execution_count": 60,
   "metadata": {},
   "outputs": [],
   "source": [
    "train_df, test_df, user_cols = add_user_cols(train_df, test_df, train_test_log_df)"
   ]
  },
  {
   "cell_type": "markdown",
   "metadata": {},
   "source": [
    "## yadの出現回数、sessionのunique数"
   ]
  },
  {
   "cell_type": "code",
   "execution_count": 61,
   "metadata": {},
   "outputs": [],
   "source": [
    "def add_yad_occur_count(target_df: pd.DataFrame, target_log_df: pd.DataFrame) -> pd.DataFrame:\n",
    "    \n",
    "    yad_occur_count_df = target_log_df.groupby('yad_no').size().reset_index()\n",
    "    yad_occur_count_df.rename(columns={0: 'yad_occur_count'}, inplace=True)\n",
    "    target_df = pd.merge(target_df, yad_occur_count_df, on='yad_no', how='left')\n",
    "\n",
    "    yad_session_nunique_df = target_log_df.groupby('yad_no')['session_id'].nunique().reset_index()\n",
    "    yad_session_nunique_df.rename(columns={'session_id': 'yad_session_nunique'}, inplace=True)\n",
    "    target_df = pd.merge(target_df, yad_session_nunique_df, on='yad_no', how='left')\n",
    "    \n",
    "    return target_df"
   ]
  },
  {
   "cell_type": "code",
   "execution_count": 62,
   "metadata": {},
   "outputs": [],
   "source": [
    "train_df = add_yad_occur_count(train_df, train_test_log_df)\n",
    "test_df = add_yad_occur_count(test_df, train_test_log_df)"
   ]
  },
  {
   "cell_type": "markdown",
   "metadata": {},
   "source": [
    "## area内での、出現回数のrank"
   ]
  },
  {
   "cell_type": "code",
   "execution_count": 63,
   "metadata": {},
   "outputs": [],
   "source": [
    "def add_rank_same_area(train_df: pd.DataFrame, test_df: pd.DataFrame, train_test_log_df: pd.DataFrame, yado_df: pd.DataFrame, area_col:str):\n",
    "    counter = Counter(train_test_log_df['yad_no'].values)\n",
    "    sml_cd_to_yad_dict = yado_df.groupby(area_col)['yad_no'].apply(lambda x: x.tolist()).to_dict()\n",
    "\n",
    "    # counterの値で、yad_noをソート\n",
    "    for sml_cd in sml_cd_to_yad_dict.keys():\n",
    "        sml_cd_to_yad_dict[sml_cd] = sorted(sml_cd_to_yad_dict[sml_cd], key=lambda x: counter[x], reverse=True)\n",
    "\n",
    "    results = []\n",
    "    columns = [f'yad_occur_rank_{area_col}']\n",
    "    for sml_cd in sml_cd_to_yad_dict.keys():\n",
    "        yad_no_list = sml_cd_to_yad_dict[sml_cd]\n",
    "        for rank, yad_no in enumerate(yad_no_list):\n",
    "            # results.append([sml_cd, yad_no, counter[yad_no], rank+1])\n",
    "            results.append([yad_no, rank+1])\n",
    "            \n",
    "    sml_cd_count_df = pd.DataFrame(results, columns=['yad_no'] + columns)\n",
    "\n",
    "    train_df = pd.merge(train_df, sml_cd_count_df, on=['yad_no'], how='left')\n",
    "    test_df = pd.merge(test_df, sml_cd_count_df, on=['yad_no'], how='left')\n",
    "\n",
    "    return train_df, test_df, columns"
   ]
  },
  {
   "cell_type": "code",
   "execution_count": 64,
   "metadata": {},
   "outputs": [],
   "source": [
    "yad_count_cols = []\n",
    "\n",
    "for area_col in ['sml_cd', 'wid_cd', 'ken_cd', 'lrg_cd']:\n",
    "    train_df, test_df, cols = add_rank_same_area(train_df, test_df, train_test_log_df, yado_df, area_col)\n",
    "    yad_count_cols += cols"
   ]
  },
  {
   "cell_type": "markdown",
   "metadata": {},
   "source": [
    "## last_itemの出現回数、area内での出現回数,rank"
   ]
  },
  {
   "cell_type": "code",
   "execution_count": 65,
   "metadata": {},
   "outputs": [],
   "source": [
    "def add_yad_occur_count_last_item(target_df: pd.DataFrame, target_log_df: pd.DataFrame) -> pd.DataFrame:\n",
    "    target_log_df = target_log_df.rename(columns={'yad_no': 'last_item'})\n",
    "\n",
    "    yad_occur_count_df = target_log_df.groupby('last_item').size().reset_index()\n",
    "    yad_occur_count_df.rename(columns={0: 'yad_occur_count_last_item'}, inplace=True)\n",
    "    target_df = pd.merge(target_df, yad_occur_count_df, on='last_item', how='left')\n",
    "\n",
    "    yad_session_nunique_df = target_log_df.groupby('last_item')['session_id'].nunique().reset_index()\n",
    "    yad_session_nunique_df.rename(columns={'session_id': 'yad_session_nunique_last_item'}, inplace=True)\n",
    "    target_df = pd.merge(target_df, yad_session_nunique_df, on='last_item', how='left')\n",
    "    \n",
    "    return target_df"
   ]
  },
  {
   "cell_type": "code",
   "execution_count": 66,
   "metadata": {},
   "outputs": [],
   "source": [
    "\n",
    "def add_rank_same_area_last_item(train_df: pd.DataFrame, test_df: pd.DataFrame, train_test_log_df: pd.DataFrame, yado_df: pd.DataFrame, area_col:str):\n",
    "    counter = Counter(train_test_log_df['yad_no'].values)\n",
    "    sml_cd_to_yad_dict = yado_df.groupby(area_col)['yad_no'].apply(lambda x: x.tolist()).to_dict()\n",
    "\n",
    "    # counterの値で、yad_noをソート\n",
    "    for sml_cd in sml_cd_to_yad_dict.keys():\n",
    "        sml_cd_to_yad_dict[sml_cd] = sorted(sml_cd_to_yad_dict[sml_cd], key=lambda x: counter[x], reverse=True)\n",
    "\n",
    "    results = []\n",
    "    columns = [f'yad_occur_rank_last_item_{area_col}']\n",
    "    for sml_cd in sml_cd_to_yad_dict.keys():\n",
    "        yad_no_list = sml_cd_to_yad_dict[sml_cd]\n",
    "        for rank, yad_no in enumerate(yad_no_list):\n",
    "            # results.append([sml_cd, yad_no, counter[yad_no], rank+1])\n",
    "            results.append([yad_no, rank+1])\n",
    "            \n",
    "    sml_cd_count_df = pd.DataFrame(results, columns=['last_item'] + columns)\n",
    "\n",
    "    train_df = pd.merge(train_df, sml_cd_count_df, on=['last_item'], how='left')\n",
    "    test_df = pd.merge(test_df, sml_cd_count_df, on=['last_item'], how='left')\n",
    "\n",
    "    return train_df, test_df, columns"
   ]
  },
  {
   "cell_type": "code",
   "execution_count": 67,
   "metadata": {},
   "outputs": [],
   "source": [
    "yad_count_last_item_cols = ['yad_occur_count_last_item', 'yad_session_nunique_last_item']\n",
    "\n",
    "train_df = add_yad_occur_count_last_item(train_df, train_test_log_df)\n",
    "test_df = add_yad_occur_count_last_item(test_df, train_test_log_df)\n",
    "\n",
    "for area_col in ['sml_cd', 'wid_cd', 'ken_cd', 'lrg_cd']:\n",
    "    train_df, test_df, cols = add_rank_same_area_last_item(train_df, test_df, train_test_log_df, yado_df, area_col)\n",
    "    yad_count_last_item_cols += cols"
   ]
  },
  {
   "cell_type": "markdown",
   "metadata": {},
   "source": [
    "### 最後のitemと同じ地域か"
   ]
  },
  {
   "cell_type": "code",
   "execution_count": null,
   "metadata": {},
   "outputs": [],
   "source": []
  },
  {
   "cell_type": "markdown",
   "metadata": {},
   "source": [
    "## yad_noの出現回数をareaで集約 "
   ]
  },
  {
   "cell_type": "code",
   "execution_count": 68,
   "metadata": {},
   "outputs": [
    {
     "data": {
      "text/plain": [
       "\"\\ntrain_test_log_df_yado = train_log_df.merge(yado_df, on='yad_no', how='left')\\n\\nyad_area_count_agg_cols = []\\nfor col in area_cols:\\n    count_df = train_test_log_df_yado.groupby([col, 'yad_no']).size().reset_index()\\n    count_df.rename(columns={0: f'yad_no_count_{col}'}, inplace=True)\\n\\n    grp_df = count_df.groupby(col)[[f'yad_no_count_{col}']].agg(['mean', 'max', 'min', 'std', 'median', 'sum'])\\n    grp_df.columns = ['_'.join(c) + f'@{area_col}' for c in grp_df.columns]\\n\\n    train_df = pd.merge(train_df, grp_df, on=col, how='left')\\n    test_df = pd.merge(test_df, grp_df, on=col, how='left')\\n\\n    yad_area_count_agg_cols += grp_df.columns.tolist()\\n\""
      ]
     },
     "execution_count": 68,
     "metadata": {},
     "output_type": "execute_result"
    }
   ],
   "source": [
    "\"\"\"\n",
    "train_test_log_df_yado = train_log_df.merge(yado_df, on='yad_no', how='left')\n",
    "\n",
    "yad_area_count_agg_cols = []\n",
    "for col in area_cols:\n",
    "    count_df = train_test_log_df_yado.groupby([col, 'yad_no']).size().reset_index()\n",
    "    count_df.rename(columns={0: f'yad_no_count_{col}'}, inplace=True)\n",
    "\n",
    "    grp_df = count_df.groupby(col)[[f'yad_no_count_{col}']].agg(['mean', 'max', 'min', 'std', 'median', 'sum'])\n",
    "    grp_df.columns = ['_'.join(c) + f'@{area_col}' for c in grp_df.columns]\n",
    "\n",
    "    train_df = pd.merge(train_df, grp_df, on=col, how='left')\n",
    "    test_df = pd.merge(test_df, grp_df, on=col, how='left')\n",
    "\n",
    "    yad_area_count_agg_cols += grp_df.columns.tolist()\n",
    "\"\"\""
   ]
  },
  {
   "cell_type": "markdown",
   "metadata": {},
   "source": [
    "## 特徴量生成"
   ]
  },
  {
   "cell_type": "code",
   "execution_count": 69,
   "metadata": {},
   "outputs": [
    {
     "data": {
      "text/plain": [
       "111516"
      ]
     },
     "execution_count": 69,
     "metadata": {},
     "output_type": "execute_result"
    }
   ],
   "source": [
    "gc.collect()"
   ]
  },
  {
   "cell_type": "code",
   "execution_count": 70,
   "metadata": {},
   "outputs": [],
   "source": [
    "num_cols = yad_cols\n",
    "# num_cols += [col for col in train_df.columns if 'rank' in col]\n",
    "# num_cols += [col for col in train_df.columns if 'count' in col]\n",
    "\n",
    "num_cols += candidate_rank_cols\n",
    "num_cols += ['yad_occur_count', 'yad_session_nunique']\n",
    "num_cols += yad_count_cols\n",
    "num_cols += user_cols\n",
    "num_cols += last_item_coo_count_cols\n",
    "\n",
    "num_cols += embedding_cols\n",
    "\n",
    "num_cols += yad_last_cols\n",
    "\n",
    "num_cols += graph_feature_cols\n",
    "# num_cols += igraph_feature_cols\n",
    "\n",
    "num_cols += yad_count_last_item_cols\n",
    "\n",
    "# 1stageでは抜く\n",
    "# num_cols += all_item_coo_count_cols\n",
    "\n",
    "# num_cols += last_item_set_similarity_cols\n",
    "\n",
    "num_cols += ['candidate_name_num']"
   ]
  },
  {
   "cell_type": "code",
   "execution_count": 71,
   "metadata": {},
   "outputs": [
    {
     "data": {
      "text/plain": [
       "'../../outputs/atmacup_16/train_gbdt_1stage_feature_only_exp001/'"
      ]
     },
     "execution_count": 71,
     "metadata": {},
     "output_type": "execute_result"
    }
   ],
   "source": [
    "CFG.outputs_path"
   ]
  },
  {
   "cell_type": "markdown",
   "metadata": {},
   "source": [
    "## 保存"
   ]
  },
  {
   "cell_type": "code",
   "execution_count": 72,
   "metadata": {},
   "outputs": [],
   "source": [
    "import pickle\n",
    "\n",
    "os.makedirs(CFG.outputs_path + 'feature_pkl/', exist_ok=True)\n",
    "\n",
    "train_df.to_pickle(CFG.outputs_path + 'feature_pkl/train_df.pkl')\n",
    "test_df.to_pickle(CFG.outputs_path + 'feature_pkl/test_df.pkl')\n",
    "\n",
    "# num_colsをpickleで保存\n",
    "pickle.dump(num_cols, open(CFG.outputs_path + 'feature_pkl/num_cols.pkl', 'wb'))"
   ]
  }
 ],
 "metadata": {
  "kernelspec": {
   "display_name": "kaggle-pipeline-2ixCeVJT-py3.10",
   "language": "python",
   "name": "python3"
  },
  "language_info": {
   "codemirror_mode": {
    "name": "ipython",
    "version": 3
   },
   "file_extension": ".py",
   "mimetype": "text/x-python",
   "name": "python",
   "nbconvert_exporter": "python",
   "pygments_lexer": "ipython3",
   "version": "3.10.9"
  },
  "orig_nbformat": 4,
  "vscode": {
   "interpreter": {
    "hash": "bbd774c8c6a1d975c7d6497c9e6d31e74c7804a61e2a00176a171e7e695cdf53"
   }
  }
 },
 "nbformat": 4,
 "nbformat_minor": 2
}
