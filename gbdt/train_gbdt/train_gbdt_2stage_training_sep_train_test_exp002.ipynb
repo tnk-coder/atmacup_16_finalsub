{
 "cells": [
  {
   "cell_type": "code",
   "execution_count": 1,
   "metadata": {},
   "outputs": [
    {
     "name": "stderr",
     "output_type": "stream",
     "text": [
      "/home/ryosuke/.cache/pypoetry/virtualenvs/kaggle-pipeline-atmacup-16-kgwzrA72-py3.10/lib/python3.10/site-packages/tqdm/auto.py:21: TqdmWarning: IProgress not found. Please update jupyter and ipywidgets. See https://ipywidgets.readthedocs.io/en/stable/user_install.html\n",
      "  from .autonotebook import tqdm as notebook_tqdm\n"
     ]
    }
   ],
   "source": [
    "\n",
    "from sklearn.metrics import roc_auc_score, accuracy_score, f1_score, log_loss, matthews_corrcoef, precision_recall_curve, auc\n",
    "import pickle\n",
    "import warnings\n",
    "import sys\n",
    "import pandas as pd\n",
    "import os\n",
    "import gc\n",
    "import sys\n",
    "import time\n",
    "import numpy as np\n",
    "import pandas as pd\n",
    "import matplotlib.pyplot as plt\n",
    "from tqdm.auto import tqdm\n",
    "import datetime\n",
    "from collections import defaultdict, Counter\n",
    "\n",
    "import sys\n",
    "sys.path.append('../../')\n",
    "\n",
    "# utils\n",
    "from common_utils.logger import init_logger\n",
    "from common_utils.settings import cfg_init\n",
    "from common_utils.kf import get_fold\n",
    "# from common_utils.gbdt.model_gbdt import LightGBM, CatBoost\n",
    "# from common_utils.gbdt.model_gbdt import LightGBM\n",
    "from common_utils.feature_engineering.base import run_block, NumericBlock, LabelEncodingBlock, CountEncodingBlock, AggBlock, TargetEncodingBlock\n",
    "from common_utils.feature_engineering.text import TextLenBlock, TfidfSVDBlock"
   ]
  },
  {
   "cell_type": "code",
   "execution_count": 2,
   "metadata": {},
   "outputs": [],
   "source": [
    "from myutils.metrics import mapk"
   ]
  },
  {
   "cell_type": "code",
   "execution_count": 3,
   "metadata": {},
   "outputs": [],
   "source": [
    "from common_utils.metrics import calc_auc_score"
   ]
  },
  {
   "cell_type": "markdown",
   "metadata": {},
   "source": []
  },
  {
   "cell_type": "code",
   "execution_count": 4,
   "metadata": {},
   "outputs": [
    {
     "name": "stdout",
     "output_type": "stream",
     "text": [
      "running kernel\n",
      "set dataset path\n"
     ]
    }
   ],
   "source": [
    "class CFG:\n",
    "    # ============== comp exp name =============\n",
    "    comp_name = 'atmacup_16'\n",
    "\n",
    "    comp_dir_path = '../../'\n",
    "    comp_folder_name = 'atmaCup16_Dataset'  # compのデータセットのフォルダ名\n",
    "    comp_dataset_path = f'{comp_dir_path}datasets/{comp_folder_name}/'\n",
    "\n",
    "    try:\n",
    "        exp_name = os.path.basename(__file__).split('.')[0]\n",
    "    except Exception:\n",
    "        print('running kernel')\n",
    "        exp_name = None\n",
    "    \n",
    "    exp_name = 'train_gbdt_2stage_training_sep_train_test_exp002' # notebook\n",
    "    feature_notebook_name = 'train_gbdt_2stage_feature_only_sep_train_test_exp002'\n",
    "\n",
    "    # ============== model =============\n",
    "    model_name = 'catboost_gkf'\n",
    "\n",
    "    # ============== features =============\n",
    "    catboost_cat_cols = []\n",
    "    catboost_text_cols = []\n",
    "    top_k = 40\n",
    "    # ============== pred target =============\n",
    "    # target_col = 'target'\n",
    "    target_col = 'target_multi'\n",
    "\n",
    "    target_size = 1\n",
    "    num_class = 5 # multiclassの場合\n",
    "\n",
    "    # ============== fold =============\n",
    "    n_fold = 5\n",
    "    skf_col = 'session_id'\n",
    "    # group_col = 'session_id'\n",
    "    group_col = 'session_duplicated_group'\n",
    "    fold_type = 'gkf'\n",
    "\n",
    "    objective_cv = 'binary'  # collateとかの型を決める用\n",
    "    metric_direction = 'maximize'  # gbdtだと使わない\n",
    "    metrics = 'calc_auc_score'\n",
    "\n",
    "    # ============== wandb =============\n",
    "    wandb_note = f'starter'\n",
    "\n",
    "    # ============== ほぼ固定 =============\n",
    "    seed = 42\n",
    "\n",
    "    # ============== set dataset path =============\n",
    "    if exp_name is not None:\n",
    "        print('set dataset path')\n",
    "\n",
    "        outputs_path = comp_dir_path +  \\\n",
    "            f'outputs/{comp_name}/{exp_name}/'\n",
    "\n",
    "        submission_dir = outputs_path + 'submissions/'\n",
    "        submission_path = submission_dir + f'submission_{exp_name}.csv'\n",
    "\n",
    "        model_dir = outputs_path + \\\n",
    "            f'{comp_name}-models/'\n",
    "\n",
    "        figures_dir = outputs_path + 'figures/'\n",
    "\n",
    "        log_dir = outputs_path + 'logs/'\n",
    "        log_path = log_dir + f'{exp_name}.txt'"
   ]
  },
  {
   "cell_type": "markdown",
   "metadata": {},
   "source": [
    "## todo \n",
    "\n",
    "last_itemと同じ候補は取り除く"
   ]
  },
  {
   "cell_type": "code",
   "execution_count": 5,
   "metadata": {},
   "outputs": [
    {
     "name": "stderr",
     "output_type": "stream",
     "text": [
      "\n",
      "\n",
      "-------- exp_info -----------------\n",
      "2023年12月17日 14:23:32\n"
     ]
    }
   ],
   "source": [
    "warnings.filterwarnings('ignore')\n",
    "\n",
    "cfg_init(CFG)\n",
    "\n",
    "Logger = init_logger(log_file=CFG.log_path)\n",
    "\n",
    "Logger.info('\\n\\n-------- exp_info -----------------')\n",
    "Logger.info(datetime.datetime.now().strftime('%Y年%m月%d日 %H:%M:%S'))"
   ]
  },
  {
   "cell_type": "code",
   "execution_count": 6,
   "metadata": {},
   "outputs": [],
   "source": [
    "\n",
    "import lightgbm as lgb\n",
    "from catboost import Pool, CatBoostClassifier, CatBoostRegressor\n",
    "import catboost\n",
    "import pandas as pd\n",
    "import matplotlib.pyplot as plt\n",
    "import pickle\n",
    "\n",
    "\n",
    "class LightGBM:\n",
    "\n",
    "    def __init__(self, lgb_params, save_dir=None, imp_dir=None, categorical_feature=None,\n",
    "                 model_name='lgb',\n",
    "                 stopping_rounds=50) -> None:\n",
    "        self.save_dir = save_dir\n",
    "        self.imp_dir = imp_dir\n",
    "        self.lgb_params = lgb_params\n",
    "        self.categorical_feature = categorical_feature\n",
    "\n",
    "        # saveの切り替え用\n",
    "        self.model_name = model_name\n",
    "\n",
    "        self.stopping_rounds = stopping_rounds\n",
    "\n",
    "    def fit(self, x_train, y_train, train_group, val_group, **fit_params) -> None:\n",
    "\n",
    "        X_val, y_val = fit_params['eval_set'][0]\n",
    "        del fit_params['eval_set']\n",
    "\n",
    "        print('make dataset')\n",
    "        train_dataset = lgb.Dataset(\n",
    "            x_train, y_train, group=train_group, categorical_feature=self.categorical_feature)\n",
    "\n",
    "        val_dataset = lgb.Dataset(\n",
    "            X_val, y_val, group=val_group, categorical_feature=self.categorical_feature)\n",
    "\n",
    "        print('start training')\n",
    "        self.model = lgb.train(params=self.lgb_params,\n",
    "                               train_set=train_dataset,\n",
    "                               valid_sets=[train_dataset, val_dataset],\n",
    "                               callbacks=[lgb.early_stopping(stopping_rounds=self.stopping_rounds,\n",
    "                                                             verbose=True),\n",
    "                                          lgb.log_evaluation(50)],\n",
    "                               **fit_params\n",
    "                               )\n",
    "\n",
    "    def plot_importance(self, fold):\n",
    "        gain_importances = pd.DataFrame({'Feature': self.model.feature_name(),\n",
    "                                         'Importance': self.model.feature_importance(importance_type='gain')})\n",
    "\n",
    "        gain_importances.to_csv(\n",
    "            f'{self.imp_dir}lgb_imp_fold_{fold}_{self.model_name}.csv', index=False)\n",
    "\n",
    "        gain_importances = gain_importances.nlargest(\n",
    "            50, 'Importance', keep='first').sort_values(by='Importance', ascending=True)\n",
    "\n",
    "        gain_importances[['Importance', 'Feature']].plot(\n",
    "            kind='barh', x='Feature', color='blue', figsize=(12, 8), fontsize=9)\n",
    "        # plt.ylabel('Feature', fontsize=12)\n",
    "        plt.title(f'gain importance fold {fold}')\n",
    "        plt.savefig(\n",
    "            f'{self.imp_dir}gain_importance_fold{fold}_{self.model_name}.png', bbox_inches='tight')\n",
    "\n",
    "    def plot_importance_all(self, n_fold=5):\n",
    "        dfs = [pd.read_csv(\n",
    "            f'{self.imp_dir}lgb_imp_fold_{fold}_{self.model_name}.csv') for fold in range(n_fold)]\n",
    "        imp_df = pd.concat(dfs).reset_index(drop=True)\n",
    "        imp_df = imp_df.groupby(['Feature'])['Importance'].mean().reset_index()\n",
    "\n",
    "        gain_importances = imp_df.nlargest(\n",
    "            50, 'Importance', keep='first').sort_values(by='Importance', ascending=True)\n",
    "        gain_importances[['Importance', 'Feature']].plot(\n",
    "            kind='barh', x='Feature', color='blue', figsize=(12, 8), fontsize=9)\n",
    "        plt.title('gain importance all')\n",
    "        plt.savefig(\n",
    "            f'{self.imp_dir}gain_importance_all_{self.model_name}.png', bbox_inches='tight')\n",
    "\n",
    "        return imp_df\n",
    "\n",
    "    def save(self, fold):\n",
    "        save_to = f'{self.save_dir}lgb_fold_{fold}_{self.model_name}.txt'\n",
    "        self.model.save_model(save_to)\n",
    "\n",
    "    def load(self, fold):\n",
    "        load_from = f'{self.save_dir}lgb_fold_{fold}_{self.model_name}.txt'\n",
    "        self.model = lgb.Booster(model_file=load_from)\n",
    "\n",
    "    def predict(self, x):\n",
    "        return self.model.predict(x)\n",
    "\n",
    "    def predict_proba(self, x):\n",
    "        return self.model.predict_proba(x)\n"
   ]
  },
  {
   "cell_type": "code",
   "execution_count": 7,
   "metadata": {},
   "outputs": [],
   "source": [
    "import lightgbm as lgb\n",
    "from catboost import Pool, CatBoostClassifier, CatBoostRegressor\n",
    "import catboost\n",
    "import pandas as pd\n",
    "import matplotlib.pyplot as plt\n",
    "import pickle\n",
    "\n",
    "class CatBoost:\n",
    "\n",
    "    def __init__(self, lgb_params, mode, save_dir=None, imp_dir=None, categorical_feature=None, text_features=None,\n",
    "                 model_name='catboost') -> None:\n",
    "        self.mode = mode\n",
    "        self.save_dir = save_dir\n",
    "        self.imp_dir = imp_dir\n",
    "        self.lgb_params = lgb_params\n",
    "        self.categorical_feature = categorical_feature\n",
    "        self.text_features = text_features\n",
    "\n",
    "        # saveの切り替え用\n",
    "        self.model_name = model_name\n",
    "\n",
    "    def fit(self, x_train, y_train, train_group, val_group, **fit_params) -> None:\n",
    "\n",
    "        print('categorical feature')\n",
    "        print(self.categorical_feature)\n",
    "\n",
    "        print('text feature')\n",
    "        print(self.text_features)\n",
    "\n",
    "        X_val, y_val = fit_params['eval_set'][0]\n",
    "        del fit_params['eval_set']\n",
    "\n",
    "        train_pool = Pool(x_train, y_train, text_features=self.text_features,\n",
    "                          cat_features=self.categorical_feature,\n",
    "                          group_id=train_group)\n",
    "        val_pool = Pool(X_val, y_val, text_features=self.text_features,\n",
    "                        cat_features=self.categorical_feature,\n",
    "                        group_id=val_group)\n",
    "\n",
    "        \"\"\"\n",
    "        if self.mode == 'regression':\n",
    "            self.model = CatBoostRegressor(**self.lgb_params)\n",
    "        else:\n",
    "            self.model = CatBoostClassifier(**self.lgb_params)\n",
    "        \"\"\"\n",
    "        self.model = catboost.CatBoost(self.lgb_params)        \n",
    "\n",
    "        self.model.fit(train_pool,\n",
    "                       eval_set=val_pool,\n",
    "                       **fit_params\n",
    "                       )\n",
    "        \"\"\"\n",
    "        self.gain_importances = pd.DataFrame({'Feature': self.model.feature_names_,\n",
    "                                              'Importance': self.model.get_feature_importance(train_pool)})\n",
    "        \"\"\"\n",
    "\n",
    "    '''\n",
    "    def plot_importance(self, fold):\n",
    "        \"\"\"\n",
    "        gain_importances = pd.DataFrame({'Feature': self.model.feature_names_,\n",
    "                                         'Importance': self.model.feature_importances_})\n",
    "        \"\"\"\n",
    "        # rerankerだとNoneになる\n",
    "        # print(self.model.feature_importances_)\n",
    "        gain_importances = self.gain_importances\n",
    "\n",
    "        gain_importances.to_csv(\n",
    "            f'{self.imp_dir}catboost_imp_fold_{fold}_{self.model_name}.csv', index=False)\n",
    "\n",
    "        gain_importances = gain_importances.nlargest(\n",
    "            50, 'Importance', keep='first').sort_values(by='Importance', ascending=True)\n",
    "        gain_importances[['Importance', 'Feature']].plot(\n",
    "            kind='barh', x='Feature', color='blue', figsize=(12, 8), fontsize=9)\n",
    "\n",
    "        # plt.ylabel('Feature', fontsize=12)\n",
    "        plt.title(f'gain importance fold {fold}')\n",
    "        plt.savefig(\n",
    "            f'{self.imp_dir}gain_importance_fold{fold}_{self.model_name}.png', bbox_inches='tight')\n",
    "\n",
    "    def plot_importance_all(self, n_fold=5):\n",
    "        dfs = [pd.read_csv(\n",
    "            f'{self.imp_dir}catboost_imp_fold_{fold}_{self.model_name}.csv') for fold in range(n_fold)]\n",
    "        imp_df = pd.concat(dfs).reset_index(drop=True)\n",
    "        imp_df = imp_df.groupby(['Feature'])['Importance'].mean().reset_index()\n",
    "\n",
    "        gain_importances = imp_df.nlargest(\n",
    "            50, 'Importance', keep='first').sort_values(by='Importance', ascending=True)\n",
    "        gain_importances[['Importance', 'Feature']].plot(\n",
    "            kind='barh', x='Feature', color='blue', figsize=(12, 8), fontsize=9)\n",
    "        plt.title('gain importance all')\n",
    "        plt.savefig(\n",
    "            f'{self.imp_dir}gain_importance_all_{self.model_name}.png', bbox_inches='tight')\n",
    "\n",
    "        return imp_df\n",
    "    '''\n",
    "    \n",
    "    def save(self, fold):\n",
    "        save_to = f'{self.save_dir}catboost_fold_{fold}_{self.model_name}.pkl'\n",
    "        pickle.dump(self.model, open(save_to, 'wb'))\n",
    "    \n",
    "    def load(self, fold):\n",
    "        load_from = f'{self.save_dir}catboost_fold_{fold}_{self.model_name}.pkl'\n",
    "        self.model = pickle.load(open(load_from, 'rb'))\n",
    "        \n",
    "    def predict(self, x):\n",
    "        return self.model.predict(x)\n",
    "\n",
    "    def predict_proba(self, x):\n",
    "        return self.model.predict_proba(x)\n",
    "        # return self.model.predict(x, prediction_type='Probability')[:, 1]\n"
   ]
  },
  {
   "cell_type": "code",
   "execution_count": 8,
   "metadata": {},
   "outputs": [],
   "source": [
    "def get_model(model_name):\n",
    "    if 'lgb' in model_name:\n",
    "        \"\"\"\n",
    "        適宜追加: \n",
    "        'metric': 'rmse',\n",
    "        \"\"\"\n",
    "        \"\"\"\n",
    "        lgb_params = {'objective': CFG.objective_cv, 'boosting_type': 'gbdt', 'verbose': -1,\n",
    "                    'n_jobs': 8, 'seed': CFG.seed, 'learning_rate': 0.1,\n",
    "                    # 'num_class': CFG.num_class, # multiclassなら必要\n",
    "                    'metric': 'auc',\n",
    "                    'num_leaves': 64,\n",
    "                    'max_depth': 5,\n",
    "                    'bagging_seed': CFG.seed,\n",
    "                    'feature_fraction_seed': CFG.seed,\n",
    "                    'drop_seed': CFG.seed,\n",
    "                    }\n",
    "        \"\"\"\n",
    "\n",
    "\n",
    "        lgb_params = {'objective': 'lambdarank', 'boosting_type': 'gbdt', 'verbose': -1,\n",
    "                    'n_jobs': 8, 'seed': CFG.seed, 'learning_rate': 0.01,\n",
    "                    # 'num_class': CFG.num_class, # multiclassなら必要\n",
    "                    # 'metric': 'map',\n",
    "                    'num_leaves': 64,\n",
    "                    'max_depth': 5,\n",
    "                    'bagging_seed': CFG.seed,\n",
    "                    'feature_fraction_seed': CFG.seed,\n",
    "                    'drop_seed': CFG.seed,\n",
    "                    # \"eval_at\": 10,\n",
    "                    }\n",
    "\n",
    "        \n",
    "        \"\"\"\n",
    "        lgb_params = {'objective': 'xendcg', 'boosting_type': 'gbdt', 'verbose': -1,\n",
    "                    'n_jobs': 8, 'seed': CFG.seed, \n",
    "                    'learning_rate': 0.1,\n",
    "                    # 'num_leaves': 255,\n",
    "                    # 'min_data_in_leaf': 100,\n",
    "                    'bagging_seed': CFG.seed,\n",
    "                    'feature_fraction_seed': CFG.seed,\n",
    "                    'drop_seed': CFG.seed,\n",
    "                    # \"eval_at\": 10,\n",
    "                    }\n",
    "        \"\"\"\n",
    "        model = LightGBM(lgb_params=lgb_params,\n",
    "                        imp_dir=CFG.figures_dir, save_dir=CFG.model_dir,\n",
    "                        model_name=model_name,\n",
    "                        stopping_rounds=300)\n",
    "    elif 'catboost' in model_name:\n",
    "        \"\"\"\n",
    "        追加予定: \n",
    "        'loss_function': 'RMSE', 'task_type': 'GPU',\n",
    "        \"\"\"\n",
    "        lgb_params = {\n",
    "                    # 'random_seed': CFG.seed, \n",
    "                    'iterations': 30000,\n",
    "                    'loss_function': 'YetiRank',\n",
    "                    # 'loss_function': 'PairLogitPairwise',\n",
    "                    'task_type': 'GPU',\n",
    "                    # 'learning_rate': 0.1, # YetiRank gpuのときは設定しない\n",
    "                    \"random_state\": 42,\n",
    "                    }\n",
    "        if lgb_params['loss_function'] == 'PairLogitPairwise':\n",
    "            lgb_params['learning_rate'] = 0.1\n",
    "            lgb_params['iterations'] = 100000\n",
    "\n",
    "        model = CatBoost(lgb_params=lgb_params,\n",
    "                         mode = CFG.objective_cv,\n",
    "                         imp_dir=CFG.figures_dir, save_dir=CFG.model_dir,\n",
    "                         model_name=model_name,\n",
    "                         categorical_feature=CFG.catboost_cat_cols,\n",
    "                         text_features=CFG.catboost_text_cols)       \n",
    "\n",
    "\n",
    "    return model"
   ]
  },
  {
   "cell_type": "code",
   "execution_count": 9,
   "metadata": {},
   "outputs": [],
   "source": [
    "def get_fit_params(model_name):\n",
    "    if 'lgb' in model_name:\n",
    "        params = {\n",
    "            'num_boost_round': 100000\n",
    "        }\n",
    "        # 'stopping_rounds': 50, # 'early_stopping_rounds': 50,\n",
    "        #         'verbose_eval': 50\n",
    "    elif 'catboost' in model_name:\n",
    "        params = {\n",
    "            'early_stopping_rounds': 300, # 50\n",
    "            'verbose': 50,\n",
    "            'use_best_model': True, # overfitさせてみる\n",
    "        }\n",
    "        \n",
    "    return params"
   ]
  },
  {
   "cell_type": "code",
   "execution_count": 10,
   "metadata": {},
   "outputs": [],
   "source": [
    "def get_result(result_df):\n",
    "\n",
    "    pred_cols = [f'pred_{i}' for i in range(CFG.target_size)]\n",
    "\n",
    "    preds = result_df[pred_cols].values\n",
    "    labels = result_df[CFG.target_col].values\n",
    "\n",
    "    eval_func = eval(CFG.metrics)\n",
    "    best_score = eval_func(labels, preds)\n",
    "\n",
    "    Logger.info(f'best_score: {best_score:<.4f}')\n",
    "    return best_score\n"
   ]
  },
  {
   "cell_type": "code",
   "execution_count": 11,
   "metadata": {},
   "outputs": [],
   "source": [
    "train_log_df = pd.read_csv(CFG.comp_dataset_path + 'train_log.csv')\n",
    "train_label_df = pd.read_csv(CFG.comp_dataset_path + 'train_label.csv')\n",
    "test_log_df = pd.read_csv(CFG.comp_dataset_path + 'test_log.csv')\n",
    "yado_df = pd.read_csv(CFG.comp_dataset_path + 'yado.csv')\n",
    "\n",
    "train_session_only_df = train_label_df[['session_id']]\n",
    "test_session_only_df = pd.read_csv(CFG.comp_dataset_path + 'test_session.csv')\n",
    "\n",
    "train_test_log_df = pd.concat([train_log_df, test_log_df], axis=0).reset_index(drop=True)"
   ]
  },
  {
   "cell_type": "code",
   "execution_count": 12,
   "metadata": {},
   "outputs": [],
   "source": [
    "train_df = pd.read_pickle(f'../../outputs/atmacup_16/{CFG.feature_notebook_name}/feature_pkl/train_df.pkl')\n",
    "num_cols = pickle.load(open(f'../../outputs/atmacup_16/{CFG.feature_notebook_name}/feature_pkl/num_cols.pkl', 'rb'))"
   ]
  },
  {
   "cell_type": "code",
   "execution_count": 13,
   "metadata": {},
   "outputs": [
    {
     "data": {
      "text/plain": [
       "(159, 159)"
      ]
     },
     "execution_count": 13,
     "metadata": {},
     "output_type": "execute_result"
    }
   ],
   "source": [
    "len(num_cols), len(set(num_cols))"
   ]
  },
  {
   "cell_type": "code",
   "execution_count": 14,
   "metadata": {},
   "outputs": [
    {
     "data": {
      "text/plain": [
       "['yad_occur_count_sep_train_test',\n",
       " 'yad_occur_rank_sml_cd_sep_train_test',\n",
       " 'yad_occur_rank_wid_cd_sep_train_test',\n",
       " 'yad_occur_rank_ken_cd_sep_train_test',\n",
       " 'yad_occur_rank_lrg_cd_sep_train_test',\n",
       " 'yad_occur_count_last_item_sep_train_test',\n",
       " 'yad_session_nunique_last_item_sep_train_test',\n",
       " 'yad_occur_rank_last_item_sep_train_test_sml_cd',\n",
       " 'yad_occur_rank_last_item_sep_train_test_wid_cd',\n",
       " 'yad_occur_rank_last_item_sep_train_test_ken_cd',\n",
       " 'yad_occur_rank_last_item_sep_train_test_lrg_cd',\n",
       " 'last_item_coo_count_0_sep_train_test',\n",
       " 'last_item_coo_count_1_sep_train_test',\n",
       " 'last_item_coo_count_2_sep_train_test',\n",
       " 'last_item_coo_count_3_sep_train_test',\n",
       " 'last_item_coo_count_4_sep_train_test',\n",
       " 'last_item_coo_count_0_rank_sep_train_test',\n",
       " 'last_item_coo_count_1_rank_sep_train_test',\n",
       " 'last_item_coo_count_2_rank_sep_train_test',\n",
       " 'last_item_coo_count_3_rank_sep_train_test',\n",
       " 'last_item_coo_count_4_rank_sep_train_test',\n",
       " 'second_item_coo_count_0_sep_train_test',\n",
       " 'second_item_coo_count_1_sep_train_test',\n",
       " 'second_item_coo_count_2_sep_train_test',\n",
       " 'second_item_coo_count_3_sep_train_test',\n",
       " 'second_item_coo_count_4_sep_train_test',\n",
       " 'second_item_coo_count_0_rank_sep_train_test',\n",
       " 'second_item_coo_count_1_rank_sep_train_test',\n",
       " 'second_item_coo_count_2_rank_sep_train_test',\n",
       " 'second_item_coo_count_3_rank_sep_train_test',\n",
       " 'second_item_coo_count_4_rank_sep_train_test',\n",
       " 'last_item_degree_sep_train_test',\n",
       " 'yad_no_degree_sep_train_test',\n",
       " 'degree_diff_sep_train_test',\n",
       " 'last_item_clustering_sep_train_test',\n",
       " 'yad_no_clustering_sep_train_test',\n",
       " 'clustering_diff_sep_train_test',\n",
       " 'path_length_sep_train_test',\n",
       " 'cos_sim_sep_train_test_prone_last_item']"
      ]
     },
     "execution_count": 14,
     "metadata": {},
     "output_type": "execute_result"
    }
   ],
   "source": [
    "sep_train_test_cols = pickle.load(open(f'../../outputs/atmacup_16/{CFG.feature_notebook_name}/feature_pkl/sep_train_test_cols.pkl', 'rb'))\n",
    "sep_train_test_cols"
   ]
  },
  {
   "cell_type": "code",
   "execution_count": 15,
   "metadata": {},
   "outputs": [
    {
     "data": {
      "text/plain": [
       "(39, 39)"
      ]
     },
     "execution_count": 15,
     "metadata": {},
     "output_type": "execute_result"
    }
   ],
   "source": [
    "len(sep_train_test_cols), len(set(sep_train_test_cols))"
   ]
  },
  {
   "cell_type": "code",
   "execution_count": 16,
   "metadata": {},
   "outputs": [
    {
     "data": {
      "text/plain": [
       "(198, 198)"
      ]
     },
     "execution_count": 16,
     "metadata": {},
     "output_type": "execute_result"
    }
   ],
   "source": [
    "num_cols += sep_train_test_cols\n",
    "len(num_cols), len(set(num_cols))"
   ]
  },
  {
   "cell_type": "code",
   "execution_count": 17,
   "metadata": {},
   "outputs": [],
   "source": [
    "def sep_train_test_cols_add_rank(target_df, sep_train_test_cols):\n",
    "    output_cols = []\n",
    "    for col in tqdm(sep_train_test_cols):\n",
    "        target_df[col + '_rank'] = target_df.groupby(['session_id'])[col].rank(ascending=False, method='min').fillna(-1).astype(np.int8)\n",
    "        output_cols.append(col + '_rank')\n",
    "    return target_df"
   ]
  },
  {
   "cell_type": "code",
   "execution_count": 18,
   "metadata": {},
   "outputs": [],
   "source": [
    "# train_df[train_df['last_item'] == 2808].sort_values(['session_id', 'yad_no']).to_csv('last_item_2808.csv', index=False)"
   ]
  },
  {
   "cell_type": "code",
   "execution_count": 19,
   "metadata": {},
   "outputs": [],
   "source": [
    "def add_session_duplicated_group(train_df, train_log_df):\n",
    "    # session_idごとの、logのyad\n",
    "    session_to_log_yad_dict = train_log_df.groupby('session_id')['yad_no'].apply(tuple).to_dict()\n",
    "\n",
    "    # session内のyad_noの組み合わせが同じsessionを同じグループとする\n",
    "    log_yads_to_group_num_dict = {}\n",
    "    group_count = 0\n",
    "    for session_id, session_log_yads in session_to_log_yad_dict.items():\n",
    "        if session_log_yads in log_yads_to_group_num_dict:\n",
    "            pass\n",
    "        else:\n",
    "            group_count += 1\n",
    "            log_yads_to_group_num_dict[session_log_yads] = group_count\n",
    "\n",
    "    group_list = []\n",
    "    for session_id, yad_no in train_df[['session_id', 'yad_no']].values:\n",
    "        session_log_yads = session_to_log_yad_dict[session_id]\n",
    "        group_list.append(log_yads_to_group_num_dict[session_log_yads])\n",
    "        \n",
    "    train_df['session_duplicated_group'] = group_list\n",
    "\n",
    "    return train_df\n"
   ]
  },
  {
   "cell_type": "code",
   "execution_count": 20,
   "metadata": {},
   "outputs": [],
   "source": [
    "# train_df = add_session_duplicated_group(train_df, train_log_df)"
   ]
  },
  {
   "cell_type": "code",
   "execution_count": 21,
   "metadata": {},
   "outputs": [
    {
     "data": {
      "text/plain": [
       "\"\\ntrain_df['session_id'].nunique(), train_df['session_duplicated_group'].nunique()\\nfor num in range(1, 6):\\n    train_df[train_df['session_duplicated_group'] == num].sort_values(['session_id', 'yad_no']).to_csv(CFG.outputs_path + 'train_df_session_duplicated_group_1.csv', index=False)\\n\""
      ]
     },
     "execution_count": 21,
     "metadata": {},
     "output_type": "execute_result"
    }
   ],
   "source": [
    "\"\"\"\n",
    "train_df['session_id'].nunique(), train_df['session_duplicated_group'].nunique()\n",
    "for num in range(1, 6):\n",
    "    train_df[train_df['session_duplicated_group'] == num].sort_values(['session_id', 'yad_no']).to_csv(CFG.outputs_path + 'train_df_session_duplicated_group_1.csv', index=False)\n",
    "\"\"\""
   ]
  },
  {
   "cell_type": "code",
   "execution_count": 22,
   "metadata": {},
   "outputs": [],
   "source": [
    "# train_df = get_fold(train_df, CFG)"
   ]
  },
  {
   "cell_type": "code",
   "execution_count": 23,
   "metadata": {},
   "outputs": [],
   "source": [
    "# set(train_df[train_df['fold'] == 0]['session_duplicated_group']) & set(train_df[train_df['fold'] != 0]['session_duplicated_group'])"
   ]
  },
  {
   "cell_type": "code",
   "execution_count": 24,
   "metadata": {},
   "outputs": [],
   "source": [
    "def reduce_mem_usage(df):\n",
    "    start_mem = df.memory_usage().sum() / 1024**2\n",
    "    print('Memory usage of dataframe is {:.2f} MB'.format(start_mem))\n",
    "\n",
    "    for col in df.columns:\n",
    "        col_type = df[col].dtype\n",
    "        \n",
    "        # print(str(col_type))\n",
    "        if col_type != object and str(col_type) != 'datetime64[ns]':\n",
    "            c_min = df[col].min()\n",
    "            c_max = df[col].max()\n",
    "            if str(col_type)[:3] == 'int':\n",
    "                if c_min > np.iinfo(np.int8).min and c_max < np.iinfo(np.int8).max:\n",
    "                    df[col] = df[col].astype(np.int8)\n",
    "                elif c_min > np.iinfo(np.int16).min and c_max < np.iinfo(np.int16).max:\n",
    "                    df[col] = df[col].astype(np.int16)\n",
    "                elif c_min > np.iinfo(np.int32).min and c_max < np.iinfo(np.int32).max:\n",
    "                    df[col] = df[col].astype(np.int32)\n",
    "                elif c_min > np.iinfo(np.int64).min and c_max < np.iinfo(np.int64).max:\n",
    "                    df[col] = df[col].astype(np.int64)\n",
    "            else:\n",
    "                if c_min > np.finfo(np.float16).min and c_max < np.finfo(np.float16).max:\n",
    "                    df[col] = df[col].astype(np.float16)\n",
    "                elif c_min > np.finfo(np.float32).min and c_max < np.finfo(np.float32).max:\n",
    "                    df[col] = df[col].astype(np.float32)\n",
    "                else:\n",
    "                    df[col] = df[col].astype(np.float64)\n",
    "        else:\n",
    "            # df[col] = df[col].astype('category')\n",
    "            pass\n",
    "            \n",
    "    end_mem = df.memory_usage().sum() / 1024**2\n",
    "    print('Memory usage after optimization is: {:.2f} MB'.format(end_mem))\n",
    "    print('Decreased by {:.1f}%'.format(\n",
    "        100 * (start_mem - end_mem) / start_mem))\n",
    "\n",
    "    return df\n"
   ]
  },
  {
   "cell_type": "code",
   "execution_count": 25,
   "metadata": {},
   "outputs": [
    {
     "name": "stdout",
     "output_type": "stream",
     "text": [
      "session_id                                     object\n",
      "yad_no                                          int64\n",
      "rank_past_item                                float64\n",
      "candidate_name_num                              int64\n",
      "fold                                            int64\n",
      "                                               ...   \n",
      "cos_sim_second_item_image_embedding_others    float64\n",
      "cos_sim_second_item_image_embedding_room      float64\n",
      "cos_sim_second_item_node2vec                  float64\n",
      "cos_sim_second_item_prone                     float64\n",
      "cos_sim_second_item_prone_directed            float64\n",
      "Length: 207, dtype: object\n"
     ]
    }
   ],
   "source": [
    "print(train_df.dtypes)"
   ]
  },
  {
   "cell_type": "code",
   "execution_count": 26,
   "metadata": {},
   "outputs": [],
   "source": [
    "train_df.dtypes.to_csv(CFG.outputs_path + 'train_df_dtypes.csv')"
   ]
  },
  {
   "cell_type": "code",
   "execution_count": 27,
   "metadata": {},
   "outputs": [
    {
     "data": {
      "text/plain": [
       "0"
      ]
     },
     "execution_count": 27,
     "metadata": {},
     "output_type": "execute_result"
    }
   ],
   "source": [
    "# train_df[num_cols] = reduce_mem_usage(train_df[num_cols])\n",
    "gc.collect()"
   ]
  },
  {
   "cell_type": "code",
   "execution_count": 28,
   "metadata": {},
   "outputs": [],
   "source": [
    "# del_col = ['sml_cd', 'lrg_cd', 'sml_cd_last_item', 'lrg_cd_last_item', 'candidate_name']\n",
    "del_col = ['sml_cd', 'lrg_cd', 'sml_cd_last_item', 'lrg_cd_last_item']\n",
    "\n",
    "del_flg = 0\n",
    "for c in del_col:\n",
    "    if c in train_df.columns:\n",
    "        del_flg += 1\n",
    "del_flg = 1 if del_flg == len(del_col) else 0\n",
    "if del_flg:\n",
    "    print('del_col')\n",
    "    train_df.drop(del_col, axis=1, inplace=True)\n",
    "    gc.collect()"
   ]
  },
  {
   "cell_type": "code",
   "execution_count": 29,
   "metadata": {},
   "outputs": [],
   "source": [
    "train_df.dtypes.to_csv(CFG.outputs_path + 'train_df_dtypes_mem_usage.csv')"
   ]
  },
  {
   "cell_type": "code",
   "execution_count": 30,
   "metadata": {},
   "outputs": [
    {
     "name": "stdout",
     "output_type": "stream",
     "text": [
      "yad_type                                       0\n",
      "total_room_cnt                            447611\n",
      "wireless_lan_flg                               0\n",
      "onsen_flg                                      0\n",
      "kd_stn_5min                                    0\n",
      "                                           ...  \n",
      "last_item_clustering_sep_train_test            0\n",
      "yad_no_clustering_sep_train_test               0\n",
      "clustering_diff_sep_train_test                 0\n",
      "path_length_sep_train_test                     0\n",
      "cos_sim_sep_train_test_prone_last_item         0\n",
      "Length: 198, dtype: int64\n"
     ]
    }
   ],
   "source": [
    "train_null_df = train_df[num_cols].isnull().sum()\n",
    "print(train_null_df)\n",
    "train_null_df.to_csv(CFG.outputs_path + 'train_null.csv')"
   ]
  },
  {
   "cell_type": "code",
   "execution_count": 31,
   "metadata": {},
   "outputs": [],
   "source": [
    "def train_fold(train_df, y, num_cols, fold, folds, model_name):\n",
    "    model = get_model(model_name)\n",
    "\n",
    "    trn_ind = (folds != fold)\n",
    "    val_ind = folds == fold\n",
    "\n",
    "    print('loc')\n",
    "    x_train, x_val = train_df.loc[trn_ind, num_cols], train_df.loc[val_ind, num_cols]\n",
    "    y_train, y_val = y.loc[trn_ind], y.loc[val_ind]\n",
    "    eval_set = [(x_val, y_val)]\n",
    "\n",
    "    print('group')\n",
    "    if 'lgb' in model_name:\n",
    "        train_group, val_group = train_df.loc[trn_ind].groupby('session_id').size().values, train_df.loc[val_ind].groupby('session_id').size().values\n",
    "    elif 'catboost' in model_name:\n",
    "        train_group, val_group = train_df.loc[trn_ind]['session_id'].values, train_df.loc[val_ind]['session_id'].values\n",
    "\n",
    "    print(len(x_train), len(x_val))\n",
    "\n",
    "    fit_params_fold = get_fit_params(model_name)\n",
    "    fit_params_fold['eval_set'] = eval_set\n",
    "\n",
    "    print('model fit start')\n",
    "    \n",
    "    if 'lgb' in model_name:\n",
    "        # binary\n",
    "        # model.fit(x_train, y_train, **fit_params_fold)\n",
    "        # ranker\n",
    "        model.fit(x_train, y_train, train_group, val_group, **fit_params_fold)\n",
    "    elif 'catboost' in model_name:\n",
    "        # ranker\n",
    "        model.fit(x_train, y_train, train_group, val_group, **fit_params_fold)\n",
    "\n",
    "    print('save model')\n",
    "    if hasattr(model, 'save'):\n",
    "        model.save(fold)\n",
    "    if hasattr(model, 'plot_importance'):\n",
    "        model.plot_importance(fold)\n",
    "\n",
    "    print('val predict start')\n",
    "    # oof_predictions[val_ind] = model.predict(x_val).reshape(-1, 1)\n",
    "    oof_preds = model.predict(x_val).reshape(-1, 1)\n",
    "    return oof_preds, val_ind\n",
    "\n",
    "def train(train_df, num_cols):\n",
    "    y = train_df[CFG.target_col]\n",
    "    folds = train_df['fold']\n",
    "\n",
    "    model_name = CFG.model_name\n",
    "\n",
    "    eval_func = eval(CFG.metrics)\n",
    "\n",
    "    oof_predictions = np.zeros((train_df.shape[0], CFG.target_size))\n",
    "    # test_predictions = np.zeros(test_df.shape[0])\n",
    "\n",
    "    for fold in range(CFG.n_fold):\n",
    "        Logger.info(f'Training fold {fold + 1}')\n",
    "\n",
    "        oof_preds, val_ind = train_fold(train_df, y, num_cols, fold, folds, model_name)\n",
    "        oof_predictions[val_ind] = oof_preds\n",
    "\n",
    "        gc.collect()\n",
    "\n",
    "    # score = eval_func(y, oof_predictions)\n",
    "    # Logger.info(f'oof result {score}')\n",
    "\n",
    "    model = get_model(model_name)\n",
    "    if hasattr(model, 'plot_importance_all'):\n",
    "        model.plot_importance_all(n_fold=CFG.n_fold)\n",
    "\n",
    "    pred_cols = [f'pred_{i}' for i in range(CFG.target_size)]\n",
    "    train_df[pred_cols] = oof_predictions\n",
    "    train_df[CFG.target_col] = y\n",
    "\n",
    "    return train_df"
   ]
  },
  {
   "cell_type": "code",
   "execution_count": 32,
   "metadata": {},
   "outputs": [],
   "source": [
    "def inference(test_df, num_cols):\n",
    "    model_name = CFG.model_name\n",
    "    test_predictions = np.zeros(test_df.shape[0])\n",
    "\n",
    "    model = get_model(model_name)\n",
    "\n",
    "    for fold in range(CFG.n_fold):\n",
    "        Logger.info(f'inference fold {fold + 1}')\n",
    "        model.load(fold)\n",
    "        test_predictions += model.predict(test_df[num_cols])\n",
    "\n",
    "    test_predictions /= CFG.n_fold\n",
    "    test_df[CFG.target_col] = test_predictions\n",
    "    return test_df"
   ]
  },
  {
   "cell_type": "code",
   "execution_count": 33,
   "metadata": {},
   "outputs": [
    {
     "name": "stderr",
     "output_type": "stream",
     "text": [
      "Training fold 1\n"
     ]
    },
    {
     "name": "stdout",
     "output_type": "stream",
     "text": [
      "loc\n",
      "group\n",
      "8875718 2224976\n",
      "model fit start\n",
      "categorical feature\n",
      "[]\n",
      "text feature\n",
      "[]\n"
     ]
    },
    {
     "name": "stderr",
     "output_type": "stream",
     "text": [
      "Default metric period is 5 because PFound is/are not implemented for GPU\n",
      "Metric PFound is not implemented on GPU. Will use CPU for metric computation, this could significantly affect learning time\n",
      "Metric PFound is not implemented on GPU. Will use CPU for metric computation, this could significantly affect learning time\n"
     ]
    },
    {
     "name": "stdout",
     "output_type": "stream",
     "text": [
      "0:\ttest: 0.9651497\tbest: 0.9651497 (0)\ttotal: 167ms\tremaining: 1h 23m 21s\n",
      "50:\ttest: 0.9835734\tbest: 0.9836103 (49)\ttotal: 6s\tremaining: 58m 41s\n",
      "100:\ttest: 0.9850716\tbest: 0.9850859 (98)\ttotal: 11.9s\tremaining: 58m 29s\n",
      "150:\ttest: 0.9867643\tbest: 0.9867643 (150)\ttotal: 17.8s\tremaining: 58m 40s\n",
      "200:\ttest: 0.9872105\tbest: 0.9872105 (200)\ttotal: 24s\tremaining: 59m 21s\n",
      "250:\ttest: 0.9876500\tbest: 0.9876591 (249)\ttotal: 30.2s\tremaining: 59m 40s\n",
      "300:\ttest: 0.9877029\tbest: 0.9877470 (291)\ttotal: 36.4s\tremaining: 59m 49s\n",
      "350:\ttest: 0.9877473\tbest: 0.9877777 (329)\ttotal: 42.5s\tremaining: 59m 49s\n",
      "400:\ttest: 0.9887135\tbest: 0.9887177 (398)\ttotal: 48.6s\tremaining: 59m 49s\n",
      "450:\ttest: 0.9892834\tbest: 0.9892834 (450)\ttotal: 54.8s\tremaining: 59m 50s\n",
      "500:\ttest: 0.9894937\tbest: 0.9894937 (497)\ttotal: 1m\tremaining: 59m 49s\n",
      "550:\ttest: 0.9895829\tbest: 0.9896191 (545)\ttotal: 1m 6s\tremaining: 59m 36s\n",
      "600:\ttest: 0.9896469\tbest: 0.9896469 (600)\ttotal: 1m 12s\tremaining: 59m 26s\n",
      "650:\ttest: 0.9897796\tbest: 0.9897796 (650)\ttotal: 1m 18s\tremaining: 59m 13s\n",
      "700:\ttest: 0.9900739\tbest: 0.9900818 (693)\ttotal: 1m 24s\tremaining: 58m 58s\n",
      "750:\ttest: 0.9901570\tbest: 0.9901828 (739)\ttotal: 1m 30s\tremaining: 58m 44s\n",
      "800:\ttest: 0.9902494\tbest: 0.9902552 (793)\ttotal: 1m 36s\tremaining: 58m 30s\n",
      "850:\ttest: 0.9903178\tbest: 0.9903368 (839)\ttotal: 1m 42s\tremaining: 58m 19s\n",
      "900:\ttest: 0.9904209\tbest: 0.9904209 (900)\ttotal: 1m 48s\tremaining: 58m 9s\n",
      "950:\ttest: 0.9905319\tbest: 0.9905319 (950)\ttotal: 1m 53s\tremaining: 57m 59s\n",
      "1000:\ttest: 0.9906067\tbest: 0.9906067 (1000)\ttotal: 1m 59s\tremaining: 57m 51s\n",
      "1050:\ttest: 0.9907117\tbest: 0.9907117 (1049)\ttotal: 2m 5s\tremaining: 57m 43s\n",
      "1100:\ttest: 0.9908604\tbest: 0.9908604 (1100)\ttotal: 2m 11s\tremaining: 57m 35s\n",
      "1150:\ttest: 0.9909756\tbest: 0.9909862 (1144)\ttotal: 2m 17s\tremaining: 57m 27s\n",
      "1200:\ttest: 0.9910216\tbest: 0.9910242 (1199)\ttotal: 2m 23s\tremaining: 57m 18s\n",
      "1250:\ttest: 0.9911002\tbest: 0.9911005 (1249)\ttotal: 2m 29s\tremaining: 57m 11s\n",
      "1300:\ttest: 0.9912685\tbest: 0.9912685 (1300)\ttotal: 2m 35s\tremaining: 57m 3s\n",
      "1350:\ttest: 0.9913079\tbest: 0.9913237 (1344)\ttotal: 2m 41s\tremaining: 56m 55s\n",
      "1400:\ttest: 0.9914961\tbest: 0.9915048 (1398)\ttotal: 2m 47s\tremaining: 56m 49s\n",
      "1450:\ttest: 0.9915865\tbest: 0.9915942 (1446)\ttotal: 2m 52s\tremaining: 56m 43s\n",
      "1500:\ttest: 0.9916038\tbest: 0.9916276 (1467)\ttotal: 2m 58s\tremaining: 56m 37s\n",
      "1550:\ttest: 0.9916120\tbest: 0.9916894 (1543)\ttotal: 3m 4s\tremaining: 56m 32s\n",
      "1600:\ttest: 0.9916416\tbest: 0.9916894 (1543)\ttotal: 3m 10s\tremaining: 56m 26s\n",
      "1650:\ttest: 0.9916986\tbest: 0.9916986 (1650)\ttotal: 3m 17s\tremaining: 56m 22s\n",
      "1700:\ttest: 0.9917361\tbest: 0.9917367 (1698)\ttotal: 3m 23s\tremaining: 56m 18s\n",
      "1750:\ttest: 0.9918360\tbest: 0.9918360 (1750)\ttotal: 3m 29s\tremaining: 56m 14s\n",
      "1800:\ttest: 0.9918632\tbest: 0.9918689 (1799)\ttotal: 3m 35s\tremaining: 56m 10s\n",
      "1850:\ttest: 0.9918445\tbest: 0.9918689 (1799)\ttotal: 3m 41s\tremaining: 56m 6s\n",
      "1900:\ttest: 0.9918566\tbest: 0.9918785 (1897)\ttotal: 3m 47s\tremaining: 56m 2s\n",
      "1950:\ttest: 0.9918613\tbest: 0.9918785 (1897)\ttotal: 3m 53s\tremaining: 55m 59s\n",
      "2000:\ttest: 0.9918611\tbest: 0.9918952 (1981)\ttotal: 3m 59s\tremaining: 55m 54s\n",
      "2050:\ttest: 0.9918929\tbest: 0.9919135 (2026)\ttotal: 4m 5s\tremaining: 55m 50s\n",
      "2100:\ttest: 0.9918688\tbest: 0.9919135 (2026)\ttotal: 4m 11s\tremaining: 55m 45s\n",
      "2150:\ttest: 0.9919003\tbest: 0.9919418 (2113)\ttotal: 4m 18s\tremaining: 55m 42s\n",
      "2200:\ttest: 0.9919054\tbest: 0.9919418 (2113)\ttotal: 4m 24s\tremaining: 55m 37s\n",
      "2250:\ttest: 0.9919112\tbest: 0.9919418 (2113)\ttotal: 4m 30s\tremaining: 55m 33s\n",
      "2300:\ttest: 0.9919360\tbest: 0.9919418 (2113)\ttotal: 4m 36s\tremaining: 55m 27s\n",
      "2350:\ttest: 0.9919454\tbest: 0.9919509 (2329)\ttotal: 4m 42s\tremaining: 55m 24s\n",
      "2400:\ttest: 0.9919616\tbest: 0.9919643 (2399)\ttotal: 4m 48s\tremaining: 55m 21s\n",
      "2450:\ttest: 0.9919996\tbest: 0.9920173 (2427)\ttotal: 4m 55s\tremaining: 55m 16s\n",
      "2500:\ttest: 0.9920102\tbest: 0.9920173 (2427)\ttotal: 5m 1s\tremaining: 55m 14s\n",
      "2550:\ttest: 0.9919478\tbest: 0.9920173 (2427)\ttotal: 5m 7s\tremaining: 55m 9s\n",
      "2600:\ttest: 0.9919356\tbest: 0.9920173 (2427)\ttotal: 5m 13s\tremaining: 55m 6s\n",
      "2650:\ttest: 0.9919351\tbest: 0.9920173 (2427)\ttotal: 5m 20s\tremaining: 55m 2s\n",
      "2700:\ttest: 0.9919331\tbest: 0.9920173 (2427)\ttotal: 5m 26s\tremaining: 54m 57s\n",
      "bestTest = 0.9920172802\n",
      "bestIteration = 2427\n",
      "Shrink model to first 2428 iterations.\n",
      "save model\n",
      "val predict start\n"
     ]
    },
    {
     "name": "stderr",
     "output_type": "stream",
     "text": [
      "Training fold 2\n"
     ]
    },
    {
     "name": "stdout",
     "output_type": "stream",
     "text": [
      "loc\n",
      "group\n",
      "8885172 2215522\n",
      "model fit start\n",
      "categorical feature\n",
      "[]\n",
      "text feature\n",
      "[]\n"
     ]
    },
    {
     "name": "stderr",
     "output_type": "stream",
     "text": [
      "Default metric period is 5 because PFound is/are not implemented for GPU\n",
      "Metric PFound is not implemented on GPU. Will use CPU for metric computation, this could significantly affect learning time\n",
      "Metric PFound is not implemented on GPU. Will use CPU for metric computation, this could significantly affect learning time\n"
     ]
    },
    {
     "name": "stdout",
     "output_type": "stream",
     "text": [
      "0:\ttest: 0.9635437\tbest: 0.9635437 (0)\ttotal: 142ms\tremaining: 1h 11m 5s\n",
      "50:\ttest: 0.9839161\tbest: 0.9839222 (48)\ttotal: 6.09s\tremaining: 59m 38s\n",
      "100:\ttest: 0.9854149\tbest: 0.9854477 (99)\ttotal: 12.1s\tremaining: 59m 39s\n",
      "150:\ttest: 0.9861042\tbest: 0.9861042 (150)\ttotal: 18.1s\tremaining: 59m 43s\n",
      "200:\ttest: 0.9866216\tbest: 0.9866735 (198)\ttotal: 24.5s\tremaining: 1h 37s\n",
      "250:\ttest: 0.9870249\tbest: 0.9870667 (235)\ttotal: 30.9s\tremaining: 1h 1m 3s\n",
      "300:\ttest: 0.9870483\tbest: 0.9870668 (292)\ttotal: 37.1s\tremaining: 1h 1m 3s\n",
      "350:\ttest: 0.9875235\tbest: 0.9875235 (350)\ttotal: 43.5s\tremaining: 1h 1m 10s\n",
      "400:\ttest: 0.9877904\tbest: 0.9877904 (400)\ttotal: 49.7s\tremaining: 1h 1m 8s\n",
      "450:\ttest: 0.9880445\tbest: 0.9880445 (450)\ttotal: 55.9s\tremaining: 1h 1m 1s\n",
      "500:\ttest: 0.9883443\tbest: 0.9883443 (500)\ttotal: 1m 2s\tremaining: 1h 58s\n",
      "550:\ttest: 0.9884463\tbest: 0.9884483 (544)\ttotal: 1m 8s\tremaining: 1h 44s\n",
      "600:\ttest: 0.9885582\tbest: 0.9885582 (600)\ttotal: 1m 14s\tremaining: 1h 28s\n",
      "650:\ttest: 0.9886871\tbest: 0.9886872 (648)\ttotal: 1m 20s\tremaining: 1h 13s\n",
      "700:\ttest: 0.9888079\tbest: 0.9888079 (700)\ttotal: 1m 26s\tremaining: 1h 2s\n",
      "750:\ttest: 0.9888496\tbest: 0.9888542 (731)\ttotal: 1m 32s\tremaining: 59m 51s\n",
      "800:\ttest: 0.9887546\tbest: 0.9888784 (786)\ttotal: 1m 38s\tremaining: 59m 39s\n",
      "850:\ttest: 0.9888404\tbest: 0.9888784 (786)\ttotal: 1m 44s\tremaining: 59m 26s\n",
      "900:\ttest: 0.9889793\tbest: 0.9889793 (899)\ttotal: 1m 50s\tremaining: 59m 17s\n",
      "950:\ttest: 0.9891271\tbest: 0.9891271 (950)\ttotal: 1m 56s\tremaining: 59m 7s\n",
      "1000:\ttest: 0.9893903\tbest: 0.9893903 (1000)\ttotal: 2m 2s\tremaining: 59m\n",
      "1050:\ttest: 0.9895069\tbest: 0.9895069 (1049)\ttotal: 2m 8s\tremaining: 58m 51s\n",
      "1100:\ttest: 0.9896149\tbest: 0.9896175 (1099)\ttotal: 2m 14s\tremaining: 58m 44s\n",
      "1150:\ttest: 0.9896256\tbest: 0.9896947 (1131)\ttotal: 2m 20s\tremaining: 58m 38s\n",
      "1200:\ttest: 0.9896702\tbest: 0.9896947 (1131)\ttotal: 2m 26s\tremaining: 58m 30s\n",
      "1250:\ttest: 0.9897106\tbest: 0.9897323 (1249)\ttotal: 2m 32s\tremaining: 58m 27s\n",
      "1300:\ttest: 0.9897733\tbest: 0.9897871 (1293)\ttotal: 2m 38s\tremaining: 58m 23s\n",
      "1350:\ttest: 0.9898459\tbest: 0.9898463 (1349)\ttotal: 2m 44s\tremaining: 58m 17s\n",
      "1400:\ttest: 0.9898565\tbest: 0.9898582 (1394)\ttotal: 2m 50s\tremaining: 58m 10s\n",
      "1450:\ttest: 0.9900275\tbest: 0.9900327 (1448)\ttotal: 2m 57s\tremaining: 58m 4s\n",
      "1500:\ttest: 0.9900537\tbest: 0.9900537 (1500)\ttotal: 3m 3s\tremaining: 57m 57s\n",
      "1550:\ttest: 0.9900913\tbest: 0.9901008 (1546)\ttotal: 3m 9s\tremaining: 57m 51s\n",
      "1600:\ttest: 0.9901577\tbest: 0.9901577 (1599)\ttotal: 3m 15s\tremaining: 57m 43s\n",
      "1650:\ttest: 0.9902371\tbest: 0.9902371 (1650)\ttotal: 3m 21s\tremaining: 57m 37s\n",
      "1700:\ttest: 0.9902947\tbest: 0.9902962 (1697)\ttotal: 3m 27s\tremaining: 57m 32s\n",
      "1750:\ttest: 0.9903597\tbest: 0.9903615 (1748)\ttotal: 3m 33s\tremaining: 57m 28s\n",
      "1800:\ttest: 0.9903610\tbest: 0.9903727 (1755)\ttotal: 3m 39s\tremaining: 57m 24s\n",
      "1850:\ttest: 0.9903934\tbest: 0.9904013 (1838)\ttotal: 3m 46s\tremaining: 57m 19s\n",
      "1900:\ttest: 0.9904454\tbest: 0.9904454 (1900)\ttotal: 3m 52s\tremaining: 57m 16s\n",
      "1950:\ttest: 0.9904571\tbest: 0.9904643 (1946)\ttotal: 3m 58s\tremaining: 57m 13s\n",
      "2000:\ttest: 0.9904506\tbest: 0.9905042 (1982)\ttotal: 4m 5s\tremaining: 57m 10s\n",
      "2050:\ttest: 0.9904899\tbest: 0.9905042 (1982)\ttotal: 4m 11s\tremaining: 57m 6s\n",
      "2100:\ttest: 0.9905074\tbest: 0.9905074 (2100)\ttotal: 4m 17s\tremaining: 57m 2s\n",
      "2150:\ttest: 0.9905029\tbest: 0.9905246 (2101)\ttotal: 4m 24s\tremaining: 56m 58s\n",
      "2200:\ttest: 0.9905570\tbest: 0.9905570 (2200)\ttotal: 4m 30s\tremaining: 56m 53s\n",
      "2250:\ttest: 0.9905737\tbest: 0.9905737 (2247)\ttotal: 4m 36s\tremaining: 56m 48s\n",
      "2300:\ttest: 0.9905746\tbest: 0.9905773 (2296)\ttotal: 4m 42s\tremaining: 56m 42s\n",
      "2350:\ttest: 0.9905899\tbest: 0.9906007 (2345)\ttotal: 4m 48s\tremaining: 56m 38s\n",
      "2400:\ttest: 0.9906393\tbest: 0.9906393 (2400)\ttotal: 4m 55s\tremaining: 56m 31s\n",
      "2450:\ttest: 0.9906379\tbest: 0.9906427 (2425)\ttotal: 5m 1s\tremaining: 56m 25s\n",
      "2500:\ttest: 0.9906394\tbest: 0.9906591 (2460)\ttotal: 5m 7s\tremaining: 56m 20s\n",
      "2550:\ttest: 0.9906726\tbest: 0.9906737 (2529)\ttotal: 5m 13s\tremaining: 56m 14s\n",
      "2600:\ttest: 0.9906895\tbest: 0.9906922 (2569)\ttotal: 5m 19s\tremaining: 56m 8s\n",
      "2650:\ttest: 0.9907184\tbest: 0.9907184 (2650)\ttotal: 5m 25s\tremaining: 56m 1s\n",
      "2700:\ttest: 0.9907196\tbest: 0.9907258 (2693)\ttotal: 5m 31s\tremaining: 55m 55s\n",
      "2750:\ttest: 0.9907514\tbest: 0.9907566 (2748)\ttotal: 5m 38s\tremaining: 55m 48s\n",
      "2800:\ttest: 0.9907681\tbest: 0.9907775 (2777)\ttotal: 5m 44s\tremaining: 55m 42s\n",
      "2850:\ttest: 0.9907809\tbest: 0.9907813 (2846)\ttotal: 5m 50s\tremaining: 55m 36s\n",
      "2900:\ttest: 0.9907982\tbest: 0.9908030 (2874)\ttotal: 5m 56s\tremaining: 55m 30s\n",
      "2950:\ttest: 0.9908193\tbest: 0.9908194 (2933)\ttotal: 6m 2s\tremaining: 55m 25s\n",
      "3000:\ttest: 0.9908498\tbest: 0.9908503 (2997)\ttotal: 6m 8s\tremaining: 55m 19s\n",
      "3050:\ttest: 0.9909018\tbest: 0.9909018 (3050)\ttotal: 6m 15s\tremaining: 55m 13s\n",
      "3100:\ttest: 0.9909158\tbest: 0.9909160 (3098)\ttotal: 6m 21s\tremaining: 55m 7s\n",
      "3150:\ttest: 0.9909194\tbest: 0.9909194 (3150)\ttotal: 6m 27s\tremaining: 55m 1s\n",
      "3200:\ttest: 0.9909525\tbest: 0.9909587 (3175)\ttotal: 6m 33s\tremaining: 54m 55s\n",
      "3250:\ttest: 0.9909674\tbest: 0.9909707 (3249)\ttotal: 6m 39s\tremaining: 54m 49s\n",
      "3300:\ttest: 0.9909621\tbest: 0.9909797 (3272)\ttotal: 6m 45s\tremaining: 54m 43s\n",
      "3350:\ttest: 0.9909693\tbest: 0.9909797 (3272)\ttotal: 6m 52s\tremaining: 54m 37s\n",
      "3400:\ttest: 0.9910003\tbest: 0.9910003 (3396)\ttotal: 6m 58s\tremaining: 54m 31s\n",
      "3450:\ttest: 0.9910005\tbest: 0.9910028 (3446)\ttotal: 7m 4s\tremaining: 54m 26s\n",
      "3500:\ttest: 0.9910364\tbest: 0.9910382 (3496)\ttotal: 7m 10s\tremaining: 54m 19s\n",
      "3550:\ttest: 0.9910456\tbest: 0.9910477 (3546)\ttotal: 7m 16s\tremaining: 54m 11s\n",
      "3600:\ttest: 0.9910829\tbest: 0.9910829 (3600)\ttotal: 7m 22s\tremaining: 54m 4s\n",
      "3650:\ttest: 0.9910881\tbest: 0.9910906 (3645)\ttotal: 7m 28s\tremaining: 53m 58s\n",
      "3700:\ttest: 0.9910977\tbest: 0.9910977 (3700)\ttotal: 7m 34s\tremaining: 53m 51s\n",
      "3750:\ttest: 0.9910924\tbest: 0.9911040 (3727)\ttotal: 7m 40s\tremaining: 53m 44s\n",
      "3800:\ttest: 0.9911153\tbest: 0.9911159 (3799)\ttotal: 7m 46s\tremaining: 53m 36s\n",
      "3850:\ttest: 0.9911253\tbest: 0.9911254 (3846)\ttotal: 7m 52s\tremaining: 53m 30s\n",
      "3900:\ttest: 0.9911377\tbest: 0.9911377 (3900)\ttotal: 7m 58s\tremaining: 53m 23s\n",
      "3950:\ttest: 0.9911486\tbest: 0.9911489 (3945)\ttotal: 8m 4s\tremaining: 53m 16s\n",
      "4000:\ttest: 0.9911422\tbest: 0.9911563 (3976)\ttotal: 8m 10s\tremaining: 53m 8s\n",
      "4050:\ttest: 0.9911545\tbest: 0.9911563 (4024)\ttotal: 8m 16s\tremaining: 53m 1s\n",
      "4100:\ttest: 0.9912200\tbest: 0.9912208 (4092)\ttotal: 8m 22s\tremaining: 52m 54s\n",
      "4150:\ttest: 0.9912933\tbest: 0.9912938 (4140)\ttotal: 8m 28s\tremaining: 52m 47s\n",
      "4200:\ttest: 0.9912989\tbest: 0.9913018 (4186)\ttotal: 8m 34s\tremaining: 52m 41s\n",
      "4250:\ttest: 0.9913052\tbest: 0.9913067 (4219)\ttotal: 8m 40s\tremaining: 52m 34s\n",
      "4300:\ttest: 0.9913307\tbest: 0.9913307 (4300)\ttotal: 8m 46s\tremaining: 52m 27s\n",
      "4350:\ttest: 0.9913387\tbest: 0.9913504 (4332)\ttotal: 8m 52s\tremaining: 52m 20s\n",
      "4400:\ttest: 0.9913439\tbest: 0.9913742 (4391)\ttotal: 8m 58s\tremaining: 52m 13s\n",
      "4450:\ttest: 0.9913731\tbest: 0.9913880 (4424)\ttotal: 9m 4s\tremaining: 52m 6s\n",
      "4500:\ttest: 0.9913751\tbest: 0.9913880 (4424)\ttotal: 9m 10s\tremaining: 52m\n",
      "4550:\ttest: 0.9913849\tbest: 0.9913880 (4424)\ttotal: 9m 16s\tremaining: 51m 54s\n",
      "4600:\ttest: 0.9913701\tbest: 0.9913880 (4424)\ttotal: 9m 23s\tremaining: 51m 47s\n",
      "4650:\ttest: 0.9913866\tbest: 0.9913880 (4424)\ttotal: 9m 29s\tremaining: 51m 41s\n",
      "4700:\ttest: 0.9913908\tbest: 0.9913952 (4698)\ttotal: 9m 34s\tremaining: 51m 33s\n",
      "4750:\ttest: 0.9913970\tbest: 0.9914066 (4748)\ttotal: 9m 40s\tremaining: 51m 27s\n",
      "4800:\ttest: 0.9913906\tbest: 0.9914181 (4771)\ttotal: 9m 46s\tremaining: 51m 20s\n",
      "4850:\ttest: 0.9913970\tbest: 0.9914181 (4771)\ttotal: 9m 53s\tremaining: 51m 15s\n",
      "4900:\ttest: 0.9914137\tbest: 0.9914232 (4895)\ttotal: 9m 59s\tremaining: 51m 8s\n",
      "4950:\ttest: 0.9914282\tbest: 0.9914401 (4934)\ttotal: 10m 5s\tremaining: 51m 1s\n",
      "5000:\ttest: 0.9914397\tbest: 0.9914419 (4995)\ttotal: 10m 11s\tremaining: 50m 55s\n",
      "5050:\ttest: 0.9914433\tbest: 0.9914507 (5038)\ttotal: 10m 17s\tremaining: 50m 47s\n",
      "5100:\ttest: 0.9914453\tbest: 0.9914576 (5094)\ttotal: 10m 23s\tremaining: 50m 41s\n",
      "5150:\ttest: 0.9914225\tbest: 0.9914576 (5094)\ttotal: 10m 29s\tremaining: 50m 34s\n",
      "5200:\ttest: 0.9914230\tbest: 0.9914576 (5094)\ttotal: 10m 35s\tremaining: 50m 28s\n",
      "5250:\ttest: 0.9914447\tbest: 0.9914576 (5094)\ttotal: 10m 41s\tremaining: 50m 21s\n",
      "5300:\ttest: 0.9914442\tbest: 0.9914668 (5271)\ttotal: 10m 47s\tremaining: 50m 15s\n",
      "5350:\ttest: 0.9914542\tbest: 0.9914668 (5271)\ttotal: 10m 53s\tremaining: 50m 8s\n",
      "5400:\ttest: 0.9914572\tbest: 0.9914668 (5271)\ttotal: 10m 59s\tremaining: 50m 2s\n",
      "5450:\ttest: 0.9914585\tbest: 0.9914668 (5271)\ttotal: 11m 5s\tremaining: 49m 55s\n",
      "5500:\ttest: 0.9914643\tbest: 0.9914674 (5498)\ttotal: 11m 11s\tremaining: 49m 48s\n",
      "5550:\ttest: 0.9914628\tbest: 0.9914699 (5505)\ttotal: 11m 17s\tremaining: 49m 41s\n",
      "5600:\ttest: 0.9914815\tbest: 0.9914844 (5598)\ttotal: 11m 22s\tremaining: 49m 34s\n",
      "5650:\ttest: 0.9914825\tbest: 0.9914873 (5630)\ttotal: 11m 28s\tremaining: 49m 27s\n",
      "5700:\ttest: 0.9914851\tbest: 0.9914873 (5630)\ttotal: 11m 34s\tremaining: 49m 20s\n",
      "5750:\ttest: 0.9914693\tbest: 0.9914923 (5733)\ttotal: 11m 40s\tremaining: 49m 13s\n",
      "5800:\ttest: 0.9915002\tbest: 0.9915028 (5797)\ttotal: 11m 46s\tremaining: 49m 6s\n",
      "5850:\ttest: 0.9914933\tbest: 0.9915092 (5814)\ttotal: 11m 52s\tremaining: 49m\n",
      "5900:\ttest: 0.9914960\tbest: 0.9915092 (5814)\ttotal: 11m 58s\tremaining: 48m 53s\n",
      "5950:\ttest: 0.9915058\tbest: 0.9915092 (5814)\ttotal: 12m 4s\tremaining: 48m 46s\n",
      "6000:\ttest: 0.9915151\tbest: 0.9915151 (5992)\ttotal: 12m 10s\tremaining: 48m 39s\n",
      "6050:\ttest: 0.9915235\tbest: 0.9915246 (6024)\ttotal: 12m 16s\tremaining: 48m 33s\n",
      "6100:\ttest: 0.9915376\tbest: 0.9915380 (6098)\ttotal: 12m 21s\tremaining: 48m 26s\n",
      "6150:\ttest: 0.9915194\tbest: 0.9915414 (6125)\ttotal: 12m 27s\tremaining: 48m 19s\n",
      "6200:\ttest: 0.9915471\tbest: 0.9915471 (6198)\ttotal: 12m 33s\tremaining: 48m 12s\n",
      "6250:\ttest: 0.9915693\tbest: 0.9915738 (6244)\ttotal: 12m 39s\tremaining: 48m 6s\n",
      "6300:\ttest: 0.9915892\tbest: 0.9915892 (6298)\ttotal: 12m 45s\tremaining: 48m\n",
      "6350:\ttest: 0.9915891\tbest: 0.9915910 (6343)\ttotal: 12m 51s\tremaining: 47m 53s\n",
      "6400:\ttest: 0.9916025\tbest: 0.9916043 (6395)\ttotal: 12m 57s\tremaining: 47m 47s\n",
      "6450:\ttest: 0.9916067\tbest: 0.9916089 (6441)\ttotal: 13m 3s\tremaining: 47m 41s\n",
      "6500:\ttest: 0.9916155\tbest: 0.9916155 (6489)\ttotal: 13m 9s\tremaining: 47m 34s\n",
      "6550:\ttest: 0.9916097\tbest: 0.9916208 (6537)\ttotal: 13m 15s\tremaining: 47m 28s\n",
      "6600:\ttest: 0.9916132\tbest: 0.9916208 (6537)\ttotal: 13m 21s\tremaining: 47m 21s\n",
      "6650:\ttest: 0.9916251\tbest: 0.9916258 (6632)\ttotal: 13m 27s\tremaining: 47m 15s\n",
      "6700:\ttest: 0.9916403\tbest: 0.9916543 (6692)\ttotal: 13m 33s\tremaining: 47m 8s\n",
      "6750:\ttest: 0.9916624\tbest: 0.9916624 (6743)\ttotal: 13m 39s\tremaining: 47m 2s\n",
      "6800:\ttest: 0.9916542\tbest: 0.9916632 (6758)\ttotal: 13m 45s\tremaining: 46m 55s\n",
      "6850:\ttest: 0.9916495\tbest: 0.9916632 (6758)\ttotal: 13m 51s\tremaining: 46m 49s\n",
      "6900:\ttest: 0.9916551\tbest: 0.9916632 (6758)\ttotal: 13m 57s\tremaining: 46m 42s\n",
      "6950:\ttest: 0.9916638\tbest: 0.9916664 (6948)\ttotal: 14m 3s\tremaining: 46m 36s\n",
      "7000:\ttest: 0.9916624\tbest: 0.9916691 (6970)\ttotal: 14m 9s\tremaining: 46m 30s\n",
      "7050:\ttest: 0.9916611\tbest: 0.9916691 (6970)\ttotal: 14m 15s\tremaining: 46m 24s\n",
      "7100:\ttest: 0.9916753\tbest: 0.9916753 (7100)\ttotal: 14m 21s\tremaining: 46m 18s\n",
      "7150:\ttest: 0.9916969\tbest: 0.9916969 (7148)\ttotal: 14m 27s\tremaining: 46m 11s\n",
      "7200:\ttest: 0.9916998\tbest: 0.9916998 (7196)\ttotal: 14m 33s\tremaining: 46m 5s\n",
      "7250:\ttest: 0.9917032\tbest: 0.9917066 (7222)\ttotal: 14m 39s\tremaining: 45m 58s\n",
      "7300:\ttest: 0.9917072\tbest: 0.9917117 (7274)\ttotal: 14m 44s\tremaining: 45m 51s\n",
      "7350:\ttest: 0.9917054\tbest: 0.9917117 (7274)\ttotal: 14m 50s\tremaining: 45m 44s\n",
      "7400:\ttest: 0.9917062\tbest: 0.9917117 (7274)\ttotal: 14m 56s\tremaining: 45m 38s\n",
      "7450:\ttest: 0.9917086\tbest: 0.9917117 (7274)\ttotal: 15m 2s\tremaining: 45m 31s\n",
      "7500:\ttest: 0.9917289\tbest: 0.9917289 (7497)\ttotal: 15m 8s\tremaining: 45m 25s\n",
      "7550:\ttest: 0.9917198\tbest: 0.9917289 (7497)\ttotal: 15m 14s\tremaining: 45m 19s\n",
      "7600:\ttest: 0.9917351\tbest: 0.9917351 (7598)\ttotal: 15m 20s\tremaining: 45m 12s\n",
      "7650:\ttest: 0.9917421\tbest: 0.9917421 (7648)\ttotal: 15m 26s\tremaining: 45m 6s\n",
      "7700:\ttest: 0.9917475\tbest: 0.9917475 (7699)\ttotal: 15m 32s\tremaining: 45m\n",
      "7750:\ttest: 0.9917654\tbest: 0.9917661 (7730)\ttotal: 15m 38s\tremaining: 44m 54s\n",
      "7800:\ttest: 0.9917534\tbest: 0.9917676 (7756)\ttotal: 15m 44s\tremaining: 44m 47s\n",
      "7850:\ttest: 0.9917573\tbest: 0.9917726 (7820)\ttotal: 15m 50s\tremaining: 44m 41s\n",
      "7900:\ttest: 0.9917687\tbest: 0.9917726 (7820)\ttotal: 15m 56s\tremaining: 44m 36s\n",
      "7950:\ttest: 0.9917753\tbest: 0.9917796 (7931)\ttotal: 16m 2s\tremaining: 44m 29s\n",
      "8000:\ttest: 0.9917775\tbest: 0.9917904 (7991)\ttotal: 16m 8s\tremaining: 44m 23s\n",
      "8050:\ttest: 0.9917766\tbest: 0.9917904 (7991)\ttotal: 16m 14s\tremaining: 44m 17s\n",
      "8100:\ttest: 0.9917711\tbest: 0.9917904 (8082)\ttotal: 16m 20s\tremaining: 44m 11s\n",
      "8150:\ttest: 0.9917765\tbest: 0.9917904 (8082)\ttotal: 16m 26s\tremaining: 44m 5s\n",
      "8200:\ttest: 0.9917968\tbest: 0.9917968 (8200)\ttotal: 16m 32s\tremaining: 43m 58s\n",
      "8250:\ttest: 0.9917848\tbest: 0.9918020 (8234)\ttotal: 16m 38s\tremaining: 43m 51s\n",
      "8300:\ttest: 0.9918059\tbest: 0.9918078 (8293)\ttotal: 16m 44s\tremaining: 43m 45s\n",
      "8350:\ttest: 0.9918191\tbest: 0.9918287 (8343)\ttotal: 16m 50s\tremaining: 43m 38s\n",
      "8400:\ttest: 0.9918117\tbest: 0.9918287 (8343)\ttotal: 16m 56s\tremaining: 43m 32s\n",
      "8450:\ttest: 0.9918192\tbest: 0.9918287 (8343)\ttotal: 17m 2s\tremaining: 43m 27s\n",
      "8500:\ttest: 0.9918198\tbest: 0.9918287 (8343)\ttotal: 17m 8s\tremaining: 43m 22s\n",
      "8550:\ttest: 0.9918133\tbest: 0.9918287 (8343)\ttotal: 17m 15s\tremaining: 43m 16s\n",
      "8600:\ttest: 0.9918146\tbest: 0.9918287 (8343)\ttotal: 17m 21s\tremaining: 43m 11s\n",
      "8650:\ttest: 0.9918201\tbest: 0.9918314 (8645)\ttotal: 17m 27s\tremaining: 43m 6s\n",
      "8700:\ttest: 0.9918395\tbest: 0.9918395 (8698)\ttotal: 17m 34s\tremaining: 43m\n",
      "8750:\ttest: 0.9918434\tbest: 0.9918443 (8710)\ttotal: 17m 40s\tremaining: 42m 54s\n",
      "8800:\ttest: 0.9918429\tbest: 0.9918518 (8777)\ttotal: 17m 46s\tremaining: 42m 48s\n",
      "8850:\ttest: 0.9918579\tbest: 0.9918581 (8818)\ttotal: 17m 52s\tremaining: 42m 42s\n",
      "8900:\ttest: 0.9918440\tbest: 0.9918618 (8882)\ttotal: 17m 58s\tremaining: 42m 36s\n",
      "8950:\ttest: 0.9918530\tbest: 0.9918618 (8882)\ttotal: 18m 4s\tremaining: 42m 30s\n",
      "9000:\ttest: 0.9918598\tbest: 0.9918624 (8992)\ttotal: 18m 10s\tremaining: 42m 23s\n",
      "9050:\ttest: 0.9918620\tbest: 0.9918644 (9028)\ttotal: 18m 16s\tremaining: 42m 17s\n",
      "9100:\ttest: 0.9918537\tbest: 0.9918644 (9028)\ttotal: 18m 22s\tremaining: 42m 11s\n",
      "9150:\ttest: 0.9918557\tbest: 0.9918644 (9028)\ttotal: 18m 28s\tremaining: 42m 5s\n",
      "9200:\ttest: 0.9918558\tbest: 0.9918644 (9028)\ttotal: 18m 34s\tremaining: 41m 59s\n",
      "9250:\ttest: 0.9918546\tbest: 0.9918644 (9028)\ttotal: 18m 40s\tremaining: 41m 53s\n",
      "9300:\ttest: 0.9918544\tbest: 0.9918644 (9028)\ttotal: 18m 46s\tremaining: 41m 46s\n",
      "9350:\ttest: 0.9918760\tbest: 0.9918779 (9341)\ttotal: 18m 52s\tremaining: 41m 40s\n",
      "9400:\ttest: 0.9918720\tbest: 0.9918779 (9341)\ttotal: 18m 58s\tremaining: 41m 33s\n",
      "9450:\ttest: 0.9918764\tbest: 0.9918779 (9341)\ttotal: 19m 4s\tremaining: 41m 27s\n",
      "9500:\ttest: 0.9918780\tbest: 0.9918832 (9490)\ttotal: 19m 10s\tremaining: 41m 21s\n",
      "9550:\ttest: 0.9918792\tbest: 0.9918832 (9490)\ttotal: 19m 16s\tremaining: 41m 16s\n",
      "9600:\ttest: 0.9918848\tbest: 0.9918893 (9564)\ttotal: 19m 22s\tremaining: 41m 10s\n",
      "9650:\ttest: 0.9918932\tbest: 0.9918935 (9649)\ttotal: 19m 29s\tremaining: 41m 5s\n",
      "9700:\ttest: 0.9918977\tbest: 0.9919036 (9661)\ttotal: 19m 35s\tremaining: 40m 59s\n",
      "9750:\ttest: 0.9919132\tbest: 0.9919184 (9720)\ttotal: 19m 41s\tremaining: 40m 53s\n",
      "9800:\ttest: 0.9919321\tbest: 0.9919376 (9784)\ttotal: 19m 47s\tremaining: 40m 46s\n",
      "9850:\ttest: 0.9919484\tbest: 0.9919484 (9831)\ttotal: 19m 53s\tremaining: 40m 40s\n",
      "9900:\ttest: 0.9919359\tbest: 0.9919558 (9893)\ttotal: 19m 59s\tremaining: 40m 33s\n",
      "9950:\ttest: 0.9919549\tbest: 0.9919575 (9934)\ttotal: 20m 5s\tremaining: 40m 28s\n",
      "10000:\ttest: 0.9919587\tbest: 0.9919610 (9983)\ttotal: 20m 11s\tremaining: 40m 22s\n",
      "10050:\ttest: 0.9919473\tbest: 0.9919610 (9983)\ttotal: 20m 17s\tremaining: 40m 16s\n",
      "10100:\ttest: 0.9919476\tbest: 0.9919631 (10056)\ttotal: 20m 23s\tremaining: 40m 11s\n",
      "10150:\ttest: 0.9919570\tbest: 0.9919631 (10056)\ttotal: 20m 30s\tremaining: 40m 5s\n",
      "10200:\ttest: 0.9919671\tbest: 0.9919700 (10168)\ttotal: 20m 36s\tremaining: 40m\n",
      "10250:\ttest: 0.9919801\tbest: 0.9919801 (10245)\ttotal: 20m 42s\tremaining: 39m 54s\n",
      "10300:\ttest: 0.9919843\tbest: 0.9919843 (10300)\ttotal: 20m 48s\tremaining: 39m 48s\n",
      "10350:\ttest: 0.9919816\tbest: 0.9919845 (10309)\ttotal: 20m 54s\tremaining: 39m 42s\n",
      "10400:\ttest: 0.9920040\tbest: 0.9920040 (10386)\ttotal: 21m 1s\tremaining: 39m 36s\n",
      "10450:\ttest: 0.9919984\tbest: 0.9920140 (10431)\ttotal: 21m 7s\tremaining: 39m 30s\n",
      "10500:\ttest: 0.9919981\tbest: 0.9920140 (10431)\ttotal: 21m 13s\tremaining: 39m 24s\n",
      "10550:\ttest: 0.9919944\tbest: 0.9920140 (10431)\ttotal: 21m 19s\tremaining: 39m 17s\n",
      "10600:\ttest: 0.9919959\tbest: 0.9920140 (10431)\ttotal: 21m 25s\tremaining: 39m 11s\n",
      "10650:\ttest: 0.9920135\tbest: 0.9920215 (10623)\ttotal: 21m 31s\tremaining: 39m 5s\n",
      "10700:\ttest: 0.9920207\tbest: 0.9920295 (10674)\ttotal: 21m 37s\tremaining: 38m 59s\n",
      "10750:\ttest: 0.9919917\tbest: 0.9920295 (10674)\ttotal: 21m 43s\tremaining: 38m 53s\n",
      "10800:\ttest: 0.9919940\tbest: 0.9920295 (10674)\ttotal: 21m 49s\tremaining: 38m 47s\n",
      "10850:\ttest: 0.9919932\tbest: 0.9920295 (10674)\ttotal: 21m 55s\tremaining: 38m 41s\n",
      "10900:\ttest: 0.9919988\tbest: 0.9920295 (10674)\ttotal: 22m 1s\tremaining: 38m 34s\n",
      "10950:\ttest: 0.9920087\tbest: 0.9920295 (10674)\ttotal: 22m 7s\tremaining: 38m 28s\n",
      "bestTest = 0.9920295077\n",
      "bestIteration = 10674\n",
      "Shrink model to first 10675 iterations.\n",
      "save model\n",
      "val predict start\n"
     ]
    },
    {
     "name": "stderr",
     "output_type": "stream",
     "text": [
      "Training fold 3\n"
     ]
    },
    {
     "name": "stdout",
     "output_type": "stream",
     "text": [
      "loc\n",
      "group\n",
      "8862709 2237985\n",
      "model fit start\n",
      "categorical feature\n",
      "[]\n",
      "text feature\n",
      "[]\n"
     ]
    },
    {
     "name": "stderr",
     "output_type": "stream",
     "text": [
      "Default metric period is 5 because PFound is/are not implemented for GPU\n",
      "Metric PFound is not implemented on GPU. Will use CPU for metric computation, this could significantly affect learning time\n",
      "Metric PFound is not implemented on GPU. Will use CPU for metric computation, this could significantly affect learning time\n"
     ]
    },
    {
     "name": "stdout",
     "output_type": "stream",
     "text": [
      "0:\ttest: 0.9642190\tbest: 0.9642190 (0)\ttotal: 140ms\tremaining: 1h 10m 5s\n",
      "50:\ttest: 0.9837202\tbest: 0.9837202 (50)\ttotal: 6.01s\tremaining: 58m 47s\n",
      "100:\ttest: 0.9851174\tbest: 0.9851174 (100)\ttotal: 11.9s\tremaining: 58m 34s\n",
      "150:\ttest: 0.9862267\tbest: 0.9862267 (150)\ttotal: 17.8s\tremaining: 58m 46s\n",
      "200:\ttest: 0.9876047\tbest: 0.9876080 (199)\ttotal: 24s\tremaining: 59m 15s\n",
      "250:\ttest: 0.9877240\tbest: 0.9878042 (236)\ttotal: 30.1s\tremaining: 59m 32s\n",
      "300:\ttest: 0.9878477\tbest: 0.9878477 (300)\ttotal: 36.3s\tremaining: 59m 43s\n",
      "350:\ttest: 0.9881124\tbest: 0.9881124 (350)\ttotal: 42.5s\tremaining: 59m 46s\n",
      "400:\ttest: 0.9890184\tbest: 0.9890268 (367)\ttotal: 48.6s\tremaining: 59m 47s\n",
      "450:\ttest: 0.9891405\tbest: 0.9891405 (450)\ttotal: 54.8s\tremaining: 59m 52s\n",
      "500:\ttest: 0.9893986\tbest: 0.9893986 (500)\ttotal: 1m 1s\tremaining: 59m 53s\n",
      "550:\ttest: 0.9896206\tbest: 0.9897109 (540)\ttotal: 1m 7s\tremaining: 59m 49s\n",
      "600:\ttest: 0.9899139\tbest: 0.9899139 (600)\ttotal: 1m 13s\tremaining: 59m 41s\n",
      "650:\ttest: 0.9899936\tbest: 0.9899940 (649)\ttotal: 1m 19s\tremaining: 59m 31s\n",
      "700:\ttest: 0.9900514\tbest: 0.9900567 (698)\ttotal: 1m 25s\tremaining: 59m 21s\n",
      "750:\ttest: 0.9901107\tbest: 0.9901155 (739)\ttotal: 1m 31s\tremaining: 59m 9s\n",
      "800:\ttest: 0.9901312\tbest: 0.9901486 (788)\ttotal: 1m 37s\tremaining: 58m 58s\n",
      "850:\ttest: 0.9903237\tbest: 0.9903237 (850)\ttotal: 1m 42s\tremaining: 58m 45s\n",
      "900:\ttest: 0.9904591\tbest: 0.9904591 (900)\ttotal: 1m 48s\tremaining: 58m 36s\n",
      "950:\ttest: 0.9906322\tbest: 0.9906344 (949)\ttotal: 1m 54s\tremaining: 58m 25s\n",
      "1000:\ttest: 0.9906867\tbest: 0.9906867 (1000)\ttotal: 2m\tremaining: 58m 15s\n",
      "1050:\ttest: 0.9908441\tbest: 0.9908494 (1043)\ttotal: 2m 6s\tremaining: 58m 5s\n",
      "1100:\ttest: 0.9909214\tbest: 0.9909214 (1100)\ttotal: 2m 12s\tremaining: 57m 57s\n",
      "1150:\ttest: 0.9911588\tbest: 0.9911588 (1150)\ttotal: 2m 18s\tremaining: 57m 48s\n",
      "1200:\ttest: 0.9912184\tbest: 0.9912240 (1196)\ttotal: 2m 24s\tremaining: 57m 41s\n",
      "1250:\ttest: 0.9912941\tbest: 0.9912948 (1249)\ttotal: 2m 30s\tremaining: 57m 33s\n",
      "1300:\ttest: 0.9913259\tbest: 0.9913627 (1284)\ttotal: 2m 36s\tremaining: 57m 25s\n",
      "1350:\ttest: 0.9913266\tbest: 0.9913627 (1284)\ttotal: 2m 42s\tremaining: 57m 18s\n",
      "1400:\ttest: 0.9913344\tbest: 0.9913627 (1284)\ttotal: 2m 48s\tremaining: 57m 12s\n",
      "1450:\ttest: 0.9913741\tbest: 0.9914057 (1425)\ttotal: 2m 54s\tremaining: 57m 5s\n",
      "1500:\ttest: 0.9914139\tbest: 0.9914258 (1486)\ttotal: 3m\tremaining: 56m 59s\n",
      "1550:\ttest: 0.9914486\tbest: 0.9914509 (1548)\ttotal: 3m 6s\tremaining: 56m 52s\n",
      "1600:\ttest: 0.9914514\tbest: 0.9914539 (1599)\ttotal: 3m 12s\tremaining: 56m 46s\n",
      "1650:\ttest: 0.9914583\tbest: 0.9914666 (1628)\ttotal: 3m 18s\tremaining: 56m 41s\n",
      "1700:\ttest: 0.9915237\tbest: 0.9915359 (1691)\ttotal: 3m 24s\tremaining: 56m 36s\n",
      "1750:\ttest: 0.9916152\tbest: 0.9916178 (1749)\ttotal: 3m 30s\tremaining: 56m 32s\n",
      "1800:\ttest: 0.9916656\tbest: 0.9916656 (1800)\ttotal: 3m 36s\tremaining: 56m 27s\n",
      "1850:\ttest: 0.9916756\tbest: 0.9916756 (1850)\ttotal: 3m 42s\tremaining: 56m 22s\n",
      "1900:\ttest: 0.9917084\tbest: 0.9917084 (1900)\ttotal: 3m 48s\tremaining: 56m 17s\n",
      "1950:\ttest: 0.9917102\tbest: 0.9917183 (1946)\ttotal: 3m 54s\tremaining: 56m 14s\n",
      "2000:\ttest: 0.9917385\tbest: 0.9917385 (2000)\ttotal: 4m\tremaining: 56m 9s\n",
      "2050:\ttest: 0.9917677\tbest: 0.9917889 (2029)\ttotal: 4m 7s\tremaining: 56m 6s\n",
      "2100:\ttest: 0.9917746\tbest: 0.9917889 (2029)\ttotal: 4m 13s\tremaining: 56m 3s\n",
      "2150:\ttest: 0.9917840\tbest: 0.9917889 (2029)\ttotal: 4m 19s\tremaining: 55m 58s\n",
      "2200:\ttest: 0.9918161\tbest: 0.9918161 (2200)\ttotal: 4m 25s\tremaining: 55m 53s\n",
      "2250:\ttest: 0.9918359\tbest: 0.9918359 (2250)\ttotal: 4m 31s\tremaining: 55m 51s\n",
      "2300:\ttest: 0.9918309\tbest: 0.9918502 (2265)\ttotal: 4m 38s\tremaining: 55m 48s\n",
      "2350:\ttest: 0.9918860\tbest: 0.9918860 (2350)\ttotal: 4m 44s\tremaining: 55m 44s\n",
      "2400:\ttest: 0.9918984\tbest: 0.9919152 (2364)\ttotal: 4m 50s\tremaining: 55m 39s\n",
      "2450:\ttest: 0.9918636\tbest: 0.9919152 (2364)\ttotal: 4m 56s\tremaining: 55m 36s\n",
      "2500:\ttest: 0.9919000\tbest: 0.9919152 (2364)\ttotal: 5m 3s\tremaining: 55m 33s\n",
      "2550:\ttest: 0.9919115\tbest: 0.9919152 (2364)\ttotal: 5m 9s\tremaining: 55m 30s\n",
      "2600:\ttest: 0.9918915\tbest: 0.9919152 (2364)\ttotal: 5m 15s\tremaining: 55m 25s\n",
      "2650:\ttest: 0.9919173\tbest: 0.9919173 (2650)\ttotal: 5m 21s\tremaining: 55m 18s\n",
      "2700:\ttest: 0.9919625\tbest: 0.9919625 (2700)\ttotal: 5m 27s\tremaining: 55m 12s\n",
      "2750:\ttest: 0.9919598\tbest: 0.9919746 (2748)\ttotal: 5m 33s\tremaining: 55m 6s\n",
      "2800:\ttest: 0.9919569\tbest: 0.9919825 (2758)\ttotal: 5m 39s\tremaining: 55m\n",
      "2850:\ttest: 0.9919715\tbest: 0.9919825 (2758)\ttotal: 5m 45s\tremaining: 54m 54s\n",
      "2900:\ttest: 0.9919641\tbest: 0.9919844 (2866)\ttotal: 5m 52s\tremaining: 54m 48s\n",
      "2950:\ttest: 0.9919767\tbest: 0.9920093 (2928)\ttotal: 5m 58s\tremaining: 54m 42s\n",
      "3000:\ttest: 0.9919759\tbest: 0.9920093 (2928)\ttotal: 6m 4s\tremaining: 54m 36s\n",
      "3050:\ttest: 0.9920126\tbest: 0.9920276 (3033)\ttotal: 6m 10s\tremaining: 54m 30s\n",
      "3100:\ttest: 0.9920333\tbest: 0.9920333 (3099)\ttotal: 6m 16s\tremaining: 54m 24s\n",
      "3150:\ttest: 0.9920200\tbest: 0.9920363 (3106)\ttotal: 6m 22s\tremaining: 54m 19s\n",
      "3200:\ttest: 0.9919893\tbest: 0.9920363 (3106)\ttotal: 6m 28s\tremaining: 54m 13s\n",
      "3250:\ttest: 0.9919852\tbest: 0.9920363 (3106)\ttotal: 6m 34s\tremaining: 54m 8s\n",
      "3300:\ttest: 0.9920178\tbest: 0.9920363 (3106)\ttotal: 6m 40s\tremaining: 54m 2s\n",
      "3350:\ttest: 0.9920271\tbest: 0.9920363 (3106)\ttotal: 6m 47s\tremaining: 53m 56s\n",
      "3400:\ttest: 0.9920453\tbest: 0.9920472 (3378)\ttotal: 6m 53s\tremaining: 53m 50s\n",
      "3450:\ttest: 0.9920392\tbest: 0.9920472 (3378)\ttotal: 6m 59s\tremaining: 53m 45s\n",
      "3500:\ttest: 0.9920595\tbest: 0.9920616 (3483)\ttotal: 7m 5s\tremaining: 53m 39s\n",
      "3550:\ttest: 0.9920705\tbest: 0.9920868 (3531)\ttotal: 7m 11s\tremaining: 53m 33s\n",
      "3600:\ttest: 0.9920831\tbest: 0.9920868 (3531)\ttotal: 7m 17s\tremaining: 53m 27s\n",
      "3650:\ttest: 0.9920846\tbest: 0.9920878 (3622)\ttotal: 7m 23s\tremaining: 53m 22s\n",
      "3700:\ttest: 0.9921004\tbest: 0.9921004 (3700)\ttotal: 7m 29s\tremaining: 53m 16s\n",
      "3750:\ttest: 0.9921194\tbest: 0.9921212 (3739)\ttotal: 7m 36s\tremaining: 53m 11s\n",
      "3800:\ttest: 0.9921271\tbest: 0.9921272 (3797)\ttotal: 7m 42s\tremaining: 53m 6s\n",
      "3850:\ttest: 0.9921308\tbest: 0.9921367 (3841)\ttotal: 7m 48s\tremaining: 53m\n",
      "3900:\ttest: 0.9921399\tbest: 0.9921641 (3894)\ttotal: 7m 54s\tremaining: 52m 54s\n",
      "3950:\ttest: 0.9921506\tbest: 0.9921641 (3894)\ttotal: 8m\tremaining: 52m 48s\n",
      "4000:\ttest: 0.9921820\tbest: 0.9921826 (3979)\ttotal: 8m 6s\tremaining: 52m 44s\n",
      "4050:\ttest: 0.9921964\tbest: 0.9921964 (4044)\ttotal: 8m 13s\tremaining: 52m 38s\n",
      "4100:\ttest: 0.9921995\tbest: 0.9922016 (4073)\ttotal: 8m 19s\tremaining: 52m 32s\n",
      "4150:\ttest: 0.9922222\tbest: 0.9922222 (4148)\ttotal: 8m 25s\tremaining: 52m 27s\n",
      "4200:\ttest: 0.9922370\tbest: 0.9922380 (4195)\ttotal: 8m 31s\tremaining: 52m 22s\n",
      "4250:\ttest: 0.9922468\tbest: 0.9922527 (4207)\ttotal: 8m 37s\tremaining: 52m 16s\n",
      "4300:\ttest: 0.9922497\tbest: 0.9922531 (4293)\ttotal: 8m 44s\tremaining: 52m 11s\n",
      "4350:\ttest: 0.9922657\tbest: 0.9922696 (4342)\ttotal: 8m 50s\tremaining: 52m 5s\n",
      "4400:\ttest: 0.9922819\tbest: 0.9922820 (4399)\ttotal: 8m 56s\tremaining: 52m\n",
      "4450:\ttest: 0.9922820\tbest: 0.9922923 (4444)\ttotal: 9m 2s\tremaining: 51m 55s\n",
      "4500:\ttest: 0.9922783\tbest: 0.9922923 (4444)\ttotal: 9m 8s\tremaining: 51m 49s\n",
      "4550:\ttest: 0.9922925\tbest: 0.9922954 (4537)\ttotal: 9m 15s\tremaining: 51m 43s\n",
      "4600:\ttest: 0.9922985\tbest: 0.9923010 (4570)\ttotal: 9m 21s\tremaining: 51m 38s\n",
      "4650:\ttest: 0.9923006\tbest: 0.9923016 (4617)\ttotal: 9m 27s\tremaining: 51m 32s\n",
      "4700:\ttest: 0.9922973\tbest: 0.9923062 (4651)\ttotal: 9m 33s\tremaining: 51m 26s\n",
      "4750:\ttest: 0.9923068\tbest: 0.9923068 (4747)\ttotal: 9m 39s\tremaining: 51m 21s\n",
      "4800:\ttest: 0.9923048\tbest: 0.9923068 (4747)\ttotal: 9m 46s\tremaining: 51m 15s\n",
      "4850:\ttest: 0.9922977\tbest: 0.9923068 (4747)\ttotal: 9m 52s\tremaining: 51m 10s\n",
      "4900:\ttest: 0.9923059\tbest: 0.9923068 (4747)\ttotal: 9m 58s\tremaining: 51m 4s\n",
      "4950:\ttest: 0.9923264\tbest: 0.9923264 (4950)\ttotal: 10m 4s\tremaining: 50m 59s\n",
      "5000:\ttest: 0.9923190\tbest: 0.9923264 (4950)\ttotal: 10m 10s\tremaining: 50m 53s\n",
      "5050:\ttest: 0.9923337\tbest: 0.9923337 (5042)\ttotal: 10m 17s\tremaining: 50m 48s\n",
      "5100:\ttest: 0.9923320\tbest: 0.9923346 (5099)\ttotal: 10m 23s\tremaining: 50m 42s\n",
      "5150:\ttest: 0.9923453\tbest: 0.9923479 (5149)\ttotal: 10m 29s\tremaining: 50m 38s\n",
      "5200:\ttest: 0.9923622\tbest: 0.9923720 (5184)\ttotal: 10m 35s\tremaining: 50m 31s\n",
      "5250:\ttest: 0.9923540\tbest: 0.9923720 (5184)\ttotal: 10m 42s\tremaining: 50m 25s\n",
      "5300:\ttest: 0.9923777\tbest: 0.9923782 (5284)\ttotal: 10m 47s\tremaining: 50m 19s\n",
      "5350:\ttest: 0.9923820\tbest: 0.9923820 (5347)\ttotal: 10m 54s\tremaining: 50m 12s\n",
      "5400:\ttest: 0.9923795\tbest: 0.9923825 (5379)\ttotal: 11m\tremaining: 50m 7s\n",
      "5450:\ttest: 0.9923807\tbest: 0.9923825 (5379)\ttotal: 11m 6s\tremaining: 50m 1s\n",
      "5500:\ttest: 0.9923538\tbest: 0.9923832 (5453)\ttotal: 11m 12s\tremaining: 49m 54s\n",
      "5550:\ttest: 0.9923718\tbest: 0.9923832 (5453)\ttotal: 11m 18s\tremaining: 49m 48s\n",
      "5600:\ttest: 0.9923688\tbest: 0.9923832 (5453)\ttotal: 11m 24s\tremaining: 49m 42s\n",
      "5650:\ttest: 0.9923635\tbest: 0.9923832 (5453)\ttotal: 11m 30s\tremaining: 49m 36s\n",
      "5700:\ttest: 0.9923617\tbest: 0.9923832 (5453)\ttotal: 11m 36s\tremaining: 49m 29s\n",
      "5750:\ttest: 0.9923718\tbest: 0.9923832 (5453)\ttotal: 11m 42s\tremaining: 49m 22s\n",
      "bestTest = 0.9923831659\n",
      "bestIteration = 5453\n",
      "Shrink model to first 5454 iterations.\n",
      "save model\n",
      "val predict start\n"
     ]
    },
    {
     "name": "stderr",
     "output_type": "stream",
     "text": [
      "Training fold 4\n"
     ]
    },
    {
     "name": "stdout",
     "output_type": "stream",
     "text": [
      "loc\n",
      "group\n",
      "8881904 2218790\n",
      "model fit start\n",
      "categorical feature\n",
      "[]\n",
      "text feature\n",
      "[]\n"
     ]
    },
    {
     "name": "stderr",
     "output_type": "stream",
     "text": [
      "Default metric period is 5 because PFound is/are not implemented for GPU\n",
      "Metric PFound is not implemented on GPU. Will use CPU for metric computation, this could significantly affect learning time\n",
      "Metric PFound is not implemented on GPU. Will use CPU for metric computation, this could significantly affect learning time\n"
     ]
    },
    {
     "name": "stdout",
     "output_type": "stream",
     "text": [
      "0:\ttest: 0.9671547\tbest: 0.9671547 (0)\ttotal: 143ms\tremaining: 1h 11m 34s\n",
      "50:\ttest: 0.9839780\tbest: 0.9842924 (47)\ttotal: 6.12s\tremaining: 59m 56s\n",
      "100:\ttest: 0.9857977\tbest: 0.9857977 (100)\ttotal: 12.1s\tremaining: 59m 35s\n",
      "150:\ttest: 0.9871159\tbest: 0.9871620 (146)\ttotal: 18.1s\tremaining: 59m 39s\n",
      "200:\ttest: 0.9875475\tbest: 0.9875505 (198)\ttotal: 24.3s\tremaining: 1h 5s\n",
      "250:\ttest: 0.9876018\tbest: 0.9876229 (244)\ttotal: 30.5s\tremaining: 1h 19s\n",
      "300:\ttest: 0.9877631\tbest: 0.9877915 (296)\ttotal: 36.8s\tremaining: 1h 26s\n",
      "350:\ttest: 0.9880259\tbest: 0.9880279 (349)\ttotal: 43s\tremaining: 1h 29s\n",
      "400:\ttest: 0.9883704\tbest: 0.9883727 (396)\ttotal: 49.1s\tremaining: 1h 27s\n",
      "450:\ttest: 0.9886213\tbest: 0.9886213 (450)\ttotal: 55.3s\tremaining: 1h 25s\n",
      "500:\ttest: 0.9887285\tbest: 0.9887419 (493)\ttotal: 1m 1s\tremaining: 1h 18s\n",
      "550:\ttest: 0.9887866\tbest: 0.9887962 (512)\ttotal: 1m 7s\tremaining: 1h 9s\n",
      "600:\ttest: 0.9889331\tbest: 0.9889356 (588)\ttotal: 1m 13s\tremaining: 59m 59s\n",
      "650:\ttest: 0.9889688\tbest: 0.9889833 (639)\ttotal: 1m 19s\tremaining: 59m 48s\n",
      "700:\ttest: 0.9889960\tbest: 0.9890019 (695)\ttotal: 1m 25s\tremaining: 59m 35s\n",
      "750:\ttest: 0.9890055\tbest: 0.9890083 (732)\ttotal: 1m 31s\tremaining: 59m 20s\n",
      "800:\ttest: 0.9891005\tbest: 0.9891005 (800)\ttotal: 1m 37s\tremaining: 59m 7s\n",
      "850:\ttest: 0.9891457\tbest: 0.9891457 (850)\ttotal: 1m 43s\tremaining: 58m 56s\n",
      "900:\ttest: 0.9892312\tbest: 0.9892443 (898)\ttotal: 1m 49s\tremaining: 58m 48s\n",
      "950:\ttest: 0.9893425\tbest: 0.9893425 (950)\ttotal: 1m 55s\tremaining: 58m 41s\n",
      "1000:\ttest: 0.9894461\tbest: 0.9894478 (991)\ttotal: 2m 1s\tremaining: 58m 32s\n",
      "1050:\ttest: 0.9895852\tbest: 0.9895852 (1050)\ttotal: 2m 7s\tremaining: 58m 25s\n",
      "1100:\ttest: 0.9896944\tbest: 0.9896944 (1100)\ttotal: 2m 13s\tremaining: 58m 17s\n",
      "1150:\ttest: 0.9897853\tbest: 0.9897883 (1143)\ttotal: 2m 19s\tremaining: 58m 10s\n",
      "1200:\ttest: 0.9898095\tbest: 0.9898095 (1200)\ttotal: 2m 25s\tremaining: 58m 2s\n",
      "1250:\ttest: 0.9899039\tbest: 0.9899055 (1249)\ttotal: 2m 31s\tremaining: 57m 54s\n",
      "1300:\ttest: 0.9899538\tbest: 0.9899538 (1300)\ttotal: 2m 37s\tremaining: 57m 48s\n",
      "1350:\ttest: 0.9899984\tbest: 0.9899988 (1347)\ttotal: 2m 43s\tremaining: 57m 41s\n",
      "1400:\ttest: 0.9900657\tbest: 0.9900657 (1400)\ttotal: 2m 49s\tremaining: 57m 34s\n",
      "1450:\ttest: 0.9900756\tbest: 0.9900856 (1430)\ttotal: 2m 55s\tremaining: 57m 29s\n",
      "1500:\ttest: 0.9901131\tbest: 0.9901131 (1500)\ttotal: 3m 1s\tremaining: 57m 23s\n",
      "1550:\ttest: 0.9901436\tbest: 0.9901514 (1537)\ttotal: 3m 7s\tremaining: 57m 19s\n",
      "1600:\ttest: 0.9901804\tbest: 0.9901824 (1577)\ttotal: 3m 13s\tremaining: 57m 15s\n",
      "1650:\ttest: 0.9902476\tbest: 0.9902476 (1650)\ttotal: 3m 19s\tremaining: 57m 12s\n",
      "1700:\ttest: 0.9903270\tbest: 0.9903298 (1698)\ttotal: 3m 26s\tremaining: 57m 7s\n",
      "1750:\ttest: 0.9903827\tbest: 0.9903860 (1748)\ttotal: 3m 32s\tremaining: 57m 4s\n",
      "1800:\ttest: 0.9904215\tbest: 0.9904223 (1791)\ttotal: 3m 38s\tremaining: 57m 1s\n",
      "1850:\ttest: 0.9904210\tbest: 0.9904223 (1791)\ttotal: 3m 44s\tremaining: 56m 56s\n",
      "1900:\ttest: 0.9904475\tbest: 0.9904495 (1885)\ttotal: 3m 50s\tremaining: 56m 52s\n",
      "1950:\ttest: 0.9904643\tbest: 0.9904701 (1946)\ttotal: 3m 57s\tremaining: 56m 48s\n",
      "2000:\ttest: 0.9904805\tbest: 0.9905015 (1998)\ttotal: 4m 3s\tremaining: 56m 44s\n",
      "2050:\ttest: 0.9905394\tbest: 0.9905410 (2045)\ttotal: 4m 9s\tremaining: 56m 40s\n",
      "2100:\ttest: 0.9905676\tbest: 0.9905676 (2098)\ttotal: 4m 15s\tremaining: 56m 34s\n",
      "2150:\ttest: 0.9905592\tbest: 0.9905738 (2110)\ttotal: 4m 21s\tremaining: 56m 30s\n",
      "2200:\ttest: 0.9905701\tbest: 0.9905738 (2110)\ttotal: 4m 28s\tremaining: 56m 25s\n",
      "2250:\ttest: 0.9905634\tbest: 0.9905929 (2227)\ttotal: 4m 34s\tremaining: 56m 20s\n",
      "2300:\ttest: 0.9905887\tbest: 0.9905955 (2265)\ttotal: 4m 40s\tremaining: 56m 15s\n",
      "2350:\ttest: 0.9906118\tbest: 0.9906270 (2343)\ttotal: 4m 46s\tremaining: 56m 10s\n",
      "2400:\ttest: 0.9906057\tbest: 0.9906270 (2355)\ttotal: 4m 52s\tremaining: 56m 4s\n",
      "2450:\ttest: 0.9906177\tbest: 0.9906270 (2355)\ttotal: 4m 58s\tremaining: 55m 59s\n",
      "2500:\ttest: 0.9906573\tbest: 0.9906573 (2500)\ttotal: 5m 5s\tremaining: 55m 55s\n",
      "2550:\ttest: 0.9906170\tbest: 0.9906595 (2504)\ttotal: 5m 11s\tremaining: 55m 49s\n",
      "2600:\ttest: 0.9906344\tbest: 0.9906595 (2504)\ttotal: 5m 17s\tremaining: 55m 44s\n",
      "2650:\ttest: 0.9906595\tbest: 0.9906595 (2649)\ttotal: 5m 23s\tremaining: 55m 38s\n",
      "2700:\ttest: 0.9906857\tbest: 0.9906928 (2689)\ttotal: 5m 29s\tremaining: 55m 32s\n",
      "2750:\ttest: 0.9906711\tbest: 0.9906941 (2715)\ttotal: 5m 35s\tremaining: 55m 23s\n",
      "2800:\ttest: 0.9906662\tbest: 0.9906973 (2766)\ttotal: 5m 41s\tremaining: 55m 15s\n",
      "2850:\ttest: 0.9906830\tbest: 0.9906973 (2766)\ttotal: 5m 47s\tremaining: 55m 8s\n",
      "2900:\ttest: 0.9906991\tbest: 0.9907147 (2885)\ttotal: 5m 53s\tremaining: 55m\n",
      "2950:\ttest: 0.9907306\tbest: 0.9907349 (2944)\ttotal: 5m 59s\tremaining: 54m 51s\n",
      "3000:\ttest: 0.9907465\tbest: 0.9907551 (2968)\ttotal: 6m 5s\tremaining: 54m 43s\n",
      "3050:\ttest: 0.9907428\tbest: 0.9907551 (2968)\ttotal: 6m 10s\tremaining: 54m 35s\n",
      "3100:\ttest: 0.9907531\tbest: 0.9907598 (3099)\ttotal: 6m 16s\tremaining: 54m 28s\n",
      "3150:\ttest: 0.9907472\tbest: 0.9907599 (3144)\ttotal: 6m 22s\tremaining: 54m 20s\n",
      "3200:\ttest: 0.9907763\tbest: 0.9907763 (3200)\ttotal: 6m 28s\tremaining: 54m 14s\n",
      "3250:\ttest: 0.9907661\tbest: 0.9907897 (3214)\ttotal: 6m 34s\tremaining: 54m 8s\n",
      "3300:\ttest: 0.9907706\tbest: 0.9907897 (3214)\ttotal: 6m 40s\tremaining: 54m 1s\n",
      "3350:\ttest: 0.9907831\tbest: 0.9907897 (3214)\ttotal: 6m 46s\tremaining: 53m 55s\n",
      "3400:\ttest: 0.9907997\tbest: 0.9908105 (3367)\ttotal: 6m 52s\tremaining: 53m 49s\n",
      "3450:\ttest: 0.9908123\tbest: 0.9908145 (3444)\ttotal: 6m 59s\tremaining: 53m 45s\n",
      "3500:\ttest: 0.9908334\tbest: 0.9908334 (3500)\ttotal: 7m 5s\tremaining: 53m 41s\n",
      "3550:\ttest: 0.9908360\tbest: 0.9908367 (3547)\ttotal: 7m 11s\tremaining: 53m 36s\n",
      "3600:\ttest: 0.9908663\tbest: 0.9908663 (3599)\ttotal: 7m 18s\tremaining: 53m 31s\n",
      "3650:\ttest: 0.9908564\tbest: 0.9908673 (3616)\ttotal: 7m 24s\tremaining: 53m 26s\n",
      "3700:\ttest: 0.9908497\tbest: 0.9908673 (3616)\ttotal: 7m 30s\tremaining: 53m 21s\n",
      "3750:\ttest: 0.9908668\tbest: 0.9908709 (3746)\ttotal: 7m 36s\tremaining: 53m 16s\n",
      "3800:\ttest: 0.9908692\tbest: 0.9908709 (3746)\ttotal: 7m 42s\tremaining: 53m 10s\n",
      "3850:\ttest: 0.9908716\tbest: 0.9908785 (3842)\ttotal: 7m 49s\tremaining: 53m 4s\n",
      "3900:\ttest: 0.9908835\tbest: 0.9908907 (3894)\ttotal: 7m 55s\tremaining: 52m 58s\n",
      "3950:\ttest: 0.9909058\tbest: 0.9909069 (3947)\ttotal: 8m 1s\tremaining: 52m 53s\n",
      "4000:\ttest: 0.9908986\tbest: 0.9909069 (3947)\ttotal: 8m 7s\tremaining: 52m 47s\n",
      "4050:\ttest: 0.9909064\tbest: 0.9909069 (4036)\ttotal: 8m 13s\tremaining: 52m 41s\n",
      "4100:\ttest: 0.9909355\tbest: 0.9909361 (4098)\ttotal: 8m 19s\tremaining: 52m 36s\n",
      "4150:\ttest: 0.9909025\tbest: 0.9909361 (4098)\ttotal: 8m 25s\tremaining: 52m 30s\n",
      "4200:\ttest: 0.9908874\tbest: 0.9909361 (4098)\ttotal: 8m 32s\tremaining: 52m 24s\n",
      "4250:\ttest: 0.9908805\tbest: 0.9909361 (4098)\ttotal: 8m 38s\tremaining: 52m 18s\n",
      "4300:\ttest: 0.9908800\tbest: 0.9909361 (4098)\ttotal: 8m 44s\tremaining: 52m 12s\n",
      "4350:\ttest: 0.9908880\tbest: 0.9909361 (4098)\ttotal: 8m 50s\tremaining: 52m 6s\n",
      "bestTest = 0.9909361007\n",
      "bestIteration = 4098\n",
      "Shrink model to first 4099 iterations.\n",
      "save model\n",
      "val predict start\n"
     ]
    },
    {
     "name": "stderr",
     "output_type": "stream",
     "text": [
      "Training fold 5\n"
     ]
    },
    {
     "name": "stdout",
     "output_type": "stream",
     "text": [
      "loc\n",
      "group\n",
      "8897273 2203421\n",
      "model fit start\n",
      "categorical feature\n",
      "[]\n",
      "text feature\n",
      "[]\n"
     ]
    },
    {
     "name": "stderr",
     "output_type": "stream",
     "text": [
      "Default metric period is 5 because PFound is/are not implemented for GPU\n",
      "Metric PFound is not implemented on GPU. Will use CPU for metric computation, this could significantly affect learning time\n",
      "Metric PFound is not implemented on GPU. Will use CPU for metric computation, this could significantly affect learning time\n"
     ]
    },
    {
     "name": "stdout",
     "output_type": "stream",
     "text": [
      "0:\ttest: 0.9634277\tbest: 0.9634277 (0)\ttotal: 137ms\tremaining: 1h 8m 31s\n",
      "50:\ttest: 0.9843757\tbest: 0.9843757 (50)\ttotal: 6.02s\tremaining: 58m 58s\n",
      "100:\ttest: 0.9856767\tbest: 0.9857529 (96)\ttotal: 11.9s\tremaining: 58m 41s\n",
      "150:\ttest: 0.9875177\tbest: 0.9875177 (150)\ttotal: 17.9s\tremaining: 58m 51s\n",
      "200:\ttest: 0.9878623\tbest: 0.9878633 (198)\ttotal: 24s\tremaining: 59m 23s\n",
      "250:\ttest: 0.9881393\tbest: 0.9881393 (250)\ttotal: 30.2s\tremaining: 59m 34s\n",
      "300:\ttest: 0.9880731\tbest: 0.9881715 (281)\ttotal: 36.3s\tremaining: 59m 45s\n",
      "350:\ttest: 0.9887791\tbest: 0.9887791 (350)\ttotal: 42.5s\tremaining: 59m 48s\n",
      "400:\ttest: 0.9888977\tbest: 0.9889194 (393)\ttotal: 48.6s\tremaining: 59m 50s\n",
      "450:\ttest: 0.9889421\tbest: 0.9889447 (449)\ttotal: 54.8s\tremaining: 59m 51s\n",
      "500:\ttest: 0.9890182\tbest: 0.9890201 (479)\ttotal: 1m\tremaining: 59m 47s\n",
      "550:\ttest: 0.9890300\tbest: 0.9890326 (548)\ttotal: 1m 7s\tremaining: 59m 43s\n",
      "600:\ttest: 0.9890709\tbest: 0.9890791 (585)\ttotal: 1m 13s\tremaining: 59m 35s\n",
      "650:\ttest: 0.9892374\tbest: 0.9892374 (650)\ttotal: 1m 19s\tremaining: 59m 25s\n",
      "700:\ttest: 0.9892769\tbest: 0.9892786 (694)\ttotal: 1m 25s\tremaining: 59m 14s\n",
      "750:\ttest: 0.9892989\tbest: 0.9892989 (750)\ttotal: 1m 31s\tremaining: 59m 7s\n",
      "800:\ttest: 0.9893911\tbest: 0.9893911 (800)\ttotal: 1m 37s\tremaining: 58m 56s\n",
      "850:\ttest: 0.9895054\tbest: 0.9895129 (846)\ttotal: 1m 42s\tremaining: 58m 47s\n",
      "900:\ttest: 0.9896395\tbest: 0.9896395 (900)\ttotal: 1m 48s\tremaining: 58m 38s\n",
      "950:\ttest: 0.9897595\tbest: 0.9897645 (942)\ttotal: 1m 54s\tremaining: 58m 30s\n",
      "1000:\ttest: 0.9898869\tbest: 0.9898869 (1000)\ttotal: 2m\tremaining: 58m 22s\n",
      "1050:\ttest: 0.9899714\tbest: 0.9899714 (1050)\ttotal: 2m 6s\tremaining: 58m 15s\n",
      "1100:\ttest: 0.9900786\tbest: 0.9900807 (1099)\ttotal: 2m 13s\tremaining: 58m 12s\n",
      "1150:\ttest: 0.9901862\tbest: 0.9901862 (1149)\ttotal: 2m 19s\tremaining: 58m 10s\n",
      "1200:\ttest: 0.9902467\tbest: 0.9902482 (1196)\ttotal: 2m 25s\tremaining: 58m 6s\n",
      "1250:\ttest: 0.9903156\tbest: 0.9903157 (1249)\ttotal: 2m 31s\tremaining: 58m 1s\n",
      "1300:\ttest: 0.9903185\tbest: 0.9903315 (1273)\ttotal: 2m 37s\tremaining: 57m 54s\n",
      "1350:\ttest: 0.9903629\tbest: 0.9903629 (1350)\ttotal: 2m 43s\tremaining: 57m 46s\n",
      "1400:\ttest: 0.9904091\tbest: 0.9904132 (1399)\ttotal: 2m 49s\tremaining: 57m 40s\n",
      "1450:\ttest: 0.9905037\tbest: 0.9905044 (1444)\ttotal: 2m 55s\tremaining: 57m 36s\n",
      "1500:\ttest: 0.9905814\tbest: 0.9905818 (1497)\ttotal: 3m 1s\tremaining: 57m 34s\n",
      "1550:\ttest: 0.9907131\tbest: 0.9907197 (1548)\ttotal: 3m 8s\tremaining: 57m 30s\n",
      "1600:\ttest: 0.9907718\tbest: 0.9907831 (1594)\ttotal: 3m 14s\tremaining: 57m 26s\n",
      "1650:\ttest: 0.9908286\tbest: 0.9908299 (1634)\ttotal: 3m 20s\tremaining: 57m 21s\n",
      "1700:\ttest: 0.9908586\tbest: 0.9908586 (1700)\ttotal: 3m 26s\tremaining: 57m 17s\n",
      "1750:\ttest: 0.9908695\tbest: 0.9908721 (1749)\ttotal: 3m 32s\tremaining: 57m 13s\n",
      "1800:\ttest: 0.9909414\tbest: 0.9909414 (1800)\ttotal: 3m 39s\tremaining: 57m 9s\n",
      "1850:\ttest: 0.9909709\tbest: 0.9909807 (1833)\ttotal: 3m 45s\tremaining: 57m 4s\n",
      "1900:\ttest: 0.9909825\tbest: 0.9909858 (1883)\ttotal: 3m 51s\tremaining: 57m 1s\n",
      "1950:\ttest: 0.9909959\tbest: 0.9910016 (1944)\ttotal: 3m 57s\tremaining: 56m 57s\n",
      "2000:\ttest: 0.9910532\tbest: 0.9910540 (1999)\ttotal: 4m 3s\tremaining: 56m 52s\n",
      "2050:\ttest: 0.9910982\tbest: 0.9910982 (2048)\ttotal: 4m 10s\tremaining: 56m 49s\n",
      "2100:\ttest: 0.9911151\tbest: 0.9911211 (2082)\ttotal: 4m 16s\tremaining: 56m 45s\n",
      "2150:\ttest: 0.9911567\tbest: 0.9911572 (2149)\ttotal: 4m 22s\tremaining: 56m 41s\n",
      "2200:\ttest: 0.9911600\tbest: 0.9911711 (2164)\ttotal: 4m 28s\tremaining: 56m 36s\n",
      "2250:\ttest: 0.9911658\tbest: 0.9911711 (2164)\ttotal: 4m 35s\tremaining: 56m 30s\n",
      "2300:\ttest: 0.9912247\tbest: 0.9912285 (2298)\ttotal: 4m 41s\tremaining: 56m 24s\n",
      "2350:\ttest: 0.9912116\tbest: 0.9912285 (2298)\ttotal: 4m 47s\tremaining: 56m 18s\n",
      "2400:\ttest: 0.9912012\tbest: 0.9912285 (2298)\ttotal: 4m 53s\tremaining: 56m 12s\n",
      "2450:\ttest: 0.9912195\tbest: 0.9912285 (2298)\ttotal: 4m 59s\tremaining: 56m 5s\n",
      "2500:\ttest: 0.9912664\tbest: 0.9912679 (2496)\ttotal: 5m 5s\tremaining: 55m 57s\n",
      "2550:\ttest: 0.9912934\tbest: 0.9913033 (2546)\ttotal: 5m 11s\tremaining: 55m 51s\n",
      "2600:\ttest: 0.9913052\tbest: 0.9913116 (2581)\ttotal: 5m 17s\tremaining: 55m 45s\n",
      "2650:\ttest: 0.9913029\tbest: 0.9913116 (2581)\ttotal: 5m 23s\tremaining: 55m 42s\n",
      "2700:\ttest: 0.9913315\tbest: 0.9913317 (2695)\ttotal: 5m 30s\tremaining: 55m 38s\n",
      "2750:\ttest: 0.9913463\tbest: 0.9913608 (2730)\ttotal: 5m 36s\tremaining: 55m 34s\n",
      "2800:\ttest: 0.9913581\tbest: 0.9913664 (2795)\ttotal: 5m 42s\tremaining: 55m 30s\n",
      "2850:\ttest: 0.9913633\tbest: 0.9913735 (2839)\ttotal: 5m 49s\tremaining: 55m 25s\n",
      "2900:\ttest: 0.9913974\tbest: 0.9913974 (2899)\ttotal: 5m 55s\tremaining: 55m 21s\n",
      "2950:\ttest: 0.9914226\tbest: 0.9914250 (2930)\ttotal: 6m 1s\tremaining: 55m 16s\n",
      "3000:\ttest: 0.9913851\tbest: 0.9914439 (2970)\ttotal: 6m 8s\tremaining: 55m 12s\n",
      "3050:\ttest: 0.9914084\tbest: 0.9914439 (2970)\ttotal: 6m 14s\tremaining: 55m 8s\n",
      "3100:\ttest: 0.9913949\tbest: 0.9914439 (2970)\ttotal: 6m 20s\tremaining: 55m 3s\n",
      "3150:\ttest: 0.9914008\tbest: 0.9914439 (2970)\ttotal: 6m 27s\tremaining: 54m 58s\n",
      "3200:\ttest: 0.9913737\tbest: 0.9914439 (2970)\ttotal: 6m 33s\tremaining: 54m 53s\n",
      "3250:\ttest: 0.9913944\tbest: 0.9914439 (2970)\ttotal: 6m 39s\tremaining: 54m 47s\n",
      "bestTest = 0.9914439042\n",
      "bestIteration = 2970\n",
      "Shrink model to first 2971 iterations.\n",
      "save model\n",
      "val predict start\n"
     ]
    }
   ],
   "source": [
    "oof  = train(train_df, num_cols)"
   ]
  },
  {
   "cell_type": "code",
   "execution_count": 34,
   "metadata": {},
   "outputs": [
    {
     "data": {
      "text/plain": [
       "0"
      ]
     },
     "execution_count": 34,
     "metadata": {},
     "output_type": "execute_result"
    }
   ],
   "source": [
    "del train_df\n",
    "gc.collect()"
   ]
  },
  {
   "cell_type": "markdown",
   "metadata": {},
   "source": [
    "## inference"
   ]
  },
  {
   "cell_type": "code",
   "execution_count": 35,
   "metadata": {},
   "outputs": [
    {
     "name": "stdout",
     "output_type": "stream",
     "text": [
      "yad_type                                       0\n",
      "total_room_cnt                            276004\n",
      "wireless_lan_flg                               0\n",
      "onsen_flg                                      0\n",
      "kd_stn_5min                                    0\n",
      "                                           ...  \n",
      "last_item_clustering_sep_train_test            0\n",
      "yad_no_clustering_sep_train_test               0\n",
      "clustering_diff_sep_train_test                 0\n",
      "path_length_sep_train_test                     0\n",
      "cos_sim_sep_train_test_prone_last_item         0\n",
      "Length: 198, dtype: int64\n"
     ]
    }
   ],
   "source": [
    "test_df = pd.read_pickle(f'../../outputs/atmacup_16/{CFG.feature_notebook_name}/feature_pkl/test_df.pkl')\n",
    "\n",
    "# test_df[num_cols] = reduce_mem_usage(test_df[num_cols])\n",
    "gc.collect()\n",
    "\n",
    "# del_col = ['sml_cd', 'lrg_cd', 'sml_cd_last_item', 'lrg_cd_last_item', 'candidate_name']\n",
    "del_col = ['sml_cd', 'lrg_cd', 'sml_cd_last_item', 'lrg_cd_last_item']\n",
    "\n",
    "if del_flg:\n",
    "    print('del_col')\n",
    "    test_df.drop(del_col, axis=1, inplace=True)\n",
    "    gc.collect()\n",
    "\n",
    "test_null_df = test_df[num_cols].isnull().sum()\n",
    "print(test_null_df)\n",
    "test_null_df.to_csv(CFG.outputs_path + 'test_null.csv')"
   ]
  },
  {
   "cell_type": "code",
   "execution_count": 36,
   "metadata": {},
   "outputs": [
    {
     "name": "stderr",
     "output_type": "stream",
     "text": [
      "inference fold 1\n",
      "inference fold 2\n",
      "inference fold 3\n",
      "inference fold 4\n",
      "inference fold 5\n"
     ]
    }
   ],
   "source": [
    "sub_oof = inference(test_df, num_cols)"
   ]
  },
  {
   "cell_type": "code",
   "execution_count": 37,
   "metadata": {},
   "outputs": [
    {
     "data": {
      "text/plain": [
       "0"
      ]
     },
     "execution_count": 37,
     "metadata": {},
     "output_type": "execute_result"
    }
   ],
   "source": [
    "del test_df\n",
    "gc.collect()"
   ]
  },
  {
   "cell_type": "code",
   "execution_count": 38,
   "metadata": {},
   "outputs": [],
   "source": [
    "sub_oof.rename(columns={CFG.target_col: 'pred_0'}, inplace=True)"
   ]
  },
  {
   "cell_type": "code",
   "execution_count": 39,
   "metadata": {},
   "outputs": [
    {
     "data": {
      "image/png": "[encoded data removed]",
      "text/plain": [
       "<Figure size 640x480 with 1 Axes>"
      ]
     },
     "metadata": {},
     "output_type": "display_data"
    }
   ],
   "source": [
    "plt.hist(oof['pred_0'], density=True, alpha=0.5, label='oof', bins=20)\n",
    "plt.hist(sub_oof['pred_0'], density=True, alpha=0.5, label='sub', bins=20)\n",
    "\n",
    "plt.legend()\n",
    "plt.show()"
   ]
  },
  {
   "cell_type": "code",
   "execution_count": 40,
   "metadata": {},
   "outputs": [],
   "source": [
    "# sub_oof['session_id'] = test_df['session_id']\n",
    "# sub_oof['yad_no'] = test_df['yad_no']"
   ]
  },
  {
   "cell_type": "markdown",
   "metadata": {},
   "source": [
    "## 2stage用に残すもの  \n",
    "\n",
    "最初にロードしたときのdfにあるcolumns \n",
    "\n",
    "past_itemのrank  \n",
    "fold  \n",
    "candidate_name  \n",
    "pred (全部保存して、Rerankのときにsort→topkする)"
   ]
  },
  {
   "cell_type": "code",
   "execution_count": 41,
   "metadata": {},
   "outputs": [],
   "source": [
    "remain_cols = ['session_id', 'yad_no',\t'rank_past_item',\t'candidate_name_num',\n",
    "               'fold', 'pred_0', 'is_duplicated'] + list(set(['target', CFG.target_col]))\n",
    "output_dir = CFG.outputs_path + 'oof/'\n",
    "os.makedirs(output_dir, exist_ok=True)\n",
    "oof = oof[remain_cols]\n",
    "oof.to_pickle(output_dir + 'oof.pkl')\n",
    "\n",
    "remain_cols = ['session_id', 'yad_no',\t'rank_past_item',\t'candidate_name_num',\n",
    "               'pred_0']\n",
    "\n",
    "sub_oof = sub_oof[remain_cols]\n",
    "sub_oof[remain_cols].to_pickle(output_dir + 'sub_oof.pkl')"
   ]
  },
  {
   "cell_type": "markdown",
   "metadata": {},
   "source": [
    "## sort"
   ]
  },
  {
   "cell_type": "code",
   "execution_count": 42,
   "metadata": {},
   "outputs": [],
   "source": [
    "# use_cols = [col for col in oof.columns if col not in num_cols]\n",
    "# oof = oof[use_cols]"
   ]
  },
  {
   "cell_type": "code",
   "execution_count": 43,
   "metadata": {},
   "outputs": [],
   "source": [
    "# use_cols = [col for col in sub_oof.columns if col not in num_cols]\n",
    "# sub_oof = sub_oof[use_cols]"
   ]
  },
  {
   "cell_type": "code",
   "execution_count": 44,
   "metadata": {},
   "outputs": [],
   "source": [
    "oof = oof.sort_values(['session_id', 'pred_0'], ascending=[True, False]).reset_index(drop=True)\n",
    "sub_oof = sub_oof.sort_values(['session_id', 'pred_0'], ascending=[True, False]).reset_index(drop=True)\n",
    "\n",
    "# oof = oof.sort_values(['session_id', 'candidate_name_rank', 'pred_0'], ascending=[True, True, False]).reset_index(drop=True)\n",
    "# sub_oof = sub_oof.sort_values(['session_id', 'candidate_name_rank', 'pred_0'], ascending=[True, True, False]).reset_index(drop=True)"
   ]
  },
  {
   "cell_type": "code",
   "execution_count": 45,
   "metadata": {},
   "outputs": [],
   "source": [
    "def session_to_pred_list(session_df: pd.DataFrame, session_only_df: pd.DataFrame):\n",
    "    pred_df = session_df.groupby('session_id')['yad_no'].apply(lambda x: x.tolist()).reset_index()\n",
    "    pred_df = pd.merge(session_only_df, pred_df, on='session_id', how='left')\n",
    "\n",
    "    pred_df['yad_no'] = pred_df['yad_no'].apply(lambda d: d if isinstance(d, list) else [])\n",
    "\n",
    "    return pred_df['yad_no'].to_list()"
   ]
  },
  {
   "cell_type": "code",
   "execution_count": 46,
   "metadata": {},
   "outputs": [],
   "source": [
    "train_pred_list = session_to_pred_list(oof, train_session_only_df)\n",
    "test_pred_list = session_to_pred_list(sub_oof, test_session_only_df)"
   ]
  },
  {
   "cell_type": "code",
   "execution_count": 47,
   "metadata": {},
   "outputs": [],
   "source": [
    "train_pred_list = [list(dict.fromkeys(pred)) for pred in train_pred_list]\n",
    "test_pred_list = [list(dict.fromkeys(pred)) for pred in test_pred_list]"
   ]
  },
  {
   "cell_type": "code",
   "execution_count": 48,
   "metadata": {},
   "outputs": [
    {
     "name": "stderr",
     "output_type": "stream",
     "text": [
      "map10: 0.40997202327208077\n"
     ]
    }
   ],
   "source": [
    "map_10 = mapk(train_label_df['yad_no'].to_list(), train_pred_list, k=10)\n",
    "Logger.info(f'map10: {map_10}')"
   ]
  },
  {
   "cell_type": "code",
   "execution_count": 49,
   "metadata": {},
   "outputs": [],
   "source": [
    "def make_submission(test_pred_list):\n",
    "    results = []\n",
    "    cnts = []\n",
    "    for pred in test_pred_list:\n",
    "        \n",
    "        pred = pred[:10]\n",
    "        # print(pred)\n",
    "        # pred = [int(p) for p in pred]\n",
    "        \n",
    "        cnt = len(pred)\n",
    "        cnts.append(cnt)\n",
    "        if cnt != 10:\n",
    "            pred.extend([0] * (10 - cnt))\n",
    "        results.append(pred)\n",
    "    \n",
    "    columns = [f'predict_{i}' for i in range(10)]\n",
    "    submission = pd.DataFrame(results, columns=columns)\n",
    "\n",
    "    plt.hist(cnts)\n",
    "    return submission"
   ]
  },
  {
   "cell_type": "code",
   "execution_count": 50,
   "metadata": {},
   "outputs": [
    {
     "data": {
      "image/png": "[encoded data removed]",
      "text/plain": [
       "<Figure size 640x480 with 1 Axes>"
      ]
     },
     "metadata": {},
     "output_type": "display_data"
    }
   ],
   "source": [
    "sub = make_submission(test_pred_list)"
   ]
  },
  {
   "cell_type": "code",
   "execution_count": 51,
   "metadata": {},
   "outputs": [
    {
     "data": {
      "text/html": [
       "<div>\n",
       "<style scoped>\n",
       "    .dataframe tbody tr th:only-of-type {\n",
       "        vertical-align: middle;\n",
       "    }\n",
       "\n",
       "    .dataframe tbody tr th {\n",
       "        vertical-align: top;\n",
       "    }\n",
       "\n",
       "    .dataframe thead th {\n",
       "        text-align: right;\n",
       "    }\n",
       "</style>\n",
       "<table border=\"1\" class=\"dataframe\">\n",
       "  <thead>\n",
       "    <tr style=\"text-align: right;\">\n",
       "      <th></th>\n",
       "      <th>predict_0</th>\n",
       "      <th>predict_1</th>\n",
       "      <th>predict_2</th>\n",
       "      <th>predict_3</th>\n",
       "      <th>predict_4</th>\n",
       "      <th>predict_5</th>\n",
       "      <th>predict_6</th>\n",
       "      <th>predict_7</th>\n",
       "      <th>predict_8</th>\n",
       "      <th>predict_9</th>\n",
       "    </tr>\n",
       "  </thead>\n",
       "  <tbody>\n",
       "    <tr>\n",
       "      <th>0</th>\n",
       "      <td>3560</td>\n",
       "      <td>9534</td>\n",
       "      <td>11561</td>\n",
       "      <td>5466</td>\n",
       "      <td>6488</td>\n",
       "      <td>4714</td>\n",
       "      <td>2680</td>\n",
       "      <td>6563</td>\n",
       "      <td>4420</td>\n",
       "      <td>5785</td>\n",
       "    </tr>\n",
       "    <tr>\n",
       "      <th>1</th>\n",
       "      <td>8108</td>\n",
       "      <td>6129</td>\n",
       "      <td>143</td>\n",
       "      <td>613</td>\n",
       "      <td>4066</td>\n",
       "      <td>7014</td>\n",
       "      <td>11923</td>\n",
       "      <td>10095</td>\n",
       "      <td>11237</td>\n",
       "      <td>9323</td>\n",
       "    </tr>\n",
       "    <tr>\n",
       "      <th>2</th>\n",
       "      <td>757</td>\n",
       "      <td>7710</td>\n",
       "      <td>9190</td>\n",
       "      <td>9910</td>\n",
       "      <td>1774</td>\n",
       "      <td>13570</td>\n",
       "      <td>410</td>\n",
       "      <td>10485</td>\n",
       "      <td>6721</td>\n",
       "      <td>6730</td>\n",
       "    </tr>\n",
       "    <tr>\n",
       "      <th>3</th>\n",
       "      <td>12341</td>\n",
       "      <td>6991</td>\n",
       "      <td>3359</td>\n",
       "      <td>13521</td>\n",
       "      <td>1542</td>\n",
       "      <td>10861</td>\n",
       "      <td>10746</td>\n",
       "      <td>4180</td>\n",
       "      <td>9319</td>\n",
       "      <td>5657</td>\n",
       "    </tr>\n",
       "    <tr>\n",
       "      <th>4</th>\n",
       "      <td>2862</td>\n",
       "      <td>9020</td>\n",
       "      <td>763</td>\n",
       "      <td>10826</td>\n",
       "      <td>11480</td>\n",
       "      <td>607</td>\n",
       "      <td>13235</td>\n",
       "      <td>5650</td>\n",
       "      <td>3476</td>\n",
       "      <td>12524</td>\n",
       "    </tr>\n",
       "    <tr>\n",
       "      <th>...</th>\n",
       "      <td>...</td>\n",
       "      <td>...</td>\n",
       "      <td>...</td>\n",
       "      <td>...</td>\n",
       "      <td>...</td>\n",
       "      <td>...</td>\n",
       "      <td>...</td>\n",
       "      <td>...</td>\n",
       "      <td>...</td>\n",
       "      <td>...</td>\n",
       "    </tr>\n",
       "    <tr>\n",
       "      <th>174695</th>\n",
       "      <td>1997</td>\n",
       "      <td>7888</td>\n",
       "      <td>5744</td>\n",
       "      <td>12942</td>\n",
       "      <td>11123</td>\n",
       "      <td>7062</td>\n",
       "      <td>9743</td>\n",
       "      <td>6813</td>\n",
       "      <td>10997</td>\n",
       "      <td>7780</td>\n",
       "    </tr>\n",
       "    <tr>\n",
       "      <th>174696</th>\n",
       "      <td>4014</td>\n",
       "      <td>3802</td>\n",
       "      <td>1227</td>\n",
       "      <td>899</td>\n",
       "      <td>12432</td>\n",
       "      <td>3644</td>\n",
       "      <td>2232</td>\n",
       "      <td>13220</td>\n",
       "      <td>9723</td>\n",
       "      <td>6874</td>\n",
       "    </tr>\n",
       "    <tr>\n",
       "      <th>174697</th>\n",
       "      <td>13241</td>\n",
       "      <td>11037</td>\n",
       "      <td>844</td>\n",
       "      <td>13719</td>\n",
       "      <td>8143</td>\n",
       "      <td>13797</td>\n",
       "      <td>8123</td>\n",
       "      <td>7379</td>\n",
       "      <td>5944</td>\n",
       "      <td>12132</td>\n",
       "    </tr>\n",
       "    <tr>\n",
       "      <th>174698</th>\n",
       "      <td>3100</td>\n",
       "      <td>13672</td>\n",
       "      <td>3002</td>\n",
       "      <td>2373</td>\n",
       "      <td>5515</td>\n",
       "      <td>1687</td>\n",
       "      <td>6034</td>\n",
       "      <td>4483</td>\n",
       "      <td>5513</td>\n",
       "      <td>2407</td>\n",
       "    </tr>\n",
       "    <tr>\n",
       "      <th>174699</th>\n",
       "      <td>12767</td>\n",
       "      <td>8648</td>\n",
       "      <td>867</td>\n",
       "      <td>11723</td>\n",
       "      <td>10729</td>\n",
       "      <td>1891</td>\n",
       "      <td>3781</td>\n",
       "      <td>5623</td>\n",
       "      <td>12522</td>\n",
       "      <td>1989</td>\n",
       "    </tr>\n",
       "  </tbody>\n",
       "</table>\n",
       "<p>174700 rows × 10 columns</p>\n",
       "</div>"
      ],
      "text/plain": [
       "        predict_0  predict_1  predict_2  predict_3  predict_4  predict_5  \\\n",
       "0            3560       9534      11561       5466       6488       4714   \n",
       "1            8108       6129        143        613       4066       7014   \n",
       "2             757       7710       9190       9910       1774      13570   \n",
       "3           12341       6991       3359      13521       1542      10861   \n",
       "4            2862       9020        763      10826      11480        607   \n",
       "...           ...        ...        ...        ...        ...        ...   \n",
       "174695       1997       7888       5744      12942      11123       7062   \n",
       "174696       4014       3802       1227        899      12432       3644   \n",
       "174697      13241      11037        844      13719       8143      13797   \n",
       "174698       3100      13672       3002       2373       5515       1687   \n",
       "174699      12767       8648        867      11723      10729       1891   \n",
       "\n",
       "        predict_6  predict_7  predict_8  predict_9  \n",
       "0            2680       6563       4420       5785  \n",
       "1           11923      10095      11237       9323  \n",
       "2             410      10485       6721       6730  \n",
       "3           10746       4180       9319       5657  \n",
       "4           13235       5650       3476      12524  \n",
       "...           ...        ...        ...        ...  \n",
       "174695       9743       6813      10997       7780  \n",
       "174696       2232      13220       9723       6874  \n",
       "174697       8123       7379       5944      12132  \n",
       "174698       6034       4483       5513       2407  \n",
       "174699       3781       5623      12522       1989  \n",
       "\n",
       "[174700 rows x 10 columns]"
      ]
     },
     "execution_count": 51,
     "metadata": {},
     "output_type": "execute_result"
    }
   ],
   "source": [
    "sub"
   ]
  },
  {
   "cell_type": "code",
   "execution_count": 52,
   "metadata": {},
   "outputs": [],
   "source": [
    "sub.to_csv(\n",
    "    CFG.submission_dir + f'submission_{CFG.exp_name}.csv', index=False)"
   ]
  },
  {
   "cell_type": "code",
   "execution_count": null,
   "metadata": {},
   "outputs": [],
   "source": []
  },
  {
   "cell_type": "code",
   "execution_count": 53,
   "metadata": {},
   "outputs": [],
   "source": [
    "# sessionが変わるところで1行空けて、ログを見やすいようにする\n",
    "def save_log_df(log_df):\n",
    "    results = []\n",
    "    prev_session_id = log_df.iloc[0]['session_id']\n",
    "    for _, row in log_df.iterrows():\n",
    "        session_id = row['session_id']\n",
    "        if prev_session_id != session_id:\n",
    "            results.append([np.nan]*len(log_df.columns))\n",
    "        results.append(row.tolist())\n",
    "        prev_session_id = session_id\n",
    "    \n",
    "    results = pd.DataFrame(results, columns=log_df.columns)\n",
    "\n",
    "    return results"
   ]
  },
  {
   "cell_type": "code",
   "execution_count": 54,
   "metadata": {},
   "outputs": [],
   "source": [
    "save_log_df(oof.head(10000)).to_csv(CFG.outputs_path + 'oof_1000.csv', index=False)"
   ]
  },
  {
   "cell_type": "code",
   "execution_count": 55,
   "metadata": {},
   "outputs": [],
   "source": [
    "oof.sort_values(['yad_no', 'session_id', 'pred_0'], ascending=[True, True, False]).head(10000).to_csv(CFG.outputs_path + 'oof_1000_type2.csv', index=False)"
   ]
  },
  {
   "cell_type": "markdown",
   "metadata": {},
   "source": [
    "## train test 重複"
   ]
  },
  {
   "cell_type": "code",
   "execution_count": 56,
   "metadata": {},
   "outputs": [],
   "source": [
    "train_session_to_log_yad_dict = train_log_df.groupby('session_id')['yad_no'].apply(tuple).to_dict()\n",
    "test_session_to_log_yad_dict = test_log_df.groupby('session_id')['yad_no'].apply(tuple).to_dict()"
   ]
  },
  {
   "cell_type": "code",
   "execution_count": 57,
   "metadata": {},
   "outputs": [],
   "source": [
    "train_log_yad_tuple_set = set(list(train_session_to_log_yad_dict.values()))\n",
    "test_log_yad_tuple_set = set(list(test_session_to_log_yad_dict.values()))"
   ]
  },
  {
   "cell_type": "code",
   "execution_count": 58,
   "metadata": {},
   "outputs": [
    {
     "data": {
      "text/plain": [
       "(100379, 64516)"
      ]
     },
     "execution_count": 58,
     "metadata": {},
     "output_type": "execute_result"
    }
   ],
   "source": [
    "len(train_log_yad_tuple_set), len(test_log_yad_tuple_set)"
   ]
  },
  {
   "cell_type": "code",
   "execution_count": 59,
   "metadata": {},
   "outputs": [
    {
     "data": {
      "text/plain": [
       "43920"
      ]
     },
     "execution_count": 59,
     "metadata": {},
     "output_type": "execute_result"
    }
   ],
   "source": [
    "# test内の約2/3が重複\n",
    "len((train_log_yad_tuple_set & test_log_yad_tuple_set))"
   ]
  },
  {
   "cell_type": "code",
   "execution_count": 60,
   "metadata": {},
   "outputs": [],
   "source": [
    "duplicated_session_list = []\n",
    "for session_id, log_yad_tuple in test_session_to_log_yad_dict.items():\n",
    "    if log_yad_tuple in train_log_yad_tuple_set:\n",
    "        duplicated_session_list.append(session_id)\n",
    "duplicated_session_df = pd.DataFrame(duplicated_session_list, columns=['session_id'])\n",
    "duplicated_session_df['is_log_duplicated'] = 1"
   ]
  },
  {
   "cell_type": "code",
   "execution_count": 61,
   "metadata": {},
   "outputs": [],
   "source": [
    "sub_oof = pd.merge(sub_oof, duplicated_session_df, on='session_id', how='left')\n",
    "sub_oof['is_log_duplicated'] = sub_oof['is_log_duplicated'].fillna(0)"
   ]
  },
  {
   "cell_type": "code",
   "execution_count": 62,
   "metadata": {},
   "outputs": [
    {
     "data": {
      "image/png": "[encoded data removed]",
      "text/plain": [
       "<Figure size 640x480 with 1 Axes>"
      ]
     },
     "metadata": {},
     "output_type": "display_data"
    },
    {
     "data": {
      "image/png": "[encoded data removed]",
      "text/plain": [
       "<Figure size 640x480 with 1 Axes>"
      ]
     },
     "metadata": {},
     "output_type": "display_data"
    }
   ],
   "source": [
    "for is_duplicated in [0, 1]:\n",
    "\n",
    "  plt.hist(oof['pred_0'], density=True, alpha=0.5, label='oof', bins=20)\n",
    "  plt.hist(sub_oof[sub_oof['is_log_duplicated']==is_duplicated]['pred_0'], density=True, alpha=0.5, label='sub', bins=20)\n",
    "\n",
    "  plt.legend()\n",
    "  plt.title(f'is_duplicated: {is_duplicated}')\n",
    "  plt.show()"
   ]
  },
  {
   "cell_type": "code",
   "execution_count": null,
   "metadata": {},
   "outputs": [],
   "source": []
  },
  {
   "cell_type": "code",
   "execution_count": null,
   "metadata": {},
   "outputs": [],
   "source": []
  }
 ],
 "metadata": {
  "kernelspec": {
   "display_name": "kaggle-pipeline-2ixCeVJT-py3.10",
   "language": "python",
   "name": "python3"
  },
  "language_info": {
   "codemirror_mode": {
    "name": "ipython",
    "version": 3
   },
   "file_extension": ".py",
   "mimetype": "text/x-python",
   "name": "python",
   "nbconvert_exporter": "python",
   "pygments_lexer": "ipython3",
   "version": "3.10.9"
  },
  "orig_nbformat": 4,
  "vscode": {
   "interpreter": {
    "hash": "bbd774c8c6a1d975c7d6497c9e6d31e74c7804a61e2a00176a171e7e695cdf53"
   }
  }
 },
 "nbformat": 4,
 "nbformat_minor": 2
}
